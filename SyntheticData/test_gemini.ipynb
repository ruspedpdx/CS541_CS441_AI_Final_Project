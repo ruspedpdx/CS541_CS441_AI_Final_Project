{
 "cells": [
  {
   "cell_type": "code",
   "execution_count": 52,
   "id": "69bbe597-caae-4f56-aa1c-684e018b6e55",
   "metadata": {
    "collapsed": true,
    "jupyter": {
     "outputs_hidden": true
    },
    "scrolled": true
   },
   "outputs": [
    {
     "name": "stderr",
     "output_type": "stream",
     "text": [
      "WARNING: You are using pip version 21.2.4; however, version 24.0 is available."
     ]
    },
    {
     "name": "stdout",
     "output_type": "stream",
     "text": [
      "Requirement already satisfied: dspy-ai in c:\\users\\dbake\\documents\\grep_boi\\cs541_cs441_ai_final_project\\syntheticdata\\synth-env\\lib\\site-packages (2.4.9)"
     ]
    },
    {
     "name": "stderr",
     "output_type": "stream",
     "text": [
      "\n"
     ]
    },
    {
     "name": "stdout",
     "output_type": "stream",
     "text": [
      "\n",
      "Requirement already satisfied: optuna in c:\\users\\dbake\\documents\\grep_boi\\cs541_cs441_ai_final_project\\syntheticdata\\synth-env\\lib\\site-packages (from dspy-ai) (3.6.1)"
     ]
    },
    {
     "name": "stderr",
     "output_type": "stream",
     "text": [
      "You should consider upgrading via the 'C:\\Users\\dbake\\Documents\\GREP_Boi\\CS541_CS441_AI_Final_Project\\SyntheticData\\synth-env\\Scripts\\python.exe -m pip install --upgrade pip' command."
     ]
    },
    {
     "name": "stdout",
     "output_type": "stream",
     "text": [
      "\n"
     ]
    },
    {
     "name": "stderr",
     "output_type": "stream",
     "text": [
      "\n"
     ]
    },
    {
     "name": "stdout",
     "output_type": "stream",
     "text": [
      "Requirement already satisfied: ujson in c:\\users\\dbake\\documents\\grep_boi\\cs541_cs441_ai_final_project\\syntheticdata\\synth-env\\lib\\site-packages (from dspy-ai) (5.10.0)\n",
      "Requirement already satisfied: pandas in c:\\users\\dbake\\documents\\grep_boi\\cs541_cs441_ai_final_project\\syntheticdata\\synth-env\\lib\\site-packages (from dspy-ai) (2.2.2)\n",
      "Requirement already satisfied: tqdm in c:\\users\\dbake\\documents\\grep_boi\\cs541_cs441_ai_final_project\\syntheticdata\\synth-env\\lib\\site-packages (from dspy-ai) (4.66.4)\n",
      "Requirement already satisfied: requests in c:\\users\\dbake\\documents\\grep_boi\\cs541_cs441_ai_final_project\\syntheticdata\\synth-env\\lib\\site-packages (from dspy-ai) (2.32.3)\n",
      "Requirement already satisfied: datasets<3.0.0,~=2.14.6 in c:\\users\\dbake\\documents\\grep_boi\\cs541_cs441_ai_final_project\\syntheticdata\\synth-env\\lib\\site-packages (from dspy-ai) (2.14.7)Note: you may need to restart the kernel to use updated packages.\n",
      "\n",
      "Requirement already satisfied: structlog in c:\\users\\dbake\\documents\\grep_boi\\cs541_cs441_ai_final_project\\syntheticdata\\synth-env\\lib\\site-packages (from dspy-ai) (24.2.0)\n",
      "Requirement already satisfied: joblib~=1.3.2 in c:\\users\\dbake\\documents\\grep_boi\\cs541_cs441_ai_final_project\\syntheticdata\\synth-env\\lib\\site-packages (from dspy-ai) (1.3.2)\n",
      "Requirement already satisfied: regex in c:\\users\\dbake\\documents\\grep_boi\\cs541_cs441_ai_final_project\\syntheticdata\\synth-env\\lib\\site-packages (from dspy-ai) (2024.5.15)\n",
      "Requirement already satisfied: backoff~=2.2.1 in c:\\users\\dbake\\documents\\grep_boi\\cs541_cs441_ai_final_project\\syntheticdata\\synth-env\\lib\\site-packages (from dspy-ai) (2.2.1)\n",
      "Requirement already satisfied: openai<2.0.0,>=0.28.1 in c:\\users\\dbake\\documents\\grep_boi\\cs541_cs441_ai_final_project\\syntheticdata\\synth-env\\lib\\site-packages (from dspy-ai) (1.33.0)\n",
      "Requirement already satisfied: pydantic~=2.0 in c:\\users\\dbake\\documents\\grep_boi\\cs541_cs441_ai_final_project\\syntheticdata\\synth-env\\lib\\site-packages (from dspy-ai) (2.7.3)\n",
      "Requirement already satisfied: packaging in c:\\users\\dbake\\documents\\grep_boi\\cs541_cs441_ai_final_project\\syntheticdata\\synth-env\\lib\\site-packages (from datasets<3.0.0,~=2.14.6->dspy-ai) (24.0)\n",
      "Requirement already satisfied: dill<0.3.8,>=0.3.0 in c:\\users\\dbake\\documents\\grep_boi\\cs541_cs441_ai_final_project\\syntheticdata\\synth-env\\lib\\site-packages (from datasets<3.0.0,~=2.14.6->dspy-ai) (0.3.7)\n",
      "Requirement already satisfied: pyarrow>=8.0.0 in c:\\users\\dbake\\documents\\grep_boi\\cs541_cs441_ai_final_project\\syntheticdata\\synth-env\\lib\\site-packages (from datasets<3.0.0,~=2.14.6->dspy-ai) (16.1.0)\n",
      "Requirement already satisfied: aiohttp in c:\\users\\dbake\\documents\\grep_boi\\cs541_cs441_ai_final_project\\syntheticdata\\synth-env\\lib\\site-packages (from datasets<3.0.0,~=2.14.6->dspy-ai) (3.9.5)\n",
      "Requirement already satisfied: pyyaml>=5.1 in c:\\users\\dbake\\documents\\grep_boi\\cs541_cs441_ai_final_project\\syntheticdata\\synth-env\\lib\\site-packages (from datasets<3.0.0,~=2.14.6->dspy-ai) (6.0.1)\n",
      "Requirement already satisfied: xxhash in c:\\users\\dbake\\documents\\grep_boi\\cs541_cs441_ai_final_project\\syntheticdata\\synth-env\\lib\\site-packages (from datasets<3.0.0,~=2.14.6->dspy-ai) (3.4.1)\n",
      "Requirement already satisfied: numpy>=1.17 in c:\\users\\dbake\\documents\\grep_boi\\cs541_cs441_ai_final_project\\syntheticdata\\synth-env\\lib\\site-packages (from datasets<3.0.0,~=2.14.6->dspy-ai) (1.26.4)\n",
      "Requirement already satisfied: fsspec[http]<=2023.10.0,>=2023.1.0 in c:\\users\\dbake\\documents\\grep_boi\\cs541_cs441_ai_final_project\\syntheticdata\\synth-env\\lib\\site-packages (from datasets<3.0.0,~=2.14.6->dspy-ai) (2023.10.0)\n",
      "Requirement already satisfied: multiprocess in c:\\users\\dbake\\documents\\grep_boi\\cs541_cs441_ai_final_project\\syntheticdata\\synth-env\\lib\\site-packages (from datasets<3.0.0,~=2.14.6->dspy-ai) (0.70.15)\n",
      "Requirement already satisfied: pyarrow-hotfix in c:\\users\\dbake\\documents\\grep_boi\\cs541_cs441_ai_final_project\\syntheticdata\\synth-env\\lib\\site-packages (from datasets<3.0.0,~=2.14.6->dspy-ai) (0.6)\n",
      "Requirement already satisfied: huggingface-hub<1.0.0,>=0.14.0 in c:\\users\\dbake\\documents\\grep_boi\\cs541_cs441_ai_final_project\\syntheticdata\\synth-env\\lib\\site-packages (from datasets<3.0.0,~=2.14.6->dspy-ai) (0.23.3)\n",
      "Requirement already satisfied: aiosignal>=1.1.2 in c:\\users\\dbake\\documents\\grep_boi\\cs541_cs441_ai_final_project\\syntheticdata\\synth-env\\lib\\site-packages (from aiohttp->datasets<3.0.0,~=2.14.6->dspy-ai) (1.3.1)\n",
      "Requirement already satisfied: multidict<7.0,>=4.5 in c:\\users\\dbake\\documents\\grep_boi\\cs541_cs441_ai_final_project\\syntheticdata\\synth-env\\lib\\site-packages (from aiohttp->datasets<3.0.0,~=2.14.6->dspy-ai) (6.0.5)\n",
      "Requirement already satisfied: async-timeout<5.0,>=4.0 in c:\\users\\dbake\\documents\\grep_boi\\cs541_cs441_ai_final_project\\syntheticdata\\synth-env\\lib\\site-packages (from aiohttp->datasets<3.0.0,~=2.14.6->dspy-ai) (4.0.3)\n",
      "Requirement already satisfied: frozenlist>=1.1.1 in c:\\users\\dbake\\documents\\grep_boi\\cs541_cs441_ai_final_project\\syntheticdata\\synth-env\\lib\\site-packages (from aiohttp->datasets<3.0.0,~=2.14.6->dspy-ai) (1.4.1)\n",
      "Requirement already satisfied: yarl<2.0,>=1.0 in c:\\users\\dbake\\documents\\grep_boi\\cs541_cs441_ai_final_project\\syntheticdata\\synth-env\\lib\\site-packages (from aiohttp->datasets<3.0.0,~=2.14.6->dspy-ai) (1.9.4)\n",
      "Requirement already satisfied: attrs>=17.3.0 in c:\\users\\dbake\\documents\\grep_boi\\cs541_cs441_ai_final_project\\syntheticdata\\synth-env\\lib\\site-packages (from aiohttp->datasets<3.0.0,~=2.14.6->dspy-ai) (23.2.0)\n",
      "Requirement already satisfied: typing-extensions>=3.7.4.3 in c:\\users\\dbake\\documents\\grep_boi\\cs541_cs441_ai_final_project\\syntheticdata\\synth-env\\lib\\site-packages (from huggingface-hub<1.0.0,>=0.14.0->datasets<3.0.0,~=2.14.6->dspy-ai) (4.12.2)\n",
      "Requirement already satisfied: filelock in c:\\users\\dbake\\documents\\grep_boi\\cs541_cs441_ai_final_project\\syntheticdata\\synth-env\\lib\\site-packages (from huggingface-hub<1.0.0,>=0.14.0->datasets<3.0.0,~=2.14.6->dspy-ai) (3.14.0)\n",
      "Requirement already satisfied: anyio<5,>=3.5.0 in c:\\users\\dbake\\documents\\grep_boi\\cs541_cs441_ai_final_project\\syntheticdata\\synth-env\\lib\\site-packages (from openai<2.0.0,>=0.28.1->dspy-ai) (4.4.0)\n",
      "Requirement already satisfied: httpx<1,>=0.23.0 in c:\\users\\dbake\\documents\\grep_boi\\cs541_cs441_ai_final_project\\syntheticdata\\synth-env\\lib\\site-packages (from openai<2.0.0,>=0.28.1->dspy-ai) (0.27.0)\n",
      "Requirement already satisfied: distro<2,>=1.7.0 in c:\\users\\dbake\\documents\\grep_boi\\cs541_cs441_ai_final_project\\syntheticdata\\synth-env\\lib\\site-packages (from openai<2.0.0,>=0.28.1->dspy-ai) (1.9.0)\n",
      "Requirement already satisfied: sniffio in c:\\users\\dbake\\documents\\grep_boi\\cs541_cs441_ai_final_project\\syntheticdata\\synth-env\\lib\\site-packages (from openai<2.0.0,>=0.28.1->dspy-ai) (1.3.1)\n",
      "Requirement already satisfied: idna>=2.8 in c:\\users\\dbake\\documents\\grep_boi\\cs541_cs441_ai_final_project\\syntheticdata\\synth-env\\lib\\site-packages (from anyio<5,>=3.5.0->openai<2.0.0,>=0.28.1->dspy-ai) (3.7)\n",
      "Requirement already satisfied: exceptiongroup>=1.0.2 in c:\\users\\dbake\\documents\\grep_boi\\cs541_cs441_ai_final_project\\syntheticdata\\synth-env\\lib\\site-packages (from anyio<5,>=3.5.0->openai<2.0.0,>=0.28.1->dspy-ai) (1.2.1)\n",
      "Requirement already satisfied: certifi in c:\\users\\dbake\\documents\\grep_boi\\cs541_cs441_ai_final_project\\syntheticdata\\synth-env\\lib\\site-packages (from httpx<1,>=0.23.0->openai<2.0.0,>=0.28.1->dspy-ai) (2024.6.2)\n",
      "Requirement already satisfied: httpcore==1.* in c:\\users\\dbake\\documents\\grep_boi\\cs541_cs441_ai_final_project\\syntheticdata\\synth-env\\lib\\site-packages (from httpx<1,>=0.23.0->openai<2.0.0,>=0.28.1->dspy-ai) (1.0.5)\n",
      "Requirement already satisfied: h11<0.15,>=0.13 in c:\\users\\dbake\\documents\\grep_boi\\cs541_cs441_ai_final_project\\syntheticdata\\synth-env\\lib\\site-packages (from httpcore==1.*->httpx<1,>=0.23.0->openai<2.0.0,>=0.28.1->dspy-ai) (0.14.0)\n",
      "Requirement already satisfied: annotated-types>=0.4.0 in c:\\users\\dbake\\documents\\grep_boi\\cs541_cs441_ai_final_project\\syntheticdata\\synth-env\\lib\\site-packages (from pydantic~=2.0->dspy-ai) (0.7.0)\n",
      "Requirement already satisfied: pydantic-core==2.18.4 in c:\\users\\dbake\\documents\\grep_boi\\cs541_cs441_ai_final_project\\syntheticdata\\synth-env\\lib\\site-packages (from pydantic~=2.0->dspy-ai) (2.18.4)\n",
      "Requirement already satisfied: urllib3<3,>=1.21.1 in c:\\users\\dbake\\documents\\grep_boi\\cs541_cs441_ai_final_project\\syntheticdata\\synth-env\\lib\\site-packages (from requests->dspy-ai) (2.2.1)\n",
      "Requirement already satisfied: charset-normalizer<4,>=2 in c:\\users\\dbake\\documents\\grep_boi\\cs541_cs441_ai_final_project\\syntheticdata\\synth-env\\lib\\site-packages (from requests->dspy-ai) (3.3.2)\n",
      "Requirement already satisfied: colorama in c:\\users\\dbake\\documents\\grep_boi\\cs541_cs441_ai_final_project\\syntheticdata\\synth-env\\lib\\site-packages (from tqdm->dspy-ai) (0.4.6)\n",
      "Requirement already satisfied: alembic>=1.5.0 in c:\\users\\dbake\\documents\\grep_boi\\cs541_cs441_ai_final_project\\syntheticdata\\synth-env\\lib\\site-packages (from optuna->dspy-ai) (1.13.1)\n",
      "Requirement already satisfied: sqlalchemy>=1.3.0 in c:\\users\\dbake\\documents\\grep_boi\\cs541_cs441_ai_final_project\\syntheticdata\\synth-env\\lib\\site-packages (from optuna->dspy-ai) (2.0.30)\n",
      "Requirement already satisfied: colorlog in c:\\users\\dbake\\documents\\grep_boi\\cs541_cs441_ai_final_project\\syntheticdata\\synth-env\\lib\\site-packages (from optuna->dspy-ai) (6.8.2)\n",
      "Requirement already satisfied: Mako in c:\\users\\dbake\\documents\\grep_boi\\cs541_cs441_ai_final_project\\syntheticdata\\synth-env\\lib\\site-packages (from alembic>=1.5.0->optuna->dspy-ai) (1.3.5)\n",
      "Requirement already satisfied: greenlet!=0.4.17 in c:\\users\\dbake\\documents\\grep_boi\\cs541_cs441_ai_final_project\\syntheticdata\\synth-env\\lib\\site-packages (from sqlalchemy>=1.3.0->optuna->dspy-ai) (3.0.3)\n",
      "Requirement already satisfied: MarkupSafe>=0.9.2 in c:\\users\\dbake\\documents\\grep_boi\\cs541_cs441_ai_final_project\\syntheticdata\\synth-env\\lib\\site-packages (from Mako->alembic>=1.5.0->optuna->dspy-ai) (2.1.5)\n",
      "Requirement already satisfied: pytz>=2020.1 in c:\\users\\dbake\\documents\\grep_boi\\cs541_cs441_ai_final_project\\syntheticdata\\synth-env\\lib\\site-packages (from pandas->dspy-ai) (2024.1)\n",
      "Requirement already satisfied: python-dateutil>=2.8.2 in c:\\users\\dbake\\documents\\grep_boi\\cs541_cs441_ai_final_project\\syntheticdata\\synth-env\\lib\\site-packages (from pandas->dspy-ai) (2.9.0.post0)\n",
      "Requirement already satisfied: tzdata>=2022.7 in c:\\users\\dbake\\documents\\grep_boi\\cs541_cs441_ai_final_project\\syntheticdata\\synth-env\\lib\\site-packages (from pandas->dspy-ai) (2024.1)\n",
      "Requirement already satisfied: six>=1.5 in c:\\users\\dbake\\documents\\grep_boi\\cs541_cs441_ai_final_project\\syntheticdata\\synth-env\\lib\\site-packages (from python-dateutil>=2.8.2->pandas->dspy-ai) (1.16.0)\n"
     ]
    }
   ],
   "source": [
    "pip install dspy-ai"
   ]
  },
  {
   "cell_type": "code",
   "execution_count": 53,
   "id": "6399f9bc-7927-4da3-a908-042673de2190",
   "metadata": {
    "collapsed": true,
    "jupyter": {
     "outputs_hidden": true
    },
    "scrolled": true
   },
   "outputs": [
    {
     "name": "stdout",
     "output_type": "stream",
     "text": [
      "Requirement already satisfied: jupyter in c:\\users\\dbake\\documents\\grep_boi\\cs541_cs441_ai_final_project\\syntheticdata\\synth-env\\lib\\site-packages (1.0.0)"
     ]
    },
    {
     "name": "stderr",
     "output_type": "stream",
     "text": [
      "WARNING: You are using pip version 21.2.4; however, version 24.0 is available."
     ]
    },
    {
     "name": "stdout",
     "output_type": "stream",
     "text": [
      "\n"
     ]
    },
    {
     "name": "stderr",
     "output_type": "stream",
     "text": [
      "\n"
     ]
    },
    {
     "name": "stdout",
     "output_type": "stream",
     "text": [
      "Requirement already satisfied: ipywidgets in c:\\users\\dbake\\documents\\grep_boi\\cs541_cs441_ai_final_project\\syntheticdata\\synth-env\\lib\\site-packages (from jupyter) (8.1.3)"
     ]
    },
    {
     "name": "stderr",
     "output_type": "stream",
     "text": [
      "You should consider upgrading via the 'C:\\Users\\dbake\\Documents\\GREP_Boi\\CS541_CS441_AI_Final_Project\\SyntheticData\\synth-env\\Scripts\\python.exe -m pip install --upgrade pip' command."
     ]
    },
    {
     "name": "stdout",
     "output_type": "stream",
     "text": [
      "\n"
     ]
    },
    {
     "name": "stderr",
     "output_type": "stream",
     "text": [
      "\n"
     ]
    },
    {
     "name": "stdout",
     "output_type": "stream",
     "text": [
      "Requirement already satisfied: ipykernel in c:\\users\\dbake\\documents\\grep_boi\\cs541_cs441_ai_final_project\\syntheticdata\\synth-env\\lib\\site-packages (from jupyter) (6.29.4)\n",
      "Requirement already satisfied: notebook in c:\\users\\dbake\\documents\\grep_boi\\cs541_cs441_ai_final_project\\syntheticdata\\synth-env\\lib\\site-packages (from jupyter) (7.2.1)\n",
      "Requirement already satisfied: qtconsole in c:\\users\\dbake\\documents\\grep_boi\\cs541_cs441_ai_final_project\\syntheticdata\\synth-env\\lib\\site-packages (from jupyter) (5.5.2)\n",
      "Requirement already satisfied: jupyter-console in c:\\users\\dbake\\documents\\grep_boi\\cs541_cs441_ai_final_project\\syntheticdata\\synth-env\\lib\\site-packages (from jupyter) (6.6.3)\n",
      "Requirement already satisfied: nbconvert in c:\\users\\dbake\\documents\\grep_boi\\cs541_cs441_ai_final_project\\syntheticdata\\synth-env\\lib\\site-packages (from jupyter) (7.16.4)Note: you may need to restart the kernel to use updated packages.\n",
      "\n",
      "Requirement already satisfied: ipython>=7.23.1 in c:\\users\\dbake\\documents\\grep_boi\\cs541_cs441_ai_final_project\\syntheticdata\\synth-env\\lib\\site-packages (from ipykernel->jupyter) (8.25.0)\n",
      "Requirement already satisfied: tornado>=6.1 in c:\\users\\dbake\\documents\\grep_boi\\cs541_cs441_ai_final_project\\syntheticdata\\synth-env\\lib\\site-packages (from ipykernel->jupyter) (6.4.1)\n",
      "Requirement already satisfied: jupyter-client>=6.1.12 in c:\\users\\dbake\\documents\\grep_boi\\cs541_cs441_ai_final_project\\syntheticdata\\synth-env\\lib\\site-packages (from ipykernel->jupyter) (8.6.2)\n",
      "Requirement already satisfied: debugpy>=1.6.5 in c:\\users\\dbake\\documents\\grep_boi\\cs541_cs441_ai_final_project\\syntheticdata\\synth-env\\lib\\site-packages (from ipykernel->jupyter) (1.8.1)\n",
      "Requirement already satisfied: matplotlib-inline>=0.1 in c:\\users\\dbake\\documents\\grep_boi\\cs541_cs441_ai_final_project\\syntheticdata\\synth-env\\lib\\site-packages (from ipykernel->jupyter) (0.1.7)\n",
      "Requirement already satisfied: jupyter-core!=5.0.*,>=4.12 in c:\\users\\dbake\\documents\\grep_boi\\cs541_cs441_ai_final_project\\syntheticdata\\synth-env\\lib\\site-packages (from ipykernel->jupyter) (5.7.2)\n",
      "Requirement already satisfied: nest-asyncio in c:\\users\\dbake\\documents\\grep_boi\\cs541_cs441_ai_final_project\\syntheticdata\\synth-env\\lib\\site-packages (from ipykernel->jupyter) (1.6.0)\n",
      "Requirement already satisfied: packaging in c:\\users\\dbake\\documents\\grep_boi\\cs541_cs441_ai_final_project\\syntheticdata\\synth-env\\lib\\site-packages (from ipykernel->jupyter) (24.0)\n",
      "Requirement already satisfied: psutil in c:\\users\\dbake\\documents\\grep_boi\\cs541_cs441_ai_final_project\\syntheticdata\\synth-env\\lib\\site-packages (from ipykernel->jupyter) (5.9.8)\n",
      "Requirement already satisfied: pyzmq>=24 in c:\\users\\dbake\\documents\\grep_boi\\cs541_cs441_ai_final_project\\syntheticdata\\synth-env\\lib\\site-packages (from ipykernel->jupyter) (26.0.3)\n",
      "Requirement already satisfied: traitlets>=5.4.0 in c:\\users\\dbake\\documents\\grep_boi\\cs541_cs441_ai_final_project\\syntheticdata\\synth-env\\lib\\site-packages (from ipykernel->jupyter) (5.14.3)\n",
      "Requirement already satisfied: comm>=0.1.1 in c:\\users\\dbake\\documents\\grep_boi\\cs541_cs441_ai_final_project\\syntheticdata\\synth-env\\lib\\site-packages (from ipykernel->jupyter) (0.2.2)\n",
      "Requirement already satisfied: exceptiongroup in c:\\users\\dbake\\documents\\grep_boi\\cs541_cs441_ai_final_project\\syntheticdata\\synth-env\\lib\\site-packages (from ipython>=7.23.1->ipykernel->jupyter) (1.2.1)\n",
      "Requirement already satisfied: colorama in c:\\users\\dbake\\documents\\grep_boi\\cs541_cs441_ai_final_project\\syntheticdata\\synth-env\\lib\\site-packages (from ipython>=7.23.1->ipykernel->jupyter) (0.4.6)\n",
      "Requirement already satisfied: stack-data in c:\\users\\dbake\\documents\\grep_boi\\cs541_cs441_ai_final_project\\syntheticdata\\synth-env\\lib\\site-packages (from ipython>=7.23.1->ipykernel->jupyter) (0.6.3)\n",
      "Requirement already satisfied: decorator in c:\\users\\dbake\\documents\\grep_boi\\cs541_cs441_ai_final_project\\syntheticdata\\synth-env\\lib\\site-packages (from ipython>=7.23.1->ipykernel->jupyter) (5.1.1)\n",
      "Requirement already satisfied: typing-extensions>=4.6 in c:\\users\\dbake\\documents\\grep_boi\\cs541_cs441_ai_final_project\\syntheticdata\\synth-env\\lib\\site-packages (from ipython>=7.23.1->ipykernel->jupyter) (4.12.2)\n",
      "Requirement already satisfied: pygments>=2.4.0 in c:\\users\\dbake\\documents\\grep_boi\\cs541_cs441_ai_final_project\\syntheticdata\\synth-env\\lib\\site-packages (from ipython>=7.23.1->ipykernel->jupyter) (2.18.0)\n",
      "Requirement already satisfied: prompt-toolkit<3.1.0,>=3.0.41 in c:\\users\\dbake\\documents\\grep_boi\\cs541_cs441_ai_final_project\\syntheticdata\\synth-env\\lib\\site-packages (from ipython>=7.23.1->ipykernel->jupyter) (3.0.46)\n",
      "Requirement already satisfied: jedi>=0.16 in c:\\users\\dbake\\documents\\grep_boi\\cs541_cs441_ai_final_project\\syntheticdata\\synth-env\\lib\\site-packages (from ipython>=7.23.1->ipykernel->jupyter) (0.19.1)\n",
      "Requirement already satisfied: parso<0.9.0,>=0.8.3 in c:\\users\\dbake\\documents\\grep_boi\\cs541_cs441_ai_final_project\\syntheticdata\\synth-env\\lib\\site-packages (from jedi>=0.16->ipython>=7.23.1->ipykernel->jupyter) (0.8.4)\n",
      "Requirement already satisfied: python-dateutil>=2.8.2 in c:\\users\\dbake\\documents\\grep_boi\\cs541_cs441_ai_final_project\\syntheticdata\\synth-env\\lib\\site-packages (from jupyter-client>=6.1.12->ipykernel->jupyter) (2.9.0.post0)\n",
      "Requirement already satisfied: platformdirs>=2.5 in c:\\users\\dbake\\documents\\grep_boi\\cs541_cs441_ai_final_project\\syntheticdata\\synth-env\\lib\\site-packages (from jupyter-core!=5.0.*,>=4.12->ipykernel->jupyter) (4.2.2)\n",
      "Requirement already satisfied: pywin32>=300 in c:\\users\\dbake\\documents\\grep_boi\\cs541_cs441_ai_final_project\\syntheticdata\\synth-env\\lib\\site-packages (from jupyter-core!=5.0.*,>=4.12->ipykernel->jupyter) (306)\n",
      "Requirement already satisfied: wcwidth in c:\\users\\dbake\\documents\\grep_boi\\cs541_cs441_ai_final_project\\syntheticdata\\synth-env\\lib\\site-packages (from prompt-toolkit<3.1.0,>=3.0.41->ipython>=7.23.1->ipykernel->jupyter) (0.2.13)\n",
      "Requirement already satisfied: six>=1.5 in c:\\users\\dbake\\documents\\grep_boi\\cs541_cs441_ai_final_project\\syntheticdata\\synth-env\\lib\\site-packages (from python-dateutil>=2.8.2->jupyter-client>=6.1.12->ipykernel->jupyter) (1.16.0)\n",
      "Requirement already satisfied: widgetsnbextension~=4.0.11 in c:\\users\\dbake\\documents\\grep_boi\\cs541_cs441_ai_final_project\\syntheticdata\\synth-env\\lib\\site-packages (from ipywidgets->jupyter) (4.0.11)\n",
      "Requirement already satisfied: jupyterlab-widgets~=3.0.11 in c:\\users\\dbake\\documents\\grep_boi\\cs541_cs441_ai_final_project\\syntheticdata\\synth-env\\lib\\site-packages (from ipywidgets->jupyter) (3.0.11)\n",
      "Requirement already satisfied: bleach!=5.0.0 in c:\\users\\dbake\\documents\\grep_boi\\cs541_cs441_ai_final_project\\syntheticdata\\synth-env\\lib\\site-packages (from nbconvert->jupyter) (6.1.0)\n",
      "Requirement already satisfied: beautifulsoup4 in c:\\users\\dbake\\documents\\grep_boi\\cs541_cs441_ai_final_project\\syntheticdata\\synth-env\\lib\\site-packages (from nbconvert->jupyter) (4.12.3)\n",
      "Requirement already satisfied: pandocfilters>=1.4.1 in c:\\users\\dbake\\documents\\grep_boi\\cs541_cs441_ai_final_project\\syntheticdata\\synth-env\\lib\\site-packages (from nbconvert->jupyter) (1.5.1)\n",
      "Requirement already satisfied: jinja2>=3.0 in c:\\users\\dbake\\documents\\grep_boi\\cs541_cs441_ai_final_project\\syntheticdata\\synth-env\\lib\\site-packages (from nbconvert->jupyter) (3.1.4)\n",
      "Requirement already satisfied: mistune<4,>=2.0.3 in c:\\users\\dbake\\documents\\grep_boi\\cs541_cs441_ai_final_project\\syntheticdata\\synth-env\\lib\\site-packages (from nbconvert->jupyter) (3.0.2)\n",
      "Requirement already satisfied: nbclient>=0.5.0 in c:\\users\\dbake\\documents\\grep_boi\\cs541_cs441_ai_final_project\\syntheticdata\\synth-env\\lib\\site-packages (from nbconvert->jupyter) (0.10.0)\n",
      "Requirement already satisfied: nbformat>=5.7 in c:\\users\\dbake\\documents\\grep_boi\\cs541_cs441_ai_final_project\\syntheticdata\\synth-env\\lib\\site-packages (from nbconvert->jupyter) (5.10.4)\n",
      "Requirement already satisfied: markupsafe>=2.0 in c:\\users\\dbake\\documents\\grep_boi\\cs541_cs441_ai_final_project\\syntheticdata\\synth-env\\lib\\site-packages (from nbconvert->jupyter) (2.1.5)\n",
      "Requirement already satisfied: defusedxml in c:\\users\\dbake\\documents\\grep_boi\\cs541_cs441_ai_final_project\\syntheticdata\\synth-env\\lib\\site-packages (from nbconvert->jupyter) (0.7.1)\n",
      "Requirement already satisfied: tinycss2 in c:\\users\\dbake\\documents\\grep_boi\\cs541_cs441_ai_final_project\\syntheticdata\\synth-env\\lib\\site-packages (from nbconvert->jupyter) (1.3.0)\n",
      "Requirement already satisfied: jupyterlab-pygments in c:\\users\\dbake\\documents\\grep_boi\\cs541_cs441_ai_final_project\\syntheticdata\\synth-env\\lib\\site-packages (from nbconvert->jupyter) (0.3.0)\n",
      "Requirement already satisfied: webencodings in c:\\users\\dbake\\documents\\grep_boi\\cs541_cs441_ai_final_project\\syntheticdata\\synth-env\\lib\\site-packages (from bleach!=5.0.0->nbconvert->jupyter) (0.5.1)\n",
      "Requirement already satisfied: jsonschema>=2.6 in c:\\users\\dbake\\documents\\grep_boi\\cs541_cs441_ai_final_project\\syntheticdata\\synth-env\\lib\\site-packages (from nbformat>=5.7->nbconvert->jupyter) (4.22.0)\n",
      "Requirement already satisfied: fastjsonschema>=2.15 in c:\\users\\dbake\\documents\\grep_boi\\cs541_cs441_ai_final_project\\syntheticdata\\synth-env\\lib\\site-packages (from nbformat>=5.7->nbconvert->jupyter) (2.19.1)\n",
      "Requirement already satisfied: attrs>=22.2.0 in c:\\users\\dbake\\documents\\grep_boi\\cs541_cs441_ai_final_project\\syntheticdata\\synth-env\\lib\\site-packages (from jsonschema>=2.6->nbformat>=5.7->nbconvert->jupyter) (23.2.0)\n",
      "Requirement already satisfied: referencing>=0.28.4 in c:\\users\\dbake\\documents\\grep_boi\\cs541_cs441_ai_final_project\\syntheticdata\\synth-env\\lib\\site-packages (from jsonschema>=2.6->nbformat>=5.7->nbconvert->jupyter) (0.35.1)\n",
      "Requirement already satisfied: rpds-py>=0.7.1 in c:\\users\\dbake\\documents\\grep_boi\\cs541_cs441_ai_final_project\\syntheticdata\\synth-env\\lib\\site-packages (from jsonschema>=2.6->nbformat>=5.7->nbconvert->jupyter) (0.18.1)\n",
      "Requirement already satisfied: jsonschema-specifications>=2023.03.6 in c:\\users\\dbake\\documents\\grep_boi\\cs541_cs441_ai_final_project\\syntheticdata\\synth-env\\lib\\site-packages (from jsonschema>=2.6->nbformat>=5.7->nbconvert->jupyter) (2023.12.1)\n",
      "Requirement already satisfied: soupsieve>1.2 in c:\\users\\dbake\\documents\\grep_boi\\cs541_cs441_ai_final_project\\syntheticdata\\synth-env\\lib\\site-packages (from beautifulsoup4->nbconvert->jupyter) (2.5)\n",
      "Requirement already satisfied: notebook-shim<0.3,>=0.2 in c:\\users\\dbake\\documents\\grep_boi\\cs541_cs441_ai_final_project\\syntheticdata\\synth-env\\lib\\site-packages (from notebook->jupyter) (0.2.4)\n",
      "Requirement already satisfied: jupyterlab-server<3,>=2.27.1 in c:\\users\\dbake\\documents\\grep_boi\\cs541_cs441_ai_final_project\\syntheticdata\\synth-env\\lib\\site-packages (from notebook->jupyter) (2.27.2)\n",
      "Requirement already satisfied: jupyter-server<3,>=2.4.0 in c:\\users\\dbake\\documents\\grep_boi\\cs541_cs441_ai_final_project\\syntheticdata\\synth-env\\lib\\site-packages (from notebook->jupyter) (2.14.1)\n",
      "Requirement already satisfied: jupyterlab<4.3,>=4.2.0 in c:\\users\\dbake\\documents\\grep_boi\\cs541_cs441_ai_final_project\\syntheticdata\\synth-env\\lib\\site-packages (from notebook->jupyter) (4.2.1)\n",
      "Requirement already satisfied: prometheus-client>=0.9 in c:\\users\\dbake\\documents\\grep_boi\\cs541_cs441_ai_final_project\\syntheticdata\\synth-env\\lib\\site-packages (from jupyter-server<3,>=2.4.0->notebook->jupyter) (0.20.0)\n",
      "Requirement already satisfied: jupyter-events>=0.9.0 in c:\\users\\dbake\\documents\\grep_boi\\cs541_cs441_ai_final_project\\syntheticdata\\synth-env\\lib\\site-packages (from jupyter-server<3,>=2.4.0->notebook->jupyter) (0.10.0)\n",
      "Requirement already satisfied: websocket-client>=1.7 in c:\\users\\dbake\\documents\\grep_boi\\cs541_cs441_ai_final_project\\syntheticdata\\synth-env\\lib\\site-packages (from jupyter-server<3,>=2.4.0->notebook->jupyter) (1.8.0)\n",
      "Requirement already satisfied: terminado>=0.8.3 in c:\\users\\dbake\\documents\\grep_boi\\cs541_cs441_ai_final_project\\syntheticdata\\synth-env\\lib\\site-packages (from jupyter-server<3,>=2.4.0->notebook->jupyter) (0.18.1)\n",
      "Requirement already satisfied: overrides>=5.0 in c:\\users\\dbake\\documents\\grep_boi\\cs541_cs441_ai_final_project\\syntheticdata\\synth-env\\lib\\site-packages (from jupyter-server<3,>=2.4.0->notebook->jupyter) (7.7.0)\n",
      "Requirement already satisfied: pywinpty>=2.0.1 in c:\\users\\dbake\\documents\\grep_boi\\cs541_cs441_ai_final_project\\syntheticdata\\synth-env\\lib\\site-packages (from jupyter-server<3,>=2.4.0->notebook->jupyter) (2.0.13)\n",
      "Requirement already satisfied: send2trash>=1.8.2 in c:\\users\\dbake\\documents\\grep_boi\\cs541_cs441_ai_final_project\\syntheticdata\\synth-env\\lib\\site-packages (from jupyter-server<3,>=2.4.0->notebook->jupyter) (1.8.3)\n",
      "Requirement already satisfied: jupyter-server-terminals>=0.4.4 in c:\\users\\dbake\\documents\\grep_boi\\cs541_cs441_ai_final_project\\syntheticdata\\synth-env\\lib\\site-packages (from jupyter-server<3,>=2.4.0->notebook->jupyter) (0.5.3)\n",
      "Requirement already satisfied: anyio>=3.1.0 in c:\\users\\dbake\\documents\\grep_boi\\cs541_cs441_ai_final_project\\syntheticdata\\synth-env\\lib\\site-packages (from jupyter-server<3,>=2.4.0->notebook->jupyter) (4.4.0)\n",
      "Requirement already satisfied: argon2-cffi>=21.1 in c:\\users\\dbake\\documents\\grep_boi\\cs541_cs441_ai_final_project\\syntheticdata\\synth-env\\lib\\site-packages (from jupyter-server<3,>=2.4.0->notebook->jupyter) (23.1.0)\n",
      "Requirement already satisfied: idna>=2.8 in c:\\users\\dbake\\documents\\grep_boi\\cs541_cs441_ai_final_project\\syntheticdata\\synth-env\\lib\\site-packages (from anyio>=3.1.0->jupyter-server<3,>=2.4.0->notebook->jupyter) (3.7)\n",
      "Requirement already satisfied: sniffio>=1.1 in c:\\users\\dbake\\documents\\grep_boi\\cs541_cs441_ai_final_project\\syntheticdata\\synth-env\\lib\\site-packages (from anyio>=3.1.0->jupyter-server<3,>=2.4.0->notebook->jupyter) (1.3.1)\n",
      "Requirement already satisfied: argon2-cffi-bindings in c:\\users\\dbake\\documents\\grep_boi\\cs541_cs441_ai_final_project\\syntheticdata\\synth-env\\lib\\site-packages (from argon2-cffi>=21.1->jupyter-server<3,>=2.4.0->notebook->jupyter) (21.2.0)\n",
      "Requirement already satisfied: python-json-logger>=2.0.4 in c:\\users\\dbake\\documents\\grep_boi\\cs541_cs441_ai_final_project\\syntheticdata\\synth-env\\lib\\site-packages (from jupyter-events>=0.9.0->jupyter-server<3,>=2.4.0->notebook->jupyter) (2.0.7)\n",
      "Requirement already satisfied: rfc3986-validator>=0.1.1 in c:\\users\\dbake\\documents\\grep_boi\\cs541_cs441_ai_final_project\\syntheticdata\\synth-env\\lib\\site-packages (from jupyter-events>=0.9.0->jupyter-server<3,>=2.4.0->notebook->jupyter) (0.1.1)\n",
      "Requirement already satisfied: pyyaml>=5.3 in c:\\users\\dbake\\documents\\grep_boi\\cs541_cs441_ai_final_project\\syntheticdata\\synth-env\\lib\\site-packages (from jupyter-events>=0.9.0->jupyter-server<3,>=2.4.0->notebook->jupyter) (6.0.1)\n",
      "Requirement already satisfied: rfc3339-validator in c:\\users\\dbake\\documents\\grep_boi\\cs541_cs441_ai_final_project\\syntheticdata\\synth-env\\lib\\site-packages (from jupyter-events>=0.9.0->jupyter-server<3,>=2.4.0->notebook->jupyter) (0.1.4)\n",
      "Requirement already satisfied: isoduration in c:\\users\\dbake\\documents\\grep_boi\\cs541_cs441_ai_final_project\\syntheticdata\\synth-env\\lib\\site-packages (from jsonschema>=2.6->nbformat>=5.7->nbconvert->jupyter) (20.11.0)\n",
      "Requirement already satisfied: fqdn in c:\\users\\dbake\\documents\\grep_boi\\cs541_cs441_ai_final_project\\syntheticdata\\synth-env\\lib\\site-packages (from jsonschema>=2.6->nbformat>=5.7->nbconvert->jupyter) (1.5.1)\n",
      "Requirement already satisfied: webcolors>=1.11 in c:\\users\\dbake\\documents\\grep_boi\\cs541_cs441_ai_final_project\\syntheticdata\\synth-env\\lib\\site-packages (from jsonschema>=2.6->nbformat>=5.7->nbconvert->jupyter) (24.6.0)\n",
      "Requirement already satisfied: jsonpointer>1.13 in c:\\users\\dbake\\documents\\grep_boi\\cs541_cs441_ai_final_project\\syntheticdata\\synth-env\\lib\\site-packages (from jsonschema>=2.6->nbformat>=5.7->nbconvert->jupyter) (2.4)\n",
      "Requirement already satisfied: uri-template in c:\\users\\dbake\\documents\\grep_boi\\cs541_cs441_ai_final_project\\syntheticdata\\synth-env\\lib\\site-packages (from jsonschema>=2.6->nbformat>=5.7->nbconvert->jupyter) (1.3.0)\n",
      "Requirement already satisfied: httpx>=0.25.0 in c:\\users\\dbake\\documents\\grep_boi\\cs541_cs441_ai_final_project\\syntheticdata\\synth-env\\lib\\site-packages (from jupyterlab<4.3,>=4.2.0->notebook->jupyter) (0.27.0)\n",
      "Requirement already satisfied: async-lru>=1.0.0 in c:\\users\\dbake\\documents\\grep_boi\\cs541_cs441_ai_final_project\\syntheticdata\\synth-env\\lib\\site-packages (from jupyterlab<4.3,>=4.2.0->notebook->jupyter) (2.0.4)\n",
      "Requirement already satisfied: jupyter-lsp>=2.0.0 in c:\\users\\dbake\\documents\\grep_boi\\cs541_cs441_ai_final_project\\syntheticdata\\synth-env\\lib\\site-packages (from jupyterlab<4.3,>=4.2.0->notebook->jupyter) (2.2.5)\n",
      "Requirement already satisfied: tomli>=1.2.2 in c:\\users\\dbake\\documents\\grep_boi\\cs541_cs441_ai_final_project\\syntheticdata\\synth-env\\lib\\site-packages (from jupyterlab<4.3,>=4.2.0->notebook->jupyter) (2.0.1)\n",
      "Requirement already satisfied: httpcore==1.* in c:\\users\\dbake\\documents\\grep_boi\\cs541_cs441_ai_final_project\\syntheticdata\\synth-env\\lib\\site-packages (from httpx>=0.25.0->jupyterlab<4.3,>=4.2.0->notebook->jupyter) (1.0.5)\n",
      "Requirement already satisfied: certifi in c:\\users\\dbake\\documents\\grep_boi\\cs541_cs441_ai_final_project\\syntheticdata\\synth-env\\lib\\site-packages (from httpx>=0.25.0->jupyterlab<4.3,>=4.2.0->notebook->jupyter) (2024.6.2)\n",
      "Requirement already satisfied: h11<0.15,>=0.13 in c:\\users\\dbake\\documents\\grep_boi\\cs541_cs441_ai_final_project\\syntheticdata\\synth-env\\lib\\site-packages (from httpcore==1.*->httpx>=0.25.0->jupyterlab<4.3,>=4.2.0->notebook->jupyter) (0.14.0)\n",
      "Requirement already satisfied: json5>=0.9.0 in c:\\users\\dbake\\documents\\grep_boi\\cs541_cs441_ai_final_project\\syntheticdata\\synth-env\\lib\\site-packages (from jupyterlab-server<3,>=2.27.1->notebook->jupyter) (0.9.25)\n",
      "Requirement already satisfied: requests>=2.31 in c:\\users\\dbake\\documents\\grep_boi\\cs541_cs441_ai_final_project\\syntheticdata\\synth-env\\lib\\site-packages (from jupyterlab-server<3,>=2.27.1->notebook->jupyter) (2.32.3)\n",
      "Requirement already satisfied: babel>=2.10 in c:\\users\\dbake\\documents\\grep_boi\\cs541_cs441_ai_final_project\\syntheticdata\\synth-env\\lib\\site-packages (from jupyterlab-server<3,>=2.27.1->notebook->jupyter) (2.15.0)\n",
      "Requirement already satisfied: charset-normalizer<4,>=2 in c:\\users\\dbake\\documents\\grep_boi\\cs541_cs441_ai_final_project\\syntheticdata\\synth-env\\lib\\site-packages (from requests>=2.31->jupyterlab-server<3,>=2.27.1->notebook->jupyter) (3.3.2)\n",
      "Requirement already satisfied: urllib3<3,>=1.21.1 in c:\\users\\dbake\\documents\\grep_boi\\cs541_cs441_ai_final_project\\syntheticdata\\synth-env\\lib\\site-packages (from requests>=2.31->jupyterlab-server<3,>=2.27.1->notebook->jupyter) (2.2.1)\n",
      "Requirement already satisfied: cffi>=1.0.1 in c:\\users\\dbake\\documents\\grep_boi\\cs541_cs441_ai_final_project\\syntheticdata\\synth-env\\lib\\site-packages (from argon2-cffi-bindings->argon2-cffi>=21.1->jupyter-server<3,>=2.4.0->notebook->jupyter) (1.16.0)\n",
      "Requirement already satisfied: pycparser in c:\\users\\dbake\\documents\\grep_boi\\cs541_cs441_ai_final_project\\syntheticdata\\synth-env\\lib\\site-packages (from cffi>=1.0.1->argon2-cffi-bindings->argon2-cffi>=21.1->jupyter-server<3,>=2.4.0->notebook->jupyter) (2.22)\n",
      "Requirement already satisfied: arrow>=0.15.0 in c:\\users\\dbake\\documents\\grep_boi\\cs541_cs441_ai_final_project\\syntheticdata\\synth-env\\lib\\site-packages (from isoduration->jsonschema>=2.6->nbformat>=5.7->nbconvert->jupyter) (1.3.0)\n",
      "Requirement already satisfied: types-python-dateutil>=2.8.10 in c:\\users\\dbake\\documents\\grep_boi\\cs541_cs441_ai_final_project\\syntheticdata\\synth-env\\lib\\site-packages (from arrow>=0.15.0->isoduration->jsonschema>=2.6->nbformat>=5.7->nbconvert->jupyter) (2.9.0.20240316)\n",
      "Requirement already satisfied: qtpy>=2.4.0 in c:\\users\\dbake\\documents\\grep_boi\\cs541_cs441_ai_final_project\\syntheticdata\\synth-env\\lib\\site-packages (from qtconsole->jupyter) (2.4.1)\n",
      "Requirement already satisfied: executing>=1.2.0 in c:\\users\\dbake\\documents\\grep_boi\\cs541_cs441_ai_final_project\\syntheticdata\\synth-env\\lib\\site-packages (from stack-data->ipython>=7.23.1->ipykernel->jupyter) (2.0.1)\n",
      "Requirement already satisfied: asttokens>=2.1.0 in c:\\users\\dbake\\documents\\grep_boi\\cs541_cs441_ai_final_project\\syntheticdata\\synth-env\\lib\\site-packages (from stack-data->ipython>=7.23.1->ipykernel->jupyter) (2.4.1)\n",
      "Requirement already satisfied: pure-eval in c:\\users\\dbake\\documents\\grep_boi\\cs541_cs441_ai_final_project\\syntheticdata\\synth-env\\lib\\site-packages (from stack-data->ipython>=7.23.1->ipykernel->jupyter) (0.2.2)\n"
     ]
    }
   ],
   "source": [
    "pip install --upgrade jupyter"
   ]
  },
  {
   "cell_type": "markdown",
   "id": "5d800ad0-dfbb-4620-bcc3-205cbf7e2040",
   "metadata": {},
   "source": [
    "## Set up basic evaluation"
   ]
  },
  {
   "cell_type": "code",
   "execution_count": 54,
   "id": "e1c99176-cd13-46ee-8d48-3f2b302a0656",
   "metadata": {},
   "outputs": [],
   "source": [
    "def read_text_from_file(file_path):\n",
    "    \"\"\"\n",
    "    Reads and returns the content of a text file specified by the file path.\n",
    "    \n",
    "    Args:\n",
    "    file_path (str): The path to the text file.\n",
    "    \n",
    "    Returns:\n",
    "    str: The content of the file.\n",
    "    \"\"\"\n",
    "    try:\n",
    "        with open(file_path, 'r', encoding='utf-8') as file:\n",
    "            return file.read()\n",
    "    except FileNotFoundError:\n",
    "        print(f\"The file at {file_path} was not found.\")\n",
    "    except Exception as e:\n",
    "        print(f\"An error occurred while reading the file: {e}\")"
   ]
  },
  {
   "cell_type": "markdown",
   "id": "9601322c-e023-443a-aa3a-00ccbd3dd75e",
   "metadata": {},
   "source": [
    "### Test grep commands"
   ]
  },
  {
   "cell_type": "code",
   "execution_count": 55,
   "id": "1009b840-6b86-4b7f-b108-cc6202a4e649",
   "metadata": {},
   "outputs": [],
   "source": [
    "import subprocess\n",
    "\n",
    "def run_grep_command(command):\n",
    "    try:\n",
    "        # Split the command into a list for subprocess\n",
    "        command_list = command.split()\n",
    "\n",
    "        # Run the command\n",
    "        result = subprocess.run(command_list, capture_output=True, text=True, check=True)\n",
    "\n",
    "        # Save the output to a variable\n",
    "        output = result.stdout\n",
    "        \n",
    "        return output\n",
    "\n",
    "    except subprocess.CalledProcessError as e:\n",
    "        print(f\"Command '{e.cmd}' returned non-zero exit status {e.returncode}.\")\n",
    "        print(f\"Error output: {e.stderr}\")\n",
    "        return None"
   ]
  },
  {
   "cell_type": "markdown",
   "id": "1d337e30-1612-4d6d-a9a1-685c3e611394",
   "metadata": {},
   "source": [
    "Now for a simple test"
   ]
  },
  {
   "cell_type": "code",
   "execution_count": 56,
   "id": "ed5854eb-cd38-441c-8d94-6669ab96514f",
   "metadata": {},
   "outputs": [
    {
     "name": "stdout",
     "output_type": "stream",
     "text": [
      "Grep command output:\n",
      "fruit = []\n",
      "fruit[0] = 'apple'\n",
      "def fruit():\n",
      "\n"
     ]
    }
   ],
   "source": [
    "grep_command = \"grep -i 'fruit' ./check_agent/data/sample_input/code.txt\"\n",
    "output = run_grep_command(grep_command)\n",
    "\n",
    "if output:\n",
    "    print(\"Grep command output:\")\n",
    "    print(output)\n",
    "else:\n",
    "    print(\"No output or an error occurred.\")"
   ]
  },
  {
   "cell_type": "markdown",
   "id": "6eb10986-a57b-40c6-b6e2-1d552dbadfb3",
   "metadata": {},
   "source": [
    "Create a list of DSPy Example objects"
   ]
  },
  {
   "cell_type": "code",
   "execution_count": 57,
   "id": "f9736cd0-e780-4c49-97b1-175f76f93c24",
   "metadata": {},
   "outputs": [
    {
     "data": {
      "text/plain": [
       "'./check_agent/data/sample_input/code.txt'"
      ]
     },
     "execution_count": 57,
     "metadata": {},
     "output_type": "execute_result"
    }
   ],
   "source": [
    "import os\n",
    "def extract_file_just_path(file_path):\n",
    "    file_name = os.path.basename(file_path)\n",
    "    new_path =  os.path.join('./check_agent/data/sample_input/',file_name)\n",
    "    return new_path\n",
    "\n",
    "test_path = \"/tmp/calue/code.txt\"\n",
    "\n",
    "extracted = extract_file_just_path(test_path)\n",
    "\n",
    "extracted"
   ]
  },
  {
   "cell_type": "markdown",
   "id": "d7f6109a-c24e-4511-bcd7-71773f76b730",
   "metadata": {},
   "source": [
    "Dynamically modify file names"
   ]
  },
  {
   "cell_type": "code",
   "execution_count": 58,
   "id": "1f476487-897b-455d-9930-066c7d982450",
   "metadata": {},
   "outputs": [
    {
     "name": "stdout",
     "output_type": "stream",
     "text": [
      "./check_agent/data/sample_input/sample.txt:How are you\n",
      "./check_agent/data/sample_input/sample.txt:mango\n",
      "./check_agent/data/sample_input/sample.txt:Much ado about nothing\n",
      "./check_agent/data/sample_input/sample.txt:Adios amigo\n",
      "./check_agent/data/sample_input/code.txt:fruit[0] = 'apple'\n",
      "\n",
      "Original command: grep -Ff terms.txt sample.txt code.txt\n",
      "Updated command: grep -Ff ./check_agent/data/sample_input/terms.txt ./check_agent/data/sample_input/sample.txt ./check_agent/data/sample_input/code.txt\n"
     ]
    }
   ],
   "source": [
    "def update_grep_command(command):\n",
    "    parts = command.split()\n",
    "    updated_parts = [parts[0]]  # Start with the command itself, which is 'grep'\n",
    "    \n",
    "    i = 1  # Start processing after 'grep'\n",
    "    while i < len(parts):\n",
    "        part = parts[i]\n",
    "        if part.startswith('-'):\n",
    "            if i + 1 < len(parts) and not parts[i + 1].startswith('-'):\n",
    "                # Next part is a file path and current part is an option\n",
    "                # Check if the part is a standalone option or concatenated with its parameter\n",
    "                if len(part) > 2 and part[2].isalpha():\n",
    "                    # Option is concatenated with parameter (like -Ff)\n",
    "                    updated_parts.append(part)\n",
    "                else:\n",
    "                    updated_parts.append(part)  # Add the option\n",
    "                    updated_parts.append(extract_file_just_path(parts[i + 1]))  # Add the updated path\n",
    "                    i += 1  # Move past the file path part\n",
    "            else:\n",
    "                # It's just an option without following file path (or followed by another option)\n",
    "                updated_parts.append(part)\n",
    "        else:\n",
    "            # This is a standalone file path\n",
    "            updated_parts.append(extract_file_just_path(part))\n",
    "        i += 1\n",
    "\n",
    "    updated_command = ' '.join(updated_parts)\n",
    "    return updated_command\n",
    "\n",
    "generated_command = \"grep -Ff terms.txt sample.txt code.txt\"\n",
    "updated_command = update_grep_command(generated_command)\n",
    "\n",
    "print(run_grep_command(updated_command))\n",
    "\n",
    "print(f\"Original command: {generated_command}\")\n",
    "print(f\"Updated command: {updated_command}\")\n"
   ]
  },
  {
   "cell_type": "code",
   "execution_count": 59,
   "id": "926c09ca-c20d-4b9c-8e8f-90b3c05819e6",
   "metadata": {
    "scrolled": true
   },
   "outputs": [
    {
     "data": {
      "text/plain": [
       "[Example({'question': 'Display lines containing `an` from the `sample.txt` input file.', 'op_file': 'banana\\nmango\\n', 'answer': \"grep 'an' sample.txt\"}) (input_keys={'Display lines containing `an` from the `sample.txt` input file.'}),\n",
       " Example({'question': 'Display lines containing `do` as a whole word from the `sample.txt` input file.', 'op_file': 'Just do-it\\n', 'answer': \"grep -w 'do' sample.txt\"}) (input_keys={'Display lines containing `do` as a whole word from the `sample.txt` input file.'}),\n",
       " Example({'question': 'Display lines from `sample.txt` that satisfy both of these conditions:\\n\\n* `he` matched irrespective of case\\n* either `World` or `Hi` matched case sensitively', 'op_file': 'Hello World\\nHi there\\n', 'answer': \"grep -i 'he' sample.txt | grep -e 'World' -e 'Hi'\"}) (input_keys={'Display lines from `sample.txt` that satisfy both of these conditions:\\n\\n* `he` matched irrespective of case\\n* either `World` or `Hi` matched case sensitively'}),\n",
       " Example({'question': 'Display lines from `code.txt` containing `fruit[0]` literally.', 'op_file': \"fruit[0] = 'apple'\\n\", 'answer': \"grep -F 'fruit[0]' code.txt\"}) (input_keys={'Display lines from `code.txt` containing `fruit[0]` literally.'}),\n",
       " Example({'question': 'Display only the first two matching lines containing `t` from the `sample.txt` input file.', 'op_file': 'Hi there\\nJust do-it\\n', 'answer': \"grep -m2 't' sample.txt\"}) (input_keys={'Display only the first two matching lines containing `t` from the `sample.txt` input file.'}),\n",
       " Example({'question': 'Display only the first three matching lines that do *not* contain `he` from the `sample.txt` input file.', 'op_file': 'Hello World\\n\\nHow are you\\n', 'answer': \"grep -m3 -v 'he' sample.txt\"}) (input_keys={'Display only the first three matching lines that do *not* contain `he` from the `sample.txt` input file.'}),\n",
       " Example({'question': 'Display lines from `sample.txt` that contain `do` along with line number prefix.', 'op_file': '6:Just do-it\\n13:Much ado about nothing\\n', 'answer': \"grep -n 'do' sample.txt\"}) (input_keys={'Display lines from `sample.txt` that contain `do` along with line number prefix.'}),\n",
       " Example({'question': 'For the input file `sample.txt`, count the number of times the string `he` is present, irrespective of case.', 'op_file': '5\\n', 'answer': \"grep -io 'he' sample.txt | wc -l\"}) (input_keys={'For the input file `sample.txt`, count the number of times the string `he` is present, irrespective of case.'}),\n",
       " Example({'question': 'For the input file `sample.txt`, count the number of empty lines.', 'op_file': '4\\n', 'answer': \"grep -cx '' sample.txt\"}) (input_keys={'For the input file `sample.txt`, count the number of empty lines.'}),\n",
       " Example({'question': 'For the input files `sample.txt` and `code.txt`, display matching lines based on the search terms (one per line) present in the `terms.txt` file. Results should be prefixed with the corresponding input filename.', 'op_file': \"sample.txt:How are you\\nsample.txt:mango\\nsample.txt:Much ado about nothing\\nsample.txt:Adios amigo\\ncode.txt:fruit[0] = 'apple'\\n\", 'answer': 'grep -Ff terms.txt sample.txt code.txt'}) (input_keys={'For the input files `sample.txt` and `code.txt`, display matching lines based on the search terms (one per line) present in the `terms.txt` file. Results should be prefixed with the corresponding input filename.'}),\n",
       " Example({'question': 'For the input file `sample.txt`, display lines containing `amigo` prefixed by the input filename as well as the line number.', 'op_file': 'sample.txt:15:Adios amigo\\n', 'answer': \"grep -Hn 'amigo' sample.txt\"}) (input_keys={'For the input file `sample.txt`, display lines containing `amigo` prefixed by the input filename as well as the line number.'}),\n",
       " Example({'question': 'For the input files `sample.txt` and `code.txt`, display only the filename if it contains `apple`.', 'op_file': 'code.txt\\n', 'answer': \"grep -l 'apple' sample.txt code.txt\"}) (input_keys={'For the input files `sample.txt` and `code.txt`, display only the filename if it contains `apple`.'}),\n",
       " Example({'question': 'For the input files `sample.txt` and `code.txt`, display only whole matching lines based on the search terms (one per line) present in the `lines.txt` file. Results should be prefixed with the corresponding input filename as well as the line number.', 'op_file': 'sample.txt:9:banana\\ncode.txt:1:fruit = []\\n', 'answer': 'grep -Fnxf lines.txt sample.txt code.txt'}) (input_keys={'For the input files `sample.txt` and `code.txt`, display only whole matching lines based on the search terms (one per line) present in the `lines.txt` file. Results should be prefixed with the corresponding input filename as well as the line number.'}),\n",
       " Example({'question': 'For the input files `sample.txt` and `code.txt`, count the number of lines that do *not* match any of the search terms (one per line) present in the `terms.txt` file.', 'op_file': 'sample.txt:11\\ncode.txt:3\\n', 'answer': 'grep -vcFf terms.txt sample.txt code.txt'}) (input_keys={'For the input files `sample.txt` and `code.txt`, count the number of lines that do *not* match any of the search terms (one per line) present in the `terms.txt` file.'}),\n",
       " Example({'question': 'Count the total number of lines containing `banana` in the input files `sample.txt` and `code.txt`.', 'op_file': '2\\n', 'answer': \"cat sample.txt code.txt | grep -c 'banana'\"}) (input_keys={'Count the total number of lines containing `banana` in the input files `sample.txt` and `code.txt`.'}),\n",
       " Example({'question': 'For the input file `patterns.txt`, extract from `(` to the next occurrence of `)` unless they contain parentheses characters in between.', 'op_file': '(division)\\n(#modulo)\\n(9-2)\\n()\\n(j/k-3)\\n(greeting)\\n(b)\\n', 'answer': \"grep -o '([^()]*)' patterns.txt\"}) (input_keys={'For the input file `patterns.txt`, extract from `(` to the next occurrence of `)` unless they contain parentheses characters in between.'}),\n",
       " Example({'question': 'For the input file `patterns.txt`, match all lines that start with `den` or end with `ly`.', 'op_file': '2 lonely\\ndent\\nlovely\\n', 'answer': \"grep -E '^den|ly$' patterns.txt\"}) (input_keys={'For the input file `patterns.txt`, match all lines that start with `den` or end with `ly`.'}),\n",
       " Example({'question': 'For the input file `patterns.txt`, extract all whole words containing `42` surrounded by word characters on both sides.', 'op_file': 'Hi42Bye\\nnice1423\\ncool_42a\\n_42_\\n', 'answer': \"grep -oE '\\\\w+42\\\\w+' patterns.txt\"}) (input_keys={'For the input file `patterns.txt`, extract all whole words containing `42` surrounded by word characters on both sides.'}),\n",
       " Example({'question': 'For the input file `patterns.txt`, match all lines containing `car` but not as a whole word.', 'op_file': 'scar\\ncare\\na huge discarded pile of books\\nscare\\npart cart mart\\n', 'answer': \"grep -E '\\\\Bcar|car\\\\B' patterns.txt\"}) (input_keys={'For the input file `patterns.txt`, match all lines containing `car` but not as a whole word.'}),\n",
       " Example({'question': 'Count the total number of times the whole words `removed` or `rested` or `received` or `replied` or `refused` or `retired` are present in the `patterns.txt` file.', 'op_file': '9\\n', 'answer': \"grep -owE 're(ceiv|mov|pli|fus|tir|st)ed' patterns.txt | wc -l\"}) (input_keys={'Count the total number of times the whole words `removed` or `rested` or `received` or `replied` or `refused` or `retired` are present in the `patterns.txt` file.'}),\n",
       " Example({'question': 'For the input file `patterns.txt`, match lines starting with `s` and containing `e` and `t` in any order.', 'op_file': 'sets tests\\nsite cite kite bite\\nsubtle sequoia\\n', 'answer': \"grep -E '^s.*(e.*t|t.*e)' patterns.txt\"}) (input_keys={'For the input file `patterns.txt`, match lines starting with `s` and containing `e` and `t` in any order.'}),\n",
       " Example({'question': 'From the input file `patterns.txt`, extract all whole lines having the same first and last word character.', 'op_file': 'sets tests\\nNot a pip DOWN\\ny\\n1 dentist 1\\n_42_\\n', 'answer': \"grep -xE '(\\\\w)(.*\\\\1)?' patterns.txt\"}) (input_keys={'From the input file `patterns.txt`, extract all whole lines having the same first and last word character.'}),\n",
       " Example({'question': 'For the input file `patterns.txt`, match all lines containing `*[5]` literally.', 'op_file': '(9-2)*[5]\\n', 'answer': \"grep -F '*[5]' patterns.txt\"}) (input_keys={'For the input file `patterns.txt`, match all lines containing `*[5]` literally.'}),\n",
       " Example({'question': 'For the input file `patterns.txt`, display all lines starting with `hand` and ending immediately with `s` or `y` or `le` or no further characters.', 'op_file': 'handle\\nhandy\\nhands\\nhand\\n', 'answer': \"grep -xE 'hand([sy]|le)?' patterns.txt\"}) (input_keys={'For the input file `patterns.txt`, display all lines starting with `hand` and ending immediately with `s` or `y` or `le` or no further characters.'}),\n",
       " Example({'question': 'For the input files `patterns.txt`, display matching lines based on the patterns (one per line) present in the `regex_terms.txt` file.', 'op_file': 'Hi42Bye nice1423 bad42\\nfly away\\ndef factorial()\\nhand \\n', 'answer': 'grep -f regex_terms.txt patterns.txt'}) (input_keys={'For the input files `patterns.txt`, display matching lines based on the patterns (one per line) present in the `regex_terms.txt` file.'}),\n",
       " Example({'question': 'For the input file `patterns.txt`, match all lines starting with `[5]`.', 'op_file': '[5]*3\\n', 'answer': \"grep '^\\\\[5]' patterns.txt\"}) (input_keys={'For the input file `patterns.txt`, match all lines starting with `[5]`.'}),\n",
       " Example({'question': \"From the input file `patterns.txt`, extract all hexadecimal sequences with a minimum of four characters. Match `0x` as an optional prefix, but shouldn't be counted for determining the length. Match the characters case insensitively, and the sequences shouldn't be surrounded by other word characters.\", 'op_file': '0XdeadBEEF\\nbad42\\n0x0ff1ce\\n', 'answer': \"grep -iowE '(0x)?[0-9a-f]{4,}' patterns.txt\"}) (input_keys={\"From the input file `patterns.txt`, extract all hexadecimal sequences with a minimum of four characters. Match `0x` as an optional prefix, but shouldn't be counted for determining the length. Match the characters case insensitively, and the sequences shouldn't be surrounded by other word characters.\"}),\n",
       " Example({'question': 'From the input file `patterns.txt`, extract from `-` till the end of the line, provided the characters after the hyphen are all word characters only.', 'op_file': '-handy\\n-icy\\n', 'answer': \"grep -o '\\\\-\\\\w*$' patterns.txt\"}) (input_keys={'From the input file `patterns.txt`, extract from `-` till the end of the line, provided the characters after the hyphen are all word characters only.'}),\n",
       " Example({'question': 'For the input file `patterns.txt`, count the total number of lines containing `e` or `i` followed by `l` or `n` and vice versa.', 'op_file': '18\\n', 'answer': \"grep -cE '[ei].*[ln]|[ln].*[ei]' patterns.txt\"}) (input_keys={'For the input file `patterns.txt`, count the total number of lines containing `e` or `i` followed by `l` or `n` and vice versa.'}),\n",
       " Example({'question': 'For the input file `patterns.txt`, match lines starting with `4` or `-` or `u` or `sub` or `care`.', 'op_file': 'care\\n4*5]\\n-handy\\nsubtle sequoia\\nunhand\\n', 'answer': \"grep -E '^([4u-]|sub|care)' patterns.txt\"}) (input_keys={'For the input file `patterns.txt`, match lines starting with `4` or `-` or `u` or `sub` or `care`.'}),\n",
       " Example({'question': 'For the input file `sample.txt`, filter lines containing `do` and also display the line that comes after such a matching line.', 'op_file': 'Just do-it\\nBelieve it\\n--\\nMuch ado about nothing\\nHe he he\\n', 'answer': \"grep -A1 'do' sample.txt\"}) (input_keys={'For the input file `sample.txt`, filter lines containing `do` and also display the line that comes after such a matching line.'}),\n",
       " Example({'question': 'For the input file `sample.txt`, filter lines containing `o` followed by zero or more characters and then `m` or `r`. Also, display the line that comes before such a matching line.', 'op_file': 'Hello World\\n--\\nHi there\\nHow are you\\n--\\nHe he he\\nAdios amigo\\n', 'answer': \"grep -B1 'o.*[mr]' sample.txt\"}) (input_keys={'For the input file `sample.txt`, filter lines containing `o` followed by zero or more characters and then `m` or `r`. Also, display the line that comes before such a matching line.'}),\n",
       " Example({'question': 'For the input file `sample.txt`, filter lines containing `pay` and also display the line that comes before and after such a matching line.', 'op_file': 'banana\\npapaya\\nmango\\n', 'answer': \"grep -C1 'pay' sample.txt\"}) (input_keys={'For the input file `sample.txt`, filter lines containing `pay` and also display the line that comes before and after such a matching line.'}),\n",
       " Example({'question': 'For the input file `sample.txt`, filter lines containing `lie` and also display the line that comes before and two lines after such a matching line.', 'op_file': 'Just do-it\\nBelieve it\\n\\nbanana\\n', 'answer': \"grep -B1 -A2 'lie' sample.txt\"}) (input_keys={'For the input file `sample.txt`, filter lines containing `lie` and also display the line that comes before and two lines after such a matching line.'}),\n",
       " Example({'question': 'For the input file `sample.txt`, filter lines containing `are` or `he` as whole words as well as the line that comes before such a matching line. There should be no separator between the groups of matching lines in the output.', 'op_file': 'Hi there\\nHow are you\\nMuch ado about nothing\\nHe he he\\n', 'answer': \"grep --no-group-separator -B1 -wE 'are|he' sample.txt\"}) (input_keys={'For the input file `sample.txt`, filter lines containing `are` or `he` as whole words as well as the line that comes before such a matching line. There should be no separator between the groups of matching lines in the output.'}),\n",
       " Example({'question': 'For the input file `sample.txt`, filter lines containing `pay` or `the` as well as the line that comes after/before such a matching line. Show `=====` as the separator between the groups of matching lines in the output.', 'op_file': '\\nHi there\\nHow are you\\n=====\\nbanana\\npapaya\\nmango\\n', 'answer': \"grep --group-separator='=====' -EC1 'pay|the' sample.txt\"}) (input_keys={'For the input file `sample.txt`, filter lines containing `pay` or `the` as well as the line that comes after/before such a matching line. Show `=====` as the separator between the groups of matching lines in the output.'}),\n",
       " Example({'question': 'The input file `sample.txt` has an empty line between group of lines. Change it to `------` between the groups.', 'op_file': 'Hello World\\n------\\nHi there\\nHow are you\\n------\\nJust do-it\\nBelieve it\\n------\\nbanana\\npapaya\\nmango\\n------\\nMuch ado about nothing\\nHe he he\\nAdios amigo\\n', 'answer': \"grep --group-separator='------' -A0 '.' sample.txt\"}) (input_keys={'The input file `sample.txt` has an empty line between group of lines. Change it to `------` between the groups.'}),\n",
       " Example({'question': 'Search recursively and display the lines containing `ello`. Output should not have filename prefix. Hidden files should also be searched but ignore links.', 'op_file': '    print(\"Hello, Python!\")\\necho \"Hello, Bash!\"\\nyellow\\nHello World\\nyellow\\n', 'answer': \"grep -rh 'ello'\"}) (input_keys={'Search recursively and display the lines containing `ello`. Output should not have filename prefix. Hidden files should also be searched but ignore links.'}),\n",
       " Example({'question': 'Search recursively and list the names of files containing `blue` or `on` or a double quote character. Match all of these terms only at the end of a line. Hidden files should also be searched but ignore links.', 'op_file': 'projects/shell/hello.sh\\npatterns.txt\\ncolors_1\\ncolors_2.txt\\nbackups/dot_files/.inputrc\\nbackups/color list.txt\\n', 'answer': 'grep -rlE \\'(blue|on|\")$\\''}) (input_keys={'Search recursively and list the names of files containing `blue` or `on` or a double quote character. Match all of these terms only at the end of a line. Hidden files should also be searched but ignore links.'}),\n",
       " Example({'question': 'Search recursively and list the names of files containing `blue`, but do not search within the `backups` directory. Hidden files should also be searched but ignore links.', 'op_file': '.hidden\\ncolors_1\\ncolors_2.txt\\n', 'answer': \"grep -rl --exclude-dir='backups' 'blue'\"}) (input_keys={'Search recursively and list the names of files containing `blue`, but do not search within the `backups` directory. Hidden files should also be searched but ignore links.'}),\n",
       " Example({'question': 'Search recursively within the `backups` directory and list the names of files containing `red`. Hidden files and symbolic links found in this directory should be searched as well.', 'op_file': 'backups/color list.txt\\nbackups/text/pat.txt\\n', 'answer': \"grep -Rl 'red' backups\"}) (input_keys={'Search recursively within the `backups` directory and list the names of files containing `red`. Hidden files and symbolic links found in this directory should be searched as well.'}),\n",
       " Example({'question': 'Search recursively and list the names of files that do *not* contain `greeting` or `blue` or `are`. Hidden files and symbolic links should be searched as well.', 'op_file': 'projects/shell/hello.sh\\nsubstitute.sh\\nlines.txt\\npcre.txt\\nbackups/dot_files/.bash_aliases\\nbackups/dot_files/.inputrc\\nregex_terms.txt\\ncode.txt\\n', 'answer': \"grep -RLE 'greeting|blue|are'\"}) (input_keys={'Search recursively and list the names of files that do *not* contain `greeting` or `blue` or `are`. Hidden files and symbolic links should be searched as well.'}),\n",
       " Example({'question': 'Search for files containing `red` or `ello` recursively, but do not list the file if it also contains `greeting`. Hidden files should also be searched but ignore links.', 'op_file': 'projects/shell/hello.sh\\ncolors_1\\nsample.txt\\ncolors_2.txt\\nbackups/color list.txt\\n', 'answer': \"grep -rlEZ 'red|ello' | xargs -r0 grep -L 'greeting'\"}) (input_keys={'Search for files containing `red` or `ello` recursively, but do not list the file if it also contains `greeting`. Hidden files should also be searched but ignore links.'}),\n",
       " Example({'question': 'Search recursively only within filenames ending with `.txt` and display the names of files containing `red`. Hidden files and symbolic links should be searched as well.', 'op_file': 'patterns.txt\\ncolors_2.txt\\nbackups/color list.txt\\nbackups/text/pat.txt\\n', 'answer': \"grep -Rl --include='*.txt' 'red'\"}) (input_keys={'Search recursively only within filenames ending with `.txt` and display the names of files containing `red`. Hidden files and symbolic links should be searched as well.'}),\n",
       " Example({'question': 'Search recursively only within filenames ending with `.txt` but not if the name has a space character. Display the names of files containing `red`. Hidden files and symbolic links should be searched as well.', 'op_file': 'patterns.txt\\ncolors_2.txt\\nbackups/text/pat.txt\\n', 'answer': \"grep -Rl --include='*.txt' --exclude='* *' 'red'\"}) (input_keys={'Search recursively only within filenames ending with `.txt` but not if the name has a space character. Display the names of files containing `red`. Hidden files and symbolic links should be searched as well.'}),\n",
       " Example({'question': 'Use a combination of `find` and `grep` commands to display lines containing `greeting` only for symbolic links.', 'op_file': './backups/text/pat.txt:Hi there(greeting). Nice day(a(b)\\n./hello.py:def greeting():\\n./hello.py:greeting()\\n', 'answer': \"find -type l -exec grep 'greeting' {} +\"}) (input_keys={'Use a combination of `find` and `grep` commands to display lines containing `greeting` only for symbolic links.'}),\n",
       " Example({'question': 'Search recursively and list the names of files that contain `Hello` or `blue`. Hidden files and symbolic links should be searched as well. Do not search within `python` or `backups` directories.', 'op_file': 'projects/shell/hello.sh\\n.hidden\\ncolors_1\\nsample.txt\\ncolors_2.txt\\nhello.py\\n', 'answer': \"grep -RlE --exclude-dir='python' --exclude-dir='backups' 'Hello|blue'\"}) (input_keys={'Search recursively and list the names of files that contain `Hello` or `blue`. Hidden files and symbolic links should be searched as well. Do not search within `python` or `backups` directories.'}),\n",
       " Example({'question': 'Search recursively only within filenames ending with `.txt` and count the total number of lines containing `car` or `blue` or a digit character. Hidden files and symbolic links should be searched as well.', 'op_file': '61\\n', 'answer': \"grep -RE --include='*.txt' 'car|blue|[0-9]' | wc -l\"}) (input_keys={'Search recursively only within filenames ending with `.txt` and count the total number of lines containing `car` or `blue` or a digit character. Hidden files and symbolic links should be searched as well.'}),\n",
       " Example({'question': \"Display lines containing `Hello` or `red` only from files in the current hierarchy, i.e. don't search recursively. Hidden files and symbolic links should be searched as well.\", 'op_file': 'colors_2.txt:red\\nhello.py:    print(\"Hello, Python!\")\\npatterns.txt:refused reed redo received\\npatterns.txt:refused refused and retired\\nsample.txt:Hello World\\n', 'answer': \"grep -d skip 'Hello\\\\|red' *\"}) (input_keys={\"Display lines containing `Hello` or `red` only from files in the current hierarchy, i.e. don't search recursively. Hidden files and symbolic links should be searched as well.\"}),\n",
       " Example({'question': \"Search recursively for files containing `blue` as well as `yellow` anywhere in the file, but do not list the file if it also contains `teal`. Ignore links and assume that hidden files won't match.\", 'op_file': 'colors_2.txt\\n', 'answer': \"grep -rlZ 'blue' | xargs -r0 grep -lZ 'yellow' | xargs -r0 grep -L 'teal'\"}) (input_keys={\"Search recursively for files containing `blue` as well as `yellow` anywhere in the file, but do not list the file if it also contains `teal`. Ignore links and assume that hidden files won't match.\"}),\n",
       " Example({'question': 'For the input file `sample.txt`, extract from the first occurrence of `Just` to the last occurrence of `it`. These terms can occur across different lines. Perform additional transformation to convert ASCII NUL characters, if any, to the newline character.', 'op_file': 'Just do-it\\nBelieve it\\n', 'answer': \"grep -oz 'Just.*it' sample.txt | tr '\\\\0' '\\\\n'\"}) (input_keys={'For the input file `sample.txt`, extract from the first occurrence of `Just` to the last occurrence of `it`. These terms can occur across different lines. Perform additional transformation to convert ASCII NUL characters, if any, to the newline character.'}),\n",
       " Example({'question': 'For the input file `nul_separated`, use the ASCII NUL character as the *line* separator and display lines starting with `a`. Perform additional transformation to convert ASCII NUL characters, if any, to the newline character.', 'op_file': 'apple\\nfig\\nmango\\nicecream\\n', 'answer': \"grep -z '^a' nul_separated | tr '\\\\0' '\\\\n'\"}) (input_keys={'For the input file `nul_separated`, use the ASCII NUL character as the *line* separator and display lines starting with `a`. Perform additional transformation to convert ASCII NUL characters, if any, to the newline character.'}),\n",
       " Example({'question': 'For the input file `sample.txt`, display lines containing `he` prefixed with the byte location of the matching lines.', 'op_file': '13:Hi there\\n102:He he he\\n', 'answer': \"grep -b 'he' sample.txt\"}) (input_keys={'For the input file `sample.txt`, display lines containing `he` prefixed with the byte location of the matching lines.'}),\n",
       " Example({'question': 'From the `sample.txt` input file, extract from the start of a line to the first occurrence of `he`.', 'op_file': 'Hi the\\nHe he\\n', 'answer': \"grep -oP '^.*?he' sample.txt\"}) (input_keys={'From the `sample.txt` input file, extract from the start of a line to the first occurrence of `he`.'}),\n",
       " Example({'question': 'For the input file `terms.txt`, display line that do *not* contain a digit character.', 'op_file': 'are\\nnot\\ngo\\n', 'answer': \"grep -vP '\\\\d' terms.txt\"}) (input_keys={'For the input file `terms.txt`, display line that do *not* contain a digit character.'}),\n",
       " Example({'question': \"From the `pcre.txt` input file, extract consecutive repeated occurrences of `abc` followed by `a` provided that the final `a` isn't part of `abc`. For example, `abcabcadef` should give `abcabca` as the output and `abcabcabcd` shouldn't match.\", 'op_file': 'abcabcabca\\n', 'answer': \"grep -oP '(abc)++a' pcre.txt\"}) (input_keys={\"From the `pcre.txt` input file, extract consecutive repeated occurrences of `abc` followed by `a` provided that the final `a` isn't part of `abc`. For example, `abcabcadef` should give `abcabca` as the output and `abcabcabcd` shouldn't match.\"}),\n",
       " Example({'question': \"From the `pcre.txt` input file, extract from `S:` followed by a digit character to the very next occurrence of `E:` followed by two or more digits. For example, `S:12 E:5 fig S:4 and E:123` should give `S:4 and E:123` as the output and `S:1 - E:2` shouldn't match.\", 'op_file': 'S:4 and E:123\\nS:42 E:43\\nS:100 & E:10\\n', 'answer': \"grep -oP '(?>S:\\\\d.*?E:)\\\\d{2,}' pcre.txt\"}) (input_keys={\"From the `pcre.txt` input file, extract from `S:` followed by a digit character to the very next occurrence of `E:` followed by two or more digits. For example, `S:12 E:5 fig S:4 and E:123` should give `S:4 and E:123` as the output and `S:1 - E:2` shouldn't match.\"}),\n",
       " Example({'question': 'From the `sample.txt` input file, extract all sequences made up of lowercase letters except those that start with `a` or `h` or `i` or `t`. Such sequences should not be surrounded by other word characters.', 'op_file': 'you\\ndo\\nbanana\\npapaya\\nmango\\nnothing\\n', 'answer': \"grep -woP '(?![ahit])[a-z]+' sample.txt\"}) (input_keys={'From the `sample.txt` input file, extract all sequences made up of lowercase letters except those that start with `a` or `h` or `i` or `t`. Such sequences should not be surrounded by other word characters.'}),\n",
       " Example({'question': 'From the `sample.txt` input file, extract all sequences made up of lowercase letters except those that end with letters from `g` to `z`. Such sequences should not be surrounded by other word characters.', 'op_file': 'there\\nare\\nbanana\\npapaya\\nhe\\nhe\\n', 'answer': \"grep -woP '[a-z]+(?<![g-z])' sample.txt\"}) (input_keys={'From the `sample.txt` input file, extract all sequences made up of lowercase letters except those that end with letters from `g` to `z`. Such sequences should not be surrounded by other word characters.'}),\n",
       " Example({'question': 'From the `pcre.txt` input file, extract integer portion of floating-point numbers. Integers and numbers ending with `.` and no further digits should not be considered. For example, output for `ab32.4` should be `32` and numbers like `2.` and `456` should not be matched.', 'op_file': '32\\n46\\n', 'answer': \"grep -oP '\\\\d+(?=\\\\.\\\\d)' pcre.txt\"}) (input_keys={'From the `pcre.txt` input file, extract integer portion of floating-point numbers. Integers and numbers ending with `.` and no further digits should not be considered. For example, output for `ab32.4` should be `32` and numbers like `2.` and `456` should not be matched.'}),\n",
       " Example({'question': 'For the input file `pcre.txt`, filter lines that satisfy all of these rules:\\n\\n* at least 2 alphabets\\n* at least 3 digits\\n* at least 1 special character among `%` or `*` or `#` or `$`\\n* should *not* contain `Yz` or `if`', 'op_file': 'F2H3u#9\\nA $ C1234\\n', 'answer': \"grep -P '^(?=(.*[a-zA-Z]){2})(?=(.*\\\\d){3})(?!.*(if|Yz)).*[%*#$]' pcre.txt\"}) (input_keys={'For the input file `pcre.txt`, filter lines that satisfy all of these rules:\\n\\n* at least 2 alphabets\\n* at least 3 digits\\n* at least 1 special character among `%` or `*` or `#` or `$`\\n* should *not* contain `Yz` or `if`'}),\n",
       " Example({'question': \"From the `pcre.txt` input file, extract from the second field to the second last field from rows having at least two columns considering `;` as the delimiter. For example, `b;c` should be extracted from `a;b;c;d` and a line containing less than two `;` characters shouldn't produce any output.\", 'op_file': 'in;awe;b2b;3list\\nbe;he;0;a;b\\n', 'answer': \"grep -oP ';\\\\K.+(?=;)' pcre.txt\"}) (input_keys={\"From the `pcre.txt` input file, extract from the second field to the second last field from rows having at least two columns considering `;` as the delimiter. For example, `b;c` should be extracted from `a;b;c;d` and a line containing less than two `;` characters shouldn't produce any output.\"}),\n",
       " Example({'question': 'For the input file `pcre.txt`, match lines if it contains `qty` followed by `price` but not if there is any **whitespace** character or the string `error` between them.', 'op_file': '23,qty,price,42\\n(qtyprice) (hi-there)\\n42\\\\nqty-6,apple-56,price-234,error\\n', 'answer': \"grep -P 'qty((?!\\\\s|error).)*price' pcre.txt\"}) (input_keys={'For the input file `pcre.txt`, match lines if it contains `qty` followed by `price` but not if there is any **whitespace** character or the string `error` between them.'}),\n",
       " Example({'question': 'From the `pcre.txt` input file, extract `if` followed by content within any number of nested parentheses.', 'op_file': 'if(3-(k*3+4)/12-(r+2/3))\\nif(a(b)c(d(e(f)1)2)3)\\n', 'answer': \"grep -oP 'if(\\\\((?:[^()]++|(?1))++\\\\))' pcre.txt\"}) (input_keys={'From the `pcre.txt` input file, extract `if` followed by content within any number of nested parentheses.'}),\n",
       " Example({'question': 'From the `patterns.txt` input file, extract from `car` at the start of a line to the very next occurrence of `book` or `lie` in the file. Perform additional transformation to convert ASCII NUL characters, if any, to the newline character.', 'op_file': 'care\\n4*5]\\na huge discarded pile of book\\ncar\\neden\\nrested replie\\n', 'answer': \"grep -zoP '(?ms)^car.*?(book|lie)' patterns.txt | tr '\\\\0' '\\\\n'\"}) (input_keys={'From the `patterns.txt` input file, extract from `car` at the start of a line to the very next occurrence of `book` or `lie` in the file. Perform additional transformation to convert ASCII NUL characters, if any, to the newline character.'}),\n",
       " Example({'question': \"From the `patterns.txt` input file, extract all whole words if a line also contains `car`. But, any word occupying the first five characters in the line shouldn't be part of the output. For example, `no scar` shouldn't produce any output since both words have all/some characters within the first five characters in the line. `part cart mart` should produce `cart` and `mart` as output. `two sets tests` would fail the `car` condition, and thus shouldn't produce any output.\", 'op_file': 'tar\\nfar\\nCart\\ndiscarded\\npile\\nof\\nbooks\\ncart\\nmart\\n', 'answer': \"grep 'car' patterns.txt | grep -woP '^.{1,5}(*SKIP)(*F)|\\\\w+'\"}) (input_keys={\"From the `patterns.txt` input file, extract all whole words if a line also contains `car`. But, any word occupying the first five characters in the line shouldn't be part of the output. For example, `no scar` shouldn't produce any output since both words have all/some characters within the first five characters in the line. `part cart mart` should produce `cart` and `mart` as output. `two sets tests` would fail the `car` condition, and thus shouldn't produce any output.\"})]"
      ]
     },
     "execution_count": 59,
     "metadata": {},
     "output_type": "execute_result"
    }
   ],
   "source": [
    "import json\n",
    "import dspy\n",
    "\n",
    "def extract_fields(json_file):\n",
    "    # Read the JSON data from the file\n",
    "    examples_list = []\n",
    "    with open(json_file, 'r') as file:\n",
    "        data = json.load(file)\n",
    "\n",
    "    # Iterate over each item in the JSON data\n",
    "    for key, value in data.items():\n",
    "        question = value.get('question', '')\n",
    "        op_file = value.get('op_file', '')\n",
    "        ref_solution = value.get('ref_solution', [''])[0]  # Get the first element of ref_solution list\n",
    "\n",
    "        example = dspy.Example(question=question, op_file=op_file, answer=ref_solution).with_inputs(question)\n",
    "        examples_list.append(example)\n",
    "    return examples_list\n",
    "\n",
    "# Example usage\n",
    "json_file = './check_agent/data/questions.json'\n",
    "questions_dict = extract_fields(json_file)\n",
    "questions_dict\n"
   ]
  },
  {
   "cell_type": "markdown",
   "id": "f5858102-dc9f-4aa4-9a18-c886cdee9d49",
   "metadata": {},
   "source": [
    "### Use DSPy with Typed predictor"
   ]
  },
  {
   "cell_type": "code",
   "execution_count": 60,
   "id": "431491c7-448e-430d-b329-25256406b069",
   "metadata": {},
   "outputs": [
    {
     "name": "stdout",
     "output_type": "stream",
     "text": [
      "Requirement already satisfied: python-dotenv in c:\\users\\dbake\\documents\\grep_boi\\cs541_cs441_ai_final_project\\syntheticdata\\synth-env\\lib\\site-packages (1.0.1)"
     ]
    },
    {
     "name": "stderr",
     "output_type": "stream",
     "text": [
      "WARNING: You are using pip version 21.2.4; however, version 24.0 is available.\n"
     ]
    },
    {
     "name": "stdout",
     "output_type": "stream",
     "text": [
      "\n",
      "Note: you may need to restart the kernel to use updated packages."
     ]
    },
    {
     "name": "stderr",
     "output_type": "stream",
     "text": [
      "You should consider upgrading via the 'C:\\Users\\dbake\\Documents\\GREP_Boi\\CS541_CS441_AI_Final_Project\\SyntheticData\\synth-env\\Scripts\\python.exe -m pip install --upgrade pip' command."
     ]
    },
    {
     "name": "stdout",
     "output_type": "stream",
     "text": [
      "\n"
     ]
    },
    {
     "name": "stderr",
     "output_type": "stream",
     "text": [
      "\n"
     ]
    }
   ],
   "source": [
    "pip install python-dotenv"
   ]
  },
  {
   "cell_type": "code",
   "execution_count": 61,
   "id": "b71bd64a-9277-4a45-b727-379528850e25",
   "metadata": {},
   "outputs": [],
   "source": [
    "import dspy\n",
    "from dotenv import load_dotenv\n",
    "\n",
    "load_dotenv(\"../.env\")\n",
    "\n",
    "GOOGLE_API_KEY = os.getenv(\"GOOGLE_API_KEY\")\n",
    "\n",
    "gemini_flash = dspy.Google(model=\"gemini-1.5-flash-latest\", temperature=0)\n",
    "\n",
    "dspy.settings.configure(lm=gemini_flash)\n"
   ]
  },
  {
   "cell_type": "markdown",
   "id": "ff35999f-9a17-4d5c-a37d-0f504d01d40b",
   "metadata": {},
   "source": [
    "#### Create simple signature"
   ]
  },
  {
   "cell_type": "code",
   "execution_count": 62,
   "id": "0bd82b24-914b-4a9b-aa10-ea03bbb624a9",
   "metadata": {},
   "outputs": [
    {
     "name": "stdout",
     "output_type": "stream",
     "text": [
      "commands=[GrepPair(command=\"grep 'fruit' code.txt\", description=\"Find all lines in code.txt that contain the word 'fruit'.\"), GrepPair(command=\"grep -E '^[a-zA-Z]+$' code.txt\", description='Find all lines in code.txt that contain only letters.'), GrepPair(command=\"grep -v 'print' code.txt\", description=\"Find all lines in code.txt that do not contain the word 'print'.\"), GrepPair(command=\"grep -r 'def' .\", description=\"Recursively search for lines containing 'def' in all files within the current directory.\"), GrepPair(command=\"grep -n 'banana' code.txt\", description=\"Find all lines containing 'banana' in code.txt and display the line number.\"), GrepPair(command=\"grep -c 'apple' code.txt\", description=\"Count the number of lines in code.txt that contain 'apple'.\"), GrepPair(command=\"grep -w 'fruit' code.txt\", description=\"Find all lines in code.txt that contain 'fruit' as a whole word.\"), GrepPair(command=\"grep -A 2 'def' code.txt\", description=\"Find all lines containing 'def' in code.txt and display the line itself and the two lines after it.\"), GrepPair(command=\"grep -B 2 'print' code.txt\", description=\"Find all lines containing 'print' in code.txt and display the line itself and the two lines before it.\"), GrepPair(command=\"grep -C 2 'banana' code.txt\", description=\"Find all lines containing 'banana' in code.txt and display the line itself and the two lines before and after it.\")]\n"
     ]
    }
   ],
   "source": [
    "from pydantic import BaseModel, Field, conlist\n",
    "from typing import List, NamedTuple\n",
    "\n",
    "class GrepPair(NamedTuple):\n",
    "    command: str\n",
    "    description: str\n",
    "\n",
    "class Output(BaseModel):\n",
    "    commands: conlist(GrepPair, min_length=10, max_length=10) = Field(..., description=\"List of 10 pairs of grep commands and a natural language description \")\n",
    "\n",
    "class CommentInput(BaseModel):\n",
    "    commands: conlist(str, min_length=10, max_length=10) = Field(..., description=\"List of 10 grep commands\")\n",
    "\n",
    "class CommentOutput(BaseModel):\n",
    "    descriptions: conlist(str, min_length=10, max_length=10) = Field(..., description=\"corresponding list of natural language descriptions for the grep commands\")\n",
    "\n",
    "class test_generation(dspy.Signature):\n",
    "    \"\"\"Given the contents of a file and the file name as input create a useful and interesting grep command\"\"\"\n",
    "    file = dspy.InputField(desc=\"The file to make grep commands for\")\n",
    "    filename = dspy.InputField(desc=\"The filename\")\n",
    "    command: Output = dspy.OutputField()\n",
    "\n",
    "generate_answer = dspy.TypedPredictor(test_generation)\n",
    "\n",
    "code_file = read_text_from_file(\"./check_agent/data/sample_input/code.txt\")\n",
    "\n",
    "resp = generate_answer(file=code_file, filename=\"code.txt\")\n",
    "\n",
    "the_command=resp.command\n",
    "\n",
    "print(resp.command)"
   ]
  },
  {
   "cell_type": "code",
   "execution_count": 63,
   "id": "afe6885e-2f5d-4b65-b804-b8e4aa1691f2",
   "metadata": {},
   "outputs": [
    {
     "name": "stdout",
     "output_type": "stream",
     "text": [
      "Prediction(\n",
      "    command=Output(commands=[GrepPair(command=\"grep 'fruit' code.txt\", description=\"Find all lines in code.txt that contain the word 'fruit'.\"), GrepPair(command=\"grep -E '^[a-zA-Z]+$' code.txt\", description='Find all lines in code.txt that contain only letters.'), GrepPair(command=\"grep -v 'print' code.txt\", description=\"Find all lines in code.txt that do not contain the word 'print'.\"), GrepPair(command=\"grep -r 'def' .\", description=\"Recursively search for lines containing 'def' in all files within the current directory.\"), GrepPair(command=\"grep -n 'banana' code.txt\", description=\"Find all lines containing 'banana' in code.txt and display the line number.\"), GrepPair(command=\"grep -c 'apple' code.txt\", description=\"Count the number of lines in code.txt that contain 'apple'.\"), GrepPair(command=\"grep -w 'fruit' code.txt\", description=\"Find all lines in code.txt that contain 'fruit' as a whole word.\"), GrepPair(command=\"grep -A 2 'def' code.txt\", description=\"Find all lines containing 'def' in code.txt and display the line itself and the two lines after it.\"), GrepPair(command=\"grep -B 2 'print' code.txt\", description=\"Find all lines containing 'print' in code.txt and display the line itself and the two lines before it.\"), GrepPair(command=\"grep -C 2 'banana' code.txt\", description=\"Find all lines containing 'banana' in code.txt and display the line itself and the two lines before and after it.\")])\n",
      ")\n"
     ]
    }
   ],
   "source": [
    "print(resp)"
   ]
  },
  {
   "cell_type": "code",
   "execution_count": 64,
   "id": "68b232d1-f8cd-4a6a-a328-c4dc775d036c",
   "metadata": {},
   "outputs": [
    {
     "name": "stdout",
     "output_type": "stream",
     "text": [
      "fruit = []\n",
      "fruit[0] = 'apple'\n",
      "def fruit():\n",
      "    print('banana')\n",
      "\n"
     ]
    }
   ],
   "source": [
    "print(code_file)"
   ]
  },
  {
   "cell_type": "code",
   "execution_count": null,
   "id": "a775f79b-7a5b-4943-a324-d58387c8b7ab",
   "metadata": {},
   "outputs": [],
   "source": []
  }
 ],
 "metadata": {
  "kernelspec": {
   "display_name": "Python (synth-env)",
   "language": "python",
   "name": "synth-env"
  },
  "language_info": {
   "codemirror_mode": {
    "name": "ipython",
    "version": 3
   },
   "file_extension": ".py",
   "mimetype": "text/x-python",
   "name": "python",
   "nbconvert_exporter": "python",
   "pygments_lexer": "ipython3",
   "version": "3.10.1"
  }
 },
 "nbformat": 4,
 "nbformat_minor": 5
}
