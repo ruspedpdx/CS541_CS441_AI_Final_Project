{
 "cells": [
  {
   "cell_type": "code",
   "execution_count": 1,
   "id": "57d8dd6a-9112-4b44-a6c5-14ac53d004a4",
   "metadata": {
    "collapsed": true,
    "jupyter": {
     "outputs_hidden": true
    }
   },
   "outputs": [
    {
     "name": "stdout",
     "output_type": "stream",
     "text": [
      "Requirement already satisfied: dspy-ai in c:\\users\\dbake\\documents\\grep_boi\\cs541_cs441_ai_final_project\\syntheticdata\\synth-env\\lib\\site-packages (2.4.9)\n",
      "Requirement already satisfied: optuna in c:\\users\\dbake\\documents\\grep_boi\\cs541_cs441_ai_final_project\\syntheticdata\\synth-env\\lib\\site-packages (from dspy-ai) (3.6.1)\n",
      "Requirement already satisfied: pydantic~=2.0 in c:\\users\\dbake\\documents\\grep_boi\\cs541_cs441_ai_final_project\\syntheticdata\\synth-env\\lib\\site-packages (from dspy-ai) (2.7.3)\n",
      "Requirement already satisfied: datasets<3.0.0,~=2.14.6 in c:\\users\\dbake\\documents\\grep_boi\\cs541_cs441_ai_final_project\\syntheticdata\\synth-env\\lib\\site-packages (from dspy-ai) (2.14.7)\n",
      "Requirement already satisfied: structlog in c:\\users\\dbake\\documents\\grep_boi\\cs541_cs441_ai_final_project\\syntheticdata\\synth-env\\lib\\site-packages (from dspy-ai) (24.2.0)\n",
      "Requirement already satisfied: openai<2.0.0,>=0.28.1 in c:\\users\\dbake\\documents\\grep_boi\\cs541_cs441_ai_final_project\\syntheticdata\\synth-env\\lib\\site-packages (from dspy-ai) (1.33.0)\n",
      "Requirement already satisfied: joblib~=1.3.2 in c:\\users\\dbake\\documents\\grep_boi\\cs541_cs441_ai_final_project\\syntheticdata\\synth-env\\lib\\site-packages (from dspy-ai) (1.3.2)\n",
      "Requirement already satisfied: backoff~=2.2.1 in c:\\users\\dbake\\documents\\grep_boi\\cs541_cs441_ai_final_project\\syntheticdata\\synth-env\\lib\\site-packages (from dspy-ai) (2.2.1)\n",
      "Requirement already satisfied: regex in c:\\users\\dbake\\documents\\grep_boi\\cs541_cs441_ai_final_project\\syntheticdata\\synth-env\\lib\\site-packages (from dspy-ai) (2024.5.15)\n",
      "Requirement already satisfied: tqdm in c:\\users\\dbake\\documents\\grep_boi\\cs541_cs441_ai_final_project\\syntheticdata\\synth-env\\lib\\site-packages (from dspy-ai) (4.66.4)\n",
      "Requirement already satisfied: requests in c:\\users\\dbake\\documents\\grep_boi\\cs541_cs441_ai_final_project\\syntheticdata\\synth-env\\lib\\site-packages (from dspy-ai) (2.32.3)\n",
      "Requirement already satisfied: pandas in c:\\users\\dbake\\documents\\grep_boi\\cs541_cs441_ai_final_project\\syntheticdata\\synth-env\\lib\\site-packages (from dspy-ai) (2.2.2)\n",
      "Requirement already satisfied: ujson in c:\\users\\dbake\\documents\\grep_boi\\cs541_cs441_ai_final_project\\syntheticdata\\synth-env\\lib\\site-packages (from dspy-ai) (5.10.0)\n",
      "Requirement already satisfied: pyarrow>=8.0.0 in c:\\users\\dbake\\documents\\grep_boi\\cs541_cs441_ai_final_project\\syntheticdata\\synth-env\\lib\\site-packages (from datasets<3.0.0,~=2.14.6->dspy-ai) (16.1.0)\n",
      "Requirement already satisfied: numpy>=1.17 in c:\\users\\dbake\\documents\\grep_boi\\cs541_cs441_ai_final_project\\syntheticdata\\synth-env\\lib\\site-packages (from datasets<3.0.0,~=2.14.6->dspy-ai) (1.26.4)\n",
      "Requirement already satisfied: dill<0.3.8,>=0.3.0 in c:\\users\\dbake\\documents\\grep_boi\\cs541_cs441_ai_final_project\\syntheticdata\\synth-env\\lib\\site-packages (from datasets<3.0.0,~=2.14.6->dspy-ai) (0.3.7)\n",
      "Requirement already satisfied: fsspec[http]<=2023.10.0,>=2023.1.0 in c:\\users\\dbake\\documents\\grep_boi\\cs541_cs441_ai_final_project\\syntheticdata\\synth-env\\lib\\site-packages (from datasets<3.0.0,~=2.14.6->dspy-ai) (2023.10.0)\n",
      "Requirement already satisfied: pyarrow-hotfix in c:\\users\\dbake\\documents\\grep_boi\\cs541_cs441_ai_final_project\\syntheticdata\\synth-env\\lib\\site-packages (from datasets<3.0.0,~=2.14.6->dspy-ai) (0.6)\n",
      "Requirement already satisfied: pyyaml>=5.1 in c:\\users\\dbake\\documents\\grep_boi\\cs541_cs441_ai_final_project\\syntheticdata\\synth-env\\lib\\site-packages (from datasets<3.0.0,~=2.14.6->dspy-ai) (6.0.1)\n",
      "Requirement already satisfied: packaging in c:\\users\\dbake\\documents\\grep_boi\\cs541_cs441_ai_final_project\\syntheticdata\\synth-env\\lib\\site-packages (from datasets<3.0.0,~=2.14.6->dspy-ai) (24.0)\n",
      "Requirement already satisfied: aiohttp in c:\\users\\dbake\\documents\\grep_boi\\cs541_cs441_ai_final_project\\syntheticdata\\synth-env\\lib\\site-packages (from datasets<3.0.0,~=2.14.6->dspy-ai) (3.9.5)\n",
      "Requirement already satisfied: xxhash in c:\\users\\dbake\\documents\\grep_boi\\cs541_cs441_ai_final_project\\syntheticdata\\synth-env\\lib\\site-packages (from datasets<3.0.0,~=2.14.6->dspy-ai) (3.4.1)\n",
      "Requirement already satisfied: huggingface-hub<1.0.0,>=0.14.0 in c:\\users\\dbake\\documents\\grep_boi\\cs541_cs441_ai_final_project\\syntheticdata\\synth-env\\lib\\site-packages (from datasets<3.0.0,~=2.14.6->dspy-ai) (0.23.3)\n",
      "Requirement already satisfied: multiprocess in c:\\users\\dbake\\documents\\grep_boi\\cs541_cs441_ai_final_project\\syntheticdata\\synth-env\\lib\\site-packages (from datasets<3.0.0,~=2.14.6->dspy-ai) (0.70.15)\n",
      "Requirement already satisfied: multidict<7.0,>=4.5 in c:\\users\\dbake\\documents\\grep_boi\\cs541_cs441_ai_final_project\\syntheticdata\\synth-env\\lib\\site-packages (from aiohttp->datasets<3.0.0,~=2.14.6->dspy-ai) (6.0.5)\n",
      "Requirement already satisfied: attrs>=17.3.0 in c:\\users\\dbake\\documents\\grep_boi\\cs541_cs441_ai_final_project\\syntheticdata\\synth-env\\lib\\site-packages (from aiohttp->datasets<3.0.0,~=2.14.6->dspy-ai) (23.2.0)\n",
      "Requirement already satisfied: yarl<2.0,>=1.0 in c:\\users\\dbake\\documents\\grep_boi\\cs541_cs441_ai_final_project\\syntheticdata\\synth-env\\lib\\site-packages (from aiohttp->datasets<3.0.0,~=2.14.6->dspy-ai) (1.9.4)\n",
      "Requirement already satisfied: aiosignal>=1.1.2 in c:\\users\\dbake\\documents\\grep_boi\\cs541_cs441_ai_final_project\\syntheticdata\\synth-env\\lib\\site-packages (from aiohttp->datasets<3.0.0,~=2.14.6->dspy-ai) (1.3.1)\n",
      "Requirement already satisfied: async-timeout<5.0,>=4.0 in c:\\users\\dbake\\documents\\grep_boi\\cs541_cs441_ai_final_project\\syntheticdata\\synth-env\\lib\\site-packages (from aiohttp->datasets<3.0.0,~=2.14.6->dspy-ai) (4.0.3)\n",
      "Requirement already satisfied: frozenlist>=1.1.1 in c:\\users\\dbake\\documents\\grep_boi\\cs541_cs441_ai_final_project\\syntheticdata\\synth-env\\lib\\site-packages (from aiohttp->datasets<3.0.0,~=2.14.6->dspy-ai) (1.4.1)\n",
      "Requirement already satisfied: filelock in c:\\users\\dbake\\documents\\grep_boi\\cs541_cs441_ai_final_project\\syntheticdata\\synth-env\\lib\\site-packages (from huggingface-hub<1.0.0,>=0.14.0->datasets<3.0.0,~=2.14.6->dspy-ai) (3.14.0)\n",
      "Requirement already satisfied: typing-extensions>=3.7.4.3 in c:\\users\\dbake\\documents\\grep_boi\\cs541_cs441_ai_final_project\\syntheticdata\\synth-env\\lib\\site-packages (from huggingface-hub<1.0.0,>=0.14.0->datasets<3.0.0,~=2.14.6->dspy-ai) (4.12.2)\n",
      "Requirement already satisfied: httpx<1,>=0.23.0 in c:\\users\\dbake\\documents\\grep_boi\\cs541_cs441_ai_final_project\\syntheticdata\\synth-env\\lib\\site-packages (from openai<2.0.0,>=0.28.1->dspy-ai) (0.27.0)\n",
      "Requirement already satisfied: sniffio in c:\\users\\dbake\\documents\\grep_boi\\cs541_cs441_ai_final_project\\syntheticdata\\synth-env\\lib\\site-packages (from openai<2.0.0,>=0.28.1->dspy-ai) (1.3.1)\n",
      "Requirement already satisfied: anyio<5,>=3.5.0 in c:\\users\\dbake\\documents\\grep_boi\\cs541_cs441_ai_final_project\\syntheticdata\\synth-env\\lib\\site-packages (from openai<2.0.0,>=0.28.1->dspy-ai) (4.4.0)\n",
      "Requirement already satisfied: distro<2,>=1.7.0 in c:\\users\\dbake\\documents\\grep_boi\\cs541_cs441_ai_final_project\\syntheticdata\\synth-env\\lib\\site-packages (from openai<2.0.0,>=0.28.1->dspy-ai) (1.9.0)\n",
      "Requirement already satisfied: exceptiongroup>=1.0.2 in c:\\users\\dbake\\documents\\grep_boi\\cs541_cs441_ai_final_project\\syntheticdata\\synth-env\\lib\\site-packages (from anyio<5,>=3.5.0->openai<2.0.0,>=0.28.1->dspy-ai) (1.2.1)\n",
      "Requirement already satisfied: idna>=2.8 in c:\\users\\dbake\\documents\\grep_boi\\cs541_cs441_ai_final_project\\syntheticdata\\synth-env\\lib\\site-packages (from anyio<5,>=3.5.0->openai<2.0.0,>=0.28.1->dspy-ai) (3.7)\n",
      "Requirement already satisfied: httpcore==1.* in c:\\users\\dbake\\documents\\grep_boi\\cs541_cs441_ai_final_project\\syntheticdata\\synth-env\\lib\\site-packages (from httpx<1,>=0.23.0->openai<2.0.0,>=0.28.1->dspy-ai) (1.0.5)\n",
      "Requirement already satisfied: certifi in c:\\users\\dbake\\documents\\grep_boi\\cs541_cs441_ai_final_project\\syntheticdata\\synth-env\\lib\\site-packages (from httpx<1,>=0.23.0->openai<2.0.0,>=0.28.1->dspy-ai) (2024.6.2)\n",
      "Requirement already satisfied: h11<0.15,>=0.13 in c:\\users\\dbake\\documents\\grep_boi\\cs541_cs441_ai_final_project\\syntheticdata\\synth-env\\lib\\site-packages (from httpcore==1.*->httpx<1,>=0.23.0->openai<2.0.0,>=0.28.1->dspy-ai) (0.14.0)\n",
      "Requirement already satisfied: pydantic-core==2.18.4 in c:\\users\\dbake\\documents\\grep_boi\\cs541_cs441_ai_final_project\\syntheticdata\\synth-env\\lib\\site-packages (from pydantic~=2.0->dspy-ai) (2.18.4)\n",
      "Requirement already satisfied: annotated-types>=0.4.0 in c:\\users\\dbake\\documents\\grep_boi\\cs541_cs441_ai_final_project\\syntheticdata\\synth-env\\lib\\site-packages (from pydantic~=2.0->dspy-ai) (0.7.0)\n",
      "Requirement already satisfied: charset-normalizer<4,>=2 in c:\\users\\dbake\\documents\\grep_boi\\cs541_cs441_ai_final_project\\syntheticdata\\synth-env\\lib\\site-packages (from requests->dspy-ai) (3.3.2)\n",
      "Requirement already satisfied: urllib3<3,>=1.21.1 in c:\\users\\dbake\\documents\\grep_boi\\cs541_cs441_ai_final_project\\syntheticdata\\synth-env\\lib\\site-packages (from requests->dspy-ai) (2.2.1)\n",
      "Requirement already satisfied: colorama in c:\\users\\dbake\\documents\\grep_boi\\cs541_cs441_ai_final_project\\syntheticdata\\synth-env\\lib\\site-packages (from tqdm->dspy-ai) (0.4.6)\n",
      "Requirement already satisfied: colorlog in c:\\users\\dbake\\documents\\grep_boi\\cs541_cs441_ai_final_project\\syntheticdata\\synth-env\\lib\\site-packages (from optuna->dspy-ai) (6.8.2)\n",
      "Requirement already satisfied: alembic>=1.5.0 in c:\\users\\dbake\\documents\\grep_boi\\cs541_cs441_ai_final_project\\syntheticdata\\synth-env\\lib\\site-packages (from optuna->dspy-ai) (1.13.1)\n",
      "Requirement already satisfied: sqlalchemy>=1.3.0 in c:\\users\\dbake\\documents\\grep_boi\\cs541_cs441_ai_final_project\\syntheticdata\\synth-env\\lib\\site-packages (from optuna->dspy-ai) (2.0.30)\n",
      "Requirement already satisfied: Mako in c:\\users\\dbake\\documents\\grep_boi\\cs541_cs441_ai_final_project\\syntheticdata\\synth-env\\lib\\site-packages (from alembic>=1.5.0->optuna->dspy-ai) (1.3.5)\n",
      "Requirement already satisfied: greenlet!=0.4.17 in c:\\users\\dbake\\documents\\grep_boi\\cs541_cs441_ai_final_project\\syntheticdata\\synth-env\\lib\\site-packages (from sqlalchemy>=1.3.0->optuna->dspy-ai) (3.0.3)\n",
      "Requirement already satisfied: MarkupSafe>=0.9.2 in c:\\users\\dbake\\documents\\grep_boi\\cs541_cs441_ai_final_project\\syntheticdata\\synth-env\\lib\\site-packages (from Mako->alembic>=1.5.0->optuna->dspy-ai) (2.1.5)\n",
      "Requirement already satisfied: pytz>=2020.1 in c:\\users\\dbake\\documents\\grep_boi\\cs541_cs441_ai_final_project\\syntheticdata\\synth-env\\lib\\site-packages (from pandas->dspy-ai) (2024.1)\n",
      "Requirement already satisfied: tzdata>=2022.7 in c:\\users\\dbake\\documents\\grep_boi\\cs541_cs441_ai_final_project\\syntheticdata\\synth-env\\lib\\site-packages (from pandas->dspy-ai) (2024.1)\n",
      "Requirement already satisfied: python-dateutil>=2.8.2 in c:\\users\\dbake\\documents\\grep_boi\\cs541_cs441_ai_final_project\\syntheticdata\\synth-env\\lib\\site-packages (from pandas->dspy-ai) (2.9.0.post0)\n",
      "Requirement already satisfied: six>=1.5 in c:\\users\\dbake\\documents\\grep_boi\\cs541_cs441_ai_final_project\\syntheticdata\\synth-env\\lib\\site-packages (from python-dateutil>=2.8.2->pandas->dspy-ai) (1.16.0)\n",
      "Note: you may need to restart the kernel to use updated packages.\n"
     ]
    },
    {
     "name": "stderr",
     "output_type": "stream",
     "text": [
      "WARNING: You are using pip version 21.2.4; however, version 24.0 is available.\n",
      "You should consider upgrading via the 'C:\\Users\\dbake\\Documents\\GREP_Boi\\CS541_CS441_AI_Final_Project\\SyntheticData\\synth-env\\Scripts\\python.exe -m pip install --upgrade pip' command.\n"
     ]
    }
   ],
   "source": [
    "pip install dspy-ai"
   ]
  },
  {
   "cell_type": "code",
   "execution_count": 2,
   "id": "e772c1b3-8166-4176-8959-287b1105858c",
   "metadata": {
    "collapsed": true,
    "jupyter": {
     "outputs_hidden": true
    },
    "scrolled": true
   },
   "outputs": [
    {
     "name": "stdout",
     "output_type": "stream",
     "text": [
      "Requirement already satisfied: jupyter in c:\\users\\dbake\\documents\\grep_boi\\cs541_cs441_ai_final_project\\syntheticdata\\synth-env\\lib\\site-packages (1.0.0)\n",
      "Requirement already satisfied: notebook in c:\\users\\dbake\\documents\\grep_boi\\cs541_cs441_ai_final_project\\syntheticdata\\synth-env\\lib\\site-packages (from jupyter) (7.2.1)\n",
      "Requirement already satisfied: ipywidgets in c:\\users\\dbake\\documents\\grep_boi\\cs541_cs441_ai_final_project\\syntheticdata\\synth-env\\lib\\site-packages (from jupyter) (8.1.3)\n",
      "Requirement already satisfied: nbconvert in c:\\users\\dbake\\documents\\grep_boi\\cs541_cs441_ai_final_project\\syntheticdata\\synth-env\\lib\\site-packages (from jupyter) (7.16.4)\n",
      "Requirement already satisfied: qtconsole in c:\\users\\dbake\\documents\\grep_boi\\cs541_cs441_ai_final_project\\syntheticdata\\synth-env\\lib\\site-packages (from jupyter) (5.5.2)\n",
      "Requirement already satisfied: jupyter-console in c:\\users\\dbake\\documents\\grep_boi\\cs541_cs441_ai_final_project\\syntheticdata\\synth-env\\lib\\site-packages (from jupyter) (6.6.3)\n",
      "Requirement already satisfied: ipykernel in c:\\users\\dbake\\documents\\grep_boi\\cs541_cs441_ai_final_project\\syntheticdata\\synth-env\\lib\\site-packages (from jupyter) (6.29.4)\n",
      "Requirement already satisfied: tornado>=6.1 in c:\\users\\dbake\\documents\\grep_boi\\cs541_cs441_ai_final_project\\syntheticdata\\synth-env\\lib\\site-packages (from ipykernel->jupyter) (6.4.1)\n",
      "Requirement already satisfied: ipython>=7.23.1 in c:\\users\\dbake\\documents\\grep_boi\\cs541_cs441_ai_final_project\\syntheticdata\\synth-env\\lib\\site-packages (from ipykernel->jupyter) (8.25.0)\n",
      "Requirement already satisfied: jupyter-core!=5.0.*,>=4.12 in c:\\users\\dbake\\documents\\grep_boi\\cs541_cs441_ai_final_project\\syntheticdata\\synth-env\\lib\\site-packages (from ipykernel->jupyter) (5.7.2)\n",
      "Requirement already satisfied: jupyter-client>=6.1.12 in c:\\users\\dbake\\documents\\grep_boi\\cs541_cs441_ai_final_project\\syntheticdata\\synth-env\\lib\\site-packages (from ipykernel->jupyter) (8.6.2)\n",
      "Requirement already satisfied: traitlets>=5.4.0 in c:\\users\\dbake\\documents\\grep_boi\\cs541_cs441_ai_final_project\\syntheticdata\\synth-env\\lib\\site-packages (from ipykernel->jupyter) (5.14.3)\n",
      "Requirement already satisfied: nest-asyncio in c:\\users\\dbake\\documents\\grep_boi\\cs541_cs441_ai_final_project\\syntheticdata\\synth-env\\lib\\site-packages (from ipykernel->jupyter) (1.6.0)\n",
      "Requirement already satisfied: debugpy>=1.6.5 in c:\\users\\dbake\\documents\\grep_boi\\cs541_cs441_ai_final_project\\syntheticdata\\synth-env\\lib\\site-packages (from ipykernel->jupyter) (1.8.1)\n",
      "Requirement already satisfied: matplotlib-inline>=0.1 in c:\\users\\dbake\\documents\\grep_boi\\cs541_cs441_ai_final_project\\syntheticdata\\synth-env\\lib\\site-packages (from ipykernel->jupyter) (0.1.7)\n",
      "Requirement already satisfied: comm>=0.1.1 in c:\\users\\dbake\\documents\\grep_boi\\cs541_cs441_ai_final_project\\syntheticdata\\synth-env\\lib\\site-packages (from ipykernel->jupyter) (0.2.2)\n",
      "Requirement already satisfied: pyzmq>=24 in c:\\users\\dbake\\documents\\grep_boi\\cs541_cs441_ai_final_project\\syntheticdata\\synth-env\\lib\\site-packages (from ipykernel->jupyter) (26.0.3)\n",
      "Requirement already satisfied: packaging in c:\\users\\dbake\\documents\\grep_boi\\cs541_cs441_ai_final_project\\syntheticdata\\synth-env\\lib\\site-packages (from ipykernel->jupyter) (24.0)\n",
      "Requirement already satisfied: psutil in c:\\users\\dbake\\documents\\grep_boi\\cs541_cs441_ai_final_project\\syntheticdata\\synth-env\\lib\\site-packages (from ipykernel->jupyter) (5.9.8)\n",
      "Requirement already satisfied: pygments>=2.4.0 in c:\\users\\dbake\\documents\\grep_boi\\cs541_cs441_ai_final_project\\syntheticdata\\synth-env\\lib\\site-packages (from ipython>=7.23.1->ipykernel->jupyter) (2.18.0)\n",
      "Requirement already satisfied: jedi>=0.16 in c:\\users\\dbake\\documents\\grep_boi\\cs541_cs441_ai_final_project\\syntheticdata\\synth-env\\lib\\site-packages (from ipython>=7.23.1->ipykernel->jupyter) (0.19.1)\n",
      "Requirement already satisfied: stack-data in c:\\users\\dbake\\documents\\grep_boi\\cs541_cs441_ai_final_project\\syntheticdata\\synth-env\\lib\\site-packages (from ipython>=7.23.1->ipykernel->jupyter) (0.6.3)\n",
      "Requirement already satisfied: exceptiongroup in c:\\users\\dbake\\documents\\grep_boi\\cs541_cs441_ai_final_project\\syntheticdata\\synth-env\\lib\\site-packages (from ipython>=7.23.1->ipykernel->jupyter) (1.2.1)\n",
      "Requirement already satisfied: prompt-toolkit<3.1.0,>=3.0.41 in c:\\users\\dbake\\documents\\grep_boi\\cs541_cs441_ai_final_project\\syntheticdata\\synth-env\\lib\\site-packages (from ipython>=7.23.1->ipykernel->jupyter) (3.0.46)\n",
      "Requirement already satisfied: colorama in c:\\users\\dbake\\documents\\grep_boi\\cs541_cs441_ai_final_project\\syntheticdata\\synth-env\\lib\\site-packages (from ipython>=7.23.1->ipykernel->jupyter) (0.4.6)\n",
      "Requirement already satisfied: typing-extensions>=4.6 in c:\\users\\dbake\\documents\\grep_boi\\cs541_cs441_ai_final_project\\syntheticdata\\synth-env\\lib\\site-packages (from ipython>=7.23.1->ipykernel->jupyter) (4.12.2)\n",
      "Requirement already satisfied: decorator in c:\\users\\dbake\\documents\\grep_boi\\cs541_cs441_ai_final_project\\syntheticdata\\synth-env\\lib\\site-packages (from ipython>=7.23.1->ipykernel->jupyter) (5.1.1)\n",
      "Requirement already satisfied: parso<0.9.0,>=0.8.3 in c:\\users\\dbake\\documents\\grep_boi\\cs541_cs441_ai_final_project\\syntheticdata\\synth-env\\lib\\site-packages (from jedi>=0.16->ipython>=7.23.1->ipykernel->jupyter) (0.8.4)\n",
      "Requirement already satisfied: python-dateutil>=2.8.2 in c:\\users\\dbake\\documents\\grep_boi\\cs541_cs441_ai_final_project\\syntheticdata\\synth-env\\lib\\site-packages (from jupyter-client>=6.1.12->ipykernel->jupyter) (2.9.0.post0)\n",
      "Requirement already satisfied: pywin32>=300 in c:\\users\\dbake\\documents\\grep_boi\\cs541_cs441_ai_final_project\\syntheticdata\\synth-env\\lib\\site-packages (from jupyter-core!=5.0.*,>=4.12->ipykernel->jupyter) (306)\n",
      "Requirement already satisfied: platformdirs>=2.5 in c:\\users\\dbake\\documents\\grep_boi\\cs541_cs441_ai_final_project\\syntheticdata\\synth-env\\lib\\site-packages (from jupyter-core!=5.0.*,>=4.12->ipykernel->jupyter) (4.2.2)\n",
      "Requirement already satisfied: wcwidth in c:\\users\\dbake\\documents\\grep_boi\\cs541_cs441_ai_final_project\\syntheticdata\\synth-env\\lib\\site-packages (from prompt-toolkit<3.1.0,>=3.0.41->ipython>=7.23.1->ipykernel->jupyter) (0.2.13)\n",
      "Requirement already satisfied: six>=1.5 in c:\\users\\dbake\\documents\\grep_boi\\cs541_cs441_ai_final_project\\syntheticdata\\synth-env\\lib\\site-packages (from python-dateutil>=2.8.2->jupyter-client>=6.1.12->ipykernel->jupyter) (1.16.0)\n",
      "Requirement already satisfied: jupyterlab-widgets~=3.0.11 in c:\\users\\dbake\\documents\\grep_boi\\cs541_cs441_ai_final_project\\syntheticdata\\synth-env\\lib\\site-packages (from ipywidgets->jupyter) (3.0.11)\n",
      "Requirement already satisfied: widgetsnbextension~=4.0.11 in c:\\users\\dbake\\documents\\grep_boi\\cs541_cs441_ai_final_project\\syntheticdata\\synth-env\\lib\\site-packages (from ipywidgets->jupyter) (4.0.11)\n",
      "Requirement already satisfied: beautifulsoup4 in c:\\users\\dbake\\documents\\grep_boi\\cs541_cs441_ai_final_project\\syntheticdata\\synth-env\\lib\\site-packages (from nbconvert->jupyter) (4.12.3)\n",
      "Requirement already satisfied: nbclient>=0.5.0 in c:\\users\\dbake\\documents\\grep_boi\\cs541_cs441_ai_final_project\\syntheticdata\\synth-env\\lib\\site-packages (from nbconvert->jupyter) (0.10.0)\n",
      "Requirement already satisfied: bleach!=5.0.0 in c:\\users\\dbake\\documents\\grep_boi\\cs541_cs441_ai_final_project\\syntheticdata\\synth-env\\lib\\site-packages (from nbconvert->jupyter) (6.1.0)\n",
      "Requirement already satisfied: nbformat>=5.7 in c:\\users\\dbake\\documents\\grep_boi\\cs541_cs441_ai_final_project\\syntheticdata\\synth-env\\lib\\site-packages (from nbconvert->jupyter) (5.10.4)\n",
      "Requirement already satisfied: markupsafe>=2.0 in c:\\users\\dbake\\documents\\grep_boi\\cs541_cs441_ai_final_project\\syntheticdata\\synth-env\\lib\\site-packages (from nbconvert->jupyter) (2.1.5)\n",
      "Requirement already satisfied: jinja2>=3.0 in c:\\users\\dbake\\documents\\grep_boi\\cs541_cs441_ai_final_project\\syntheticdata\\synth-env\\lib\\site-packages (from nbconvert->jupyter) (3.1.4)\n",
      "Requirement already satisfied: pandocfilters>=1.4.1 in c:\\users\\dbake\\documents\\grep_boi\\cs541_cs441_ai_final_project\\syntheticdata\\synth-env\\lib\\site-packages (from nbconvert->jupyter) (1.5.1)\n",
      "Requirement already satisfied: defusedxml in c:\\users\\dbake\\documents\\grep_boi\\cs541_cs441_ai_final_project\\syntheticdata\\synth-env\\lib\\site-packages (from nbconvert->jupyter) (0.7.1)\n",
      "Requirement already satisfied: tinycss2 in c:\\users\\dbake\\documents\\grep_boi\\cs541_cs441_ai_final_project\\syntheticdata\\synth-env\\lib\\site-packages (from nbconvert->jupyter) (1.3.0)\n",
      "Requirement already satisfied: mistune<4,>=2.0.3 in c:\\users\\dbake\\documents\\grep_boi\\cs541_cs441_ai_final_project\\syntheticdata\\synth-env\\lib\\site-packages (from nbconvert->jupyter) (3.0.2)\n",
      "Requirement already satisfied: jupyterlab-pygments in c:\\users\\dbake\\documents\\grep_boi\\cs541_cs441_ai_final_project\\syntheticdata\\synth-env\\lib\\site-packages (from nbconvert->jupyter) (0.3.0)\n",
      "Requirement already satisfied: webencodings in c:\\users\\dbake\\documents\\grep_boi\\cs541_cs441_ai_final_project\\syntheticdata\\synth-env\\lib\\site-packages (from bleach!=5.0.0->nbconvert->jupyter) (0.5.1)\n",
      "Requirement already satisfied: jsonschema>=2.6 in c:\\users\\dbake\\documents\\grep_boi\\cs541_cs441_ai_final_project\\syntheticdata\\synth-env\\lib\\site-packages (from nbformat>=5.7->nbconvert->jupyter) (4.22.0)\n",
      "Requirement already satisfied: fastjsonschema>=2.15 in c:\\users\\dbake\\documents\\grep_boi\\cs541_cs441_ai_final_project\\syntheticdata\\synth-env\\lib\\site-packages (from nbformat>=5.7->nbconvert->jupyter) (2.19.1)\n",
      "Requirement already satisfied: attrs>=22.2.0 in c:\\users\\dbake\\documents\\grep_boi\\cs541_cs441_ai_final_project\\syntheticdata\\synth-env\\lib\\site-packages (from jsonschema>=2.6->nbformat>=5.7->nbconvert->jupyter) (23.2.0)\n",
      "Requirement already satisfied: referencing>=0.28.4 in c:\\users\\dbake\\documents\\grep_boi\\cs541_cs441_ai_final_project\\syntheticdata\\synth-env\\lib\\site-packages (from jsonschema>=2.6->nbformat>=5.7->nbconvert->jupyter) (0.35.1)\n",
      "Requirement already satisfied: rpds-py>=0.7.1 in c:\\users\\dbake\\documents\\grep_boi\\cs541_cs441_ai_final_project\\syntheticdata\\synth-env\\lib\\site-packages (from jsonschema>=2.6->nbformat>=5.7->nbconvert->jupyter) (0.18.1)\n",
      "Requirement already satisfied: jsonschema-specifications>=2023.03.6 in c:\\users\\dbake\\documents\\grep_boi\\cs541_cs441_ai_final_project\\syntheticdata\\synth-env\\lib\\site-packages (from jsonschema>=2.6->nbformat>=5.7->nbconvert->jupyter) (2023.12.1)\n",
      "Requirement already satisfied: soupsieve>1.2 in c:\\users\\dbake\\documents\\grep_boi\\cs541_cs441_ai_final_project\\syntheticdata\\synth-env\\lib\\site-packages (from beautifulsoup4->nbconvert->jupyter) (2.5)\n",
      "Requirement already satisfied: jupyterlab<4.3,>=4.2.0 in c:\\users\\dbake\\documents\\grep_boi\\cs541_cs441_ai_final_project\\syntheticdata\\synth-env\\lib\\site-packages (from notebook->jupyter) (4.2.1)\n",
      "Requirement already satisfied: jupyter-server<3,>=2.4.0 in c:\\users\\dbake\\documents\\grep_boi\\cs541_cs441_ai_final_project\\syntheticdata\\synth-env\\lib\\site-packages (from notebook->jupyter) (2.14.1)\n",
      "Requirement already satisfied: jupyterlab-server<3,>=2.27.1 in c:\\users\\dbake\\documents\\grep_boi\\cs541_cs441_ai_final_project\\syntheticdata\\synth-env\\lib\\site-packages (from notebook->jupyter) (2.27.2)\n",
      "Requirement already satisfied: notebook-shim<0.3,>=0.2 in c:\\users\\dbake\\documents\\grep_boi\\cs541_cs441_ai_final_project\\syntheticdata\\synth-env\\lib\\site-packages (from notebook->jupyter) (0.2.4)\n",
      "Requirement already satisfied: send2trash>=1.8.2 in c:\\users\\dbake\\documents\\grep_boi\\cs541_cs441_ai_final_project\\syntheticdata\\synth-env\\lib\\site-packages (from jupyter-server<3,>=2.4.0->notebook->jupyter) (1.8.3)\n",
      "Requirement already satisfied: prometheus-client>=0.9 in c:\\users\\dbake\\documents\\grep_boi\\cs541_cs441_ai_final_project\\syntheticdata\\synth-env\\lib\\site-packages (from jupyter-server<3,>=2.4.0->notebook->jupyter) (0.20.0)\n",
      "Requirement already satisfied: pywinpty>=2.0.1 in c:\\users\\dbake\\documents\\grep_boi\\cs541_cs441_ai_final_project\\syntheticdata\\synth-env\\lib\\site-packages (from jupyter-server<3,>=2.4.0->notebook->jupyter) (2.0.13)\n",
      "Requirement already satisfied: argon2-cffi>=21.1 in c:\\users\\dbake\\documents\\grep_boi\\cs541_cs441_ai_final_project\\syntheticdata\\synth-env\\lib\\site-packages (from jupyter-server<3,>=2.4.0->notebook->jupyter) (23.1.0)\n",
      "Requirement already satisfied: overrides>=5.0 in c:\\users\\dbake\\documents\\grep_boi\\cs541_cs441_ai_final_project\\syntheticdata\\synth-env\\lib\\site-packages (from jupyter-server<3,>=2.4.0->notebook->jupyter) (7.7.0)\n",
      "Requirement already satisfied: anyio>=3.1.0 in c:\\users\\dbake\\documents\\grep_boi\\cs541_cs441_ai_final_project\\syntheticdata\\synth-env\\lib\\site-packages (from jupyter-server<3,>=2.4.0->notebook->jupyter) (4.4.0)\n",
      "Requirement already satisfied: terminado>=0.8.3 in c:\\users\\dbake\\documents\\grep_boi\\cs541_cs441_ai_final_project\\syntheticdata\\synth-env\\lib\\site-packages (from jupyter-server<3,>=2.4.0->notebook->jupyter) (0.18.1)\n",
      "Requirement already satisfied: websocket-client>=1.7 in c:\\users\\dbake\\documents\\grep_boi\\cs541_cs441_ai_final_project\\syntheticdata\\synth-env\\lib\\site-packages (from jupyter-server<3,>=2.4.0->notebook->jupyter) (1.8.0)\n",
      "Requirement already satisfied: jupyter-server-terminals>=0.4.4 in c:\\users\\dbake\\documents\\grep_boi\\cs541_cs441_ai_final_project\\syntheticdata\\synth-env\\lib\\site-packages (from jupyter-server<3,>=2.4.0->notebook->jupyter) (0.5.3)\n",
      "Requirement already satisfied: jupyter-events>=0.9.0 in c:\\users\\dbake\\documents\\grep_boi\\cs541_cs441_ai_final_project\\syntheticdata\\synth-env\\lib\\site-packages (from jupyter-server<3,>=2.4.0->notebook->jupyter) (0.10.0)\n",
      "Requirement already satisfied: idna>=2.8 in c:\\users\\dbake\\documents\\grep_boi\\cs541_cs441_ai_final_project\\syntheticdata\\synth-env\\lib\\site-packages (from anyio>=3.1.0->jupyter-server<3,>=2.4.0->notebook->jupyter) (3.7)\n",
      "Requirement already satisfied: sniffio>=1.1 in c:\\users\\dbake\\documents\\grep_boi\\cs541_cs441_ai_final_project\\syntheticdata\\synth-env\\lib\\site-packages (from anyio>=3.1.0->jupyter-server<3,>=2.4.0->notebook->jupyter) (1.3.1)\n",
      "Requirement already satisfied: argon2-cffi-bindings in c:\\users\\dbake\\documents\\grep_boi\\cs541_cs441_ai_final_project\\syntheticdata\\synth-env\\lib\\site-packages (from argon2-cffi>=21.1->jupyter-server<3,>=2.4.0->notebook->jupyter) (21.2.0)\n",
      "Requirement already satisfied: python-json-logger>=2.0.4 in c:\\users\\dbake\\documents\\grep_boi\\cs541_cs441_ai_final_project\\syntheticdata\\synth-env\\lib\\site-packages (from jupyter-events>=0.9.0->jupyter-server<3,>=2.4.0->notebook->jupyter) (2.0.7)\n",
      "Requirement already satisfied: pyyaml>=5.3 in c:\\users\\dbake\\documents\\grep_boi\\cs541_cs441_ai_final_project\\syntheticdata\\synth-env\\lib\\site-packages (from jupyter-events>=0.9.0->jupyter-server<3,>=2.4.0->notebook->jupyter) (6.0.1)\n",
      "Requirement already satisfied: rfc3986-validator>=0.1.1 in c:\\users\\dbake\\documents\\grep_boi\\cs541_cs441_ai_final_project\\syntheticdata\\synth-env\\lib\\site-packages (from jupyter-events>=0.9.0->jupyter-server<3,>=2.4.0->notebook->jupyter) (0.1.1)\n",
      "Requirement already satisfied: rfc3339-validator in c:\\users\\dbake\\documents\\grep_boi\\cs541_cs441_ai_final_project\\syntheticdata\\synth-env\\lib\\site-packages (from jupyter-events>=0.9.0->jupyter-server<3,>=2.4.0->notebook->jupyter) (0.1.4)\n",
      "Requirement already satisfied: isoduration in c:\\users\\dbake\\documents\\grep_boi\\cs541_cs441_ai_final_project\\syntheticdata\\synth-env\\lib\\site-packages (from jsonschema>=2.6->nbformat>=5.7->nbconvert->jupyter) (20.11.0)\n",
      "Requirement already satisfied: uri-template in c:\\users\\dbake\\documents\\grep_boi\\cs541_cs441_ai_final_project\\syntheticdata\\synth-env\\lib\\site-packages (from jsonschema>=2.6->nbformat>=5.7->nbconvert->jupyter) (1.3.0)\n",
      "Requirement already satisfied: fqdn in c:\\users\\dbake\\documents\\grep_boi\\cs541_cs441_ai_final_project\\syntheticdata\\synth-env\\lib\\site-packages (from jsonschema>=2.6->nbformat>=5.7->nbconvert->jupyter) (1.5.1)\n",
      "Requirement already satisfied: jsonpointer>1.13 in c:\\users\\dbake\\documents\\grep_boi\\cs541_cs441_ai_final_project\\syntheticdata\\synth-env\\lib\\site-packages (from jsonschema>=2.6->nbformat>=5.7->nbconvert->jupyter) (2.4)\n",
      "Requirement already satisfied: webcolors>=1.11 in c:\\users\\dbake\\documents\\grep_boi\\cs541_cs441_ai_final_project\\syntheticdata\\synth-env\\lib\\site-packages (from jsonschema>=2.6->nbformat>=5.7->nbconvert->jupyter) (24.6.0)\n",
      "Requirement already satisfied: jupyter-lsp>=2.0.0 in c:\\users\\dbake\\documents\\grep_boi\\cs541_cs441_ai_final_project\\syntheticdata\\synth-env\\lib\\site-packages (from jupyterlab<4.3,>=4.2.0->notebook->jupyter) (2.2.5)\n",
      "Requirement already satisfied: httpx>=0.25.0 in c:\\users\\dbake\\documents\\grep_boi\\cs541_cs441_ai_final_project\\syntheticdata\\synth-env\\lib\\site-packages (from jupyterlab<4.3,>=4.2.0->notebook->jupyter) (0.27.0)\n",
      "Requirement already satisfied: tomli>=1.2.2 in c:\\users\\dbake\\documents\\grep_boi\\cs541_cs441_ai_final_project\\syntheticdata\\synth-env\\lib\\site-packages (from jupyterlab<4.3,>=4.2.0->notebook->jupyter) (2.0.1)\n",
      "Requirement already satisfied: async-lru>=1.0.0 in c:\\users\\dbake\\documents\\grep_boi\\cs541_cs441_ai_final_project\\syntheticdata\\synth-env\\lib\\site-packages (from jupyterlab<4.3,>=4.2.0->notebook->jupyter) (2.0.4)\n",
      "Requirement already satisfied: httpcore==1.* in c:\\users\\dbake\\documents\\grep_boi\\cs541_cs441_ai_final_project\\syntheticdata\\synth-env\\lib\\site-packages (from httpx>=0.25.0->jupyterlab<4.3,>=4.2.0->notebook->jupyter) (1.0.5)\n",
      "Requirement already satisfied: certifi in c:\\users\\dbake\\documents\\grep_boi\\cs541_cs441_ai_final_project\\syntheticdata\\synth-env\\lib\\site-packages (from httpx>=0.25.0->jupyterlab<4.3,>=4.2.0->notebook->jupyter) (2024.6.2)\n",
      "Requirement already satisfied: h11<0.15,>=0.13 in c:\\users\\dbake\\documents\\grep_boi\\cs541_cs441_ai_final_project\\syntheticdata\\synth-env\\lib\\site-packages (from httpcore==1.*->httpx>=0.25.0->jupyterlab<4.3,>=4.2.0->notebook->jupyter) (0.14.0)\n",
      "Requirement already satisfied: requests>=2.31 in c:\\users\\dbake\\documents\\grep_boi\\cs541_cs441_ai_final_project\\syntheticdata\\synth-env\\lib\\site-packages (from jupyterlab-server<3,>=2.27.1->notebook->jupyter) (2.32.3)\n",
      "Requirement already satisfied: babel>=2.10 in c:\\users\\dbake\\documents\\grep_boi\\cs541_cs441_ai_final_project\\syntheticdata\\synth-env\\lib\\site-packages (from jupyterlab-server<3,>=2.27.1->notebook->jupyter) (2.15.0)\n",
      "Requirement already satisfied: json5>=0.9.0 in c:\\users\\dbake\\documents\\grep_boi\\cs541_cs441_ai_final_project\\syntheticdata\\synth-env\\lib\\site-packages (from jupyterlab-server<3,>=2.27.1->notebook->jupyter) (0.9.25)\n",
      "Requirement already satisfied: urllib3<3,>=1.21.1 in c:\\users\\dbake\\documents\\grep_boi\\cs541_cs441_ai_final_project\\syntheticdata\\synth-env\\lib\\site-packages (from requests>=2.31->jupyterlab-server<3,>=2.27.1->notebook->jupyter) (2.2.1)\n",
      "Requirement already satisfied: charset-normalizer<4,>=2 in c:\\users\\dbake\\documents\\grep_boi\\cs541_cs441_ai_final_project\\syntheticdata\\synth-env\\lib\\site-packages (from requests>=2.31->jupyterlab-server<3,>=2.27.1->notebook->jupyter) (3.3.2)\n",
      "Requirement already satisfied: cffi>=1.0.1 in c:\\users\\dbake\\documents\\grep_boi\\cs541_cs441_ai_final_project\\syntheticdata\\synth-env\\lib\\site-packages (from argon2-cffi-bindings->argon2-cffi>=21.1->jupyter-server<3,>=2.4.0->notebook->jupyter) (1.16.0)\n",
      "Requirement already satisfied: pycparser in c:\\users\\dbake\\documents\\grep_boi\\cs541_cs441_ai_final_project\\syntheticdata\\synth-env\\lib\\site-packages (from cffi>=1.0.1->argon2-cffi-bindings->argon2-cffi>=21.1->jupyter-server<3,>=2.4.0->notebook->jupyter) (2.22)\n",
      "Requirement already satisfied: arrow>=0.15.0 in c:\\users\\dbake\\documents\\grep_boi\\cs541_cs441_ai_final_project\\syntheticdata\\synth-env\\lib\\site-packages (from isoduration->jsonschema>=2.6->nbformat>=5.7->nbconvert->jupyter) (1.3.0)\n",
      "Requirement already satisfied: types-python-dateutil>=2.8.10 in c:\\users\\dbake\\documents\\grep_boi\\cs541_cs441_ai_final_project\\syntheticdata\\synth-env\\lib\\site-packages (from arrow>=0.15.0->isoduration->jsonschema>=2.6->nbformat>=5.7->nbconvert->jupyter) (2.9.0.20240316)\n",
      "Requirement already satisfied: qtpy>=2.4.0 in c:\\users\\dbake\\documents\\grep_boi\\cs541_cs441_ai_final_project\\syntheticdata\\synth-env\\lib\\site-packages (from qtconsole->jupyter) (2.4.1)\n",
      "Requirement already satisfied: asttokens>=2.1.0 in c:\\users\\dbake\\documents\\grep_boi\\cs541_cs441_ai_final_project\\syntheticdata\\synth-env\\lib\\site-packages (from stack-data->ipython>=7.23.1->ipykernel->jupyter) (2.4.1)\n",
      "Requirement already satisfied: pure-eval in c:\\users\\dbake\\documents\\grep_boi\\cs541_cs441_ai_final_project\\syntheticdata\\synth-env\\lib\\site-packages (from stack-data->ipython>=7.23.1->ipykernel->jupyter) (0.2.2)\n",
      "Requirement already satisfied: executing>=1.2.0 in c:\\users\\dbake\\documents\\grep_boi\\cs541_cs441_ai_final_project\\syntheticdata\\synth-env\\lib\\site-packages (from stack-data->ipython>=7.23.1->ipykernel->jupyter) (2.0.1)\n",
      "Note: you may need to restart the kernel to use updated packages.\n"
     ]
    },
    {
     "name": "stderr",
     "output_type": "stream",
     "text": [
      "WARNING: You are using pip version 21.2.4; however, version 24.0 is available.\n",
      "You should consider upgrading via the 'C:\\Users\\dbake\\Documents\\GREP_Boi\\CS541_CS441_AI_Final_Project\\SyntheticData\\synth-env\\Scripts\\python.exe -m pip install --upgrade pip' command.\n"
     ]
    }
   ],
   "source": [
    "pip install --upgrade jupyter"
   ]
  },
  {
   "cell_type": "markdown",
   "id": "dc2f06e1-6176-45e7-a38d-a617deb9ff5a",
   "metadata": {},
   "source": [
    "### Use DSPy to load CSV Files"
   ]
  },
  {
   "cell_type": "code",
   "execution_count": 5,
   "id": "2ffa7d5f-8617-449d-846c-d4a15fc3c9ef",
   "metadata": {},
   "outputs": [],
   "source": [
    "import dspy\n",
    "from dspy.datasets import DataLoader\n",
    "\n",
    "dl = DataLoader()"
   ]
  },
  {
   "cell_type": "code",
   "execution_count": 9,
   "id": "953b963f-855b-4199-8f56-19bff3ddff20",
   "metadata": {},
   "outputs": [],
   "source": [
    "grep_options_dataset = dl.from_csv(\"./data/grep_options.csv\",)\n",
    "sample_files_dataset = dl.from_csv(\"./data/sample_files.csv\",)"
   ]
  },
  {
   "cell_type": "code",
   "execution_count": 12,
   "id": "8d6cc64d-6dca-4163-bbc7-0480d537e842",
   "metadata": {},
   "outputs": [
    {
     "name": "stdout",
     "output_type": "stream",
     "text": [
      "Example({'Options': '-A', 'Description': 'Prints NUM lines of trailing context after matching lines'}) (input_keys=set())\n",
      "Example({'File_Path': '/var/log/syslo?.log', 'Description': 'System log file with one character wildcard'}) (input_keys=set())\n"
     ]
    }
   ],
   "source": [
    "print(grep_options_dataset[0])\n",
    "print(sample_files_dataset[0])"
   ]
  },
  {
   "cell_type": "markdown",
   "id": "bac9c048-d9cf-4af9-89ea-e9143f60da7d",
   "metadata": {},
   "source": [
    "### Add sample doc column"
   ]
  },
  {
   "cell_type": "code",
   "execution_count": 16,
   "id": "2a989df7-3a8c-4c20-b173-0b091a7bd7de",
   "metadata": {},
   "outputs": [],
   "source": [
    "# define typed signature\n",
    "import os\n",
    "\n",
    "from dotenv import load_dotenv\n",
    "\n",
    "load_dotenv(\"../.env\")\n",
    "\n",
    "GOOGLE_API_KEY = os.getenv(\"GOOGLE_API_KEY\")\n",
    "\n",
    "gemini_flash = dspy.Google(model=\"gemini-1.5-flash-latest\", temperature=0)\n",
    "\n",
    "dspy.settings.configure(lm=gemini_flash)"
   ]
  },
  {
   "cell_type": "code",
   "execution_count": 76,
   "id": "d1c9fca6-35b2-4ead-9ab4-872c097831be",
   "metadata": {},
   "outputs": [],
   "source": [
    "from pydantic import BaseModel, Field, confloat\n",
    "from typing import List, NamedTuple\n",
    "\n",
    "class FileData(dspy.Signature):\n",
    "    path = dspy.InputField(desc=\"The file, files, or directory\")\n",
    "    description = dspy.InputField(desc=\"The description of the file, files, or directory\")\n",
    "    file = dspy.OutputField(desc=\"No more than a 5 line sample of the files based on the description and path. Just include the file. Max 200 tokens\")\n",
    "\n",
    "GenerateSampleFile = dspy.Predict(FileData, temperature=0.6)"
   ]
  },
  {
   "cell_type": "code",
   "execution_count": 85,
   "id": "54f847fe-afae-4b42-9dfc-f6823e14f598",
   "metadata": {},
   "outputs": [],
   "source": [
    "resp = GenerateSampleFile(path=sample_files_dataset[4].File_Path, description=sample_files_dataset[4].Description)"
   ]
  },
  {
   "cell_type": "code",
   "execution_count": 86,
   "id": "2cf585ba-e54d-4368-8e25-a9ef3cc9d41a",
   "metadata": {},
   "outputs": [
    {
     "data": {
      "text/plain": [
       "Prediction(\n",
       "    file='```python\\ndef main():\\n    \"\"\"Main function for the application.\"\"\"\\n    # ... your code here ...\\n\\nif __name__ == \"__main__\":\\n    main()\\n```'\n",
       ")"
      ]
     },
     "execution_count": 86,
     "metadata": {},
     "output_type": "execute_result"
    }
   ],
   "source": [
    "resp"
   ]
  },
  {
   "cell_type": "markdown",
   "id": "e5c3debb-b501-4f3d-88cb-4e1b0f71f347",
   "metadata": {},
   "source": [
    "### Create list of files"
   ]
  },
  {
   "cell_type": "code",
   "execution_count": 115,
   "id": "27c6a5ea-6704-418a-8fa4-81cf3eb04ddb",
   "metadata": {},
   "outputs": [
    {
     "name": "stdout",
     "output_type": "stream",
     "text": [
      "```nginx\n",
      "# This is a comment.\n",
      "user nginx;\n",
      "worker_processes auto;\n",
      "error_log /var/log/nginx/error.log;\n",
      "pid /run/nginx.pid;\n",
      "\n",
      "```\n",
      "```\n",
      "#!/bin/bash\n",
      "# This script will print the current date and time.\n",
      "date\n",
      "\n",
      "```\n",
      "```\n",
      "# This file is part of the GNU C Library.\n",
      "#\n",
      "# This library is free software; you can redistribute it and/or\n",
      "# modify it under the terms of the GNU Lesser General Public\n",
      "# License as published by the Free Software Foundation; either\n",
      "# version 2.1 of the License, or (at your option) any later version.\n",
      "#\n",
      "# This library is distributed in the hope that it will be useful,\n",
      "# but WITHOUT ANY WARRANTY; without even the implied warranty of\n",
      "# MERCHANTABILITY or FITNESS FOR A PARTICULAR PURPOSE.  See the GNU\n",
      "# Lesser General Public License for more details.\n",
      "#\n",
      "# You should have received a copy of the GNU Lesser General Public\n",
      "# License along with this library; if not, write to the Free Software\n",
      "# Foundation, Inc., 51 Franklin Street, Fifth Floor, Boston, MA  02110-1301 USA.\n",
      "```\n",
      "```\n",
      "--- a/tmp/test.txt\n",
      "+++ b/tmp/test.txt\n",
      "@@ -1,3 +1,4 @@\n",
      " This is a test file.\n",
      "+This is another line.\n",
      "\n",
      "```\n",
      "```\n",
      "proc /mnt/proc 0 0 0 0 777 root root 16908864 2023-10-26 17:07:44.334995000 +0000\n",
      "sys /mnt/sys 0 0 0 0 777 root root 4096 2023-10-26 17:07:44.334995000 +0000\n",
      "dev /mnt/dev 0 0 0 0 777 root root 4096 2023-10-26 17:07:44.334995000 +0000\n",
      "run /mnt/run 0 0 0 0 777 root root 4096 2023-10-26 17:07:44.334995000 +0000\n",
      "tmp /mnt/tmp 0 0 0 0 1777 root root 4096 2023-10-26 17:07:44.334995000 +0000\n",
      "```\n",
      "```\n",
      "/dev/null\n",
      "/dev/zero\n",
      "/dev/random\n",
      "/dev/urandom\n",
      "/dev/pts/0\n",
      "```\n",
      "```\n",
      "# This directory contains optional software that may be installed on the system.\n",
      "# The contents of this directory may vary depending on the specific distribution and configuration of the system.\n",
      "# For example, it may contain packages for additional desktop environments, programming languages, or development tools.\n",
      "# It is generally recommended to install software from trusted repositories or sources, rather than directly from this directory.\n",
      "# If you are unsure about the purpose of a particular file or directory in this location, it is best to consult the system documentation or seek assistance from a knowledgeable user.\n",
      "```\n",
      "```\n",
      "# This is a comment\n",
      "# This is another comment\n",
      "# This is a third comment\n",
      "# This is a fourth comment\n",
      "# This is a fifth comment\n",
      "```\n"
     ]
    }
   ],
   "source": [
    "import time\n",
    "file_sam = []\n",
    "\n",
    "for idx, x in enumerate(sample_files_dataset[142:]):\n",
    "    pred = GenerateSampleFile(path=x.File_Path, description=x.Description)\n",
    "    file_sam.append(pred.file)    \n",
    "    print(pred.file)\n",
    "    time.sleep(10)"
   ]
  },
  {
   "cell_type": "code",
   "execution_count": 114,
   "id": "c1557dd3-b0f3-496b-a342-10b4edcc51a6",
   "metadata": {},
   "outputs": [
    {
     "name": "stdout",
     "output_type": "stream",
     "text": [
      "```\n",
      "# Subsystem sftp /usr/lib/openssh/sftp-server\n",
      "# Port 22\n",
      "# Protocol 2\n",
      "# Ciphers aes128-cbc,aes192-cbc,aes256-cbc,arcfour256,arcfour128,blowfish-cbc\n",
      "# MACs hmac-sha2-256,hmac-sha2-512,hmac-sha1,umac-64@openssh.com,hmac-ripemd160,hmac-md5\n",
      "\n",
      "```\n"
     ]
    }
   ],
   "source": [
    "print(file_sam[25])"
   ]
  },
  {
   "cell_type": "code",
   "execution_count": 116,
   "id": "c86f7df2-05d2-43b8-9e39-32ce4caf0b7a",
   "metadata": {},
   "outputs": [],
   "source": [
    "import csv\n",
    "\n",
    "csv_file_path = \"./data/filetemp5.csv\"\n",
    "\n",
    "# Write the values to the CSV file\n",
    "with open(csv_file_path, 'w', newline='') as file:\n",
    "    writer = csv.writer(file)\n",
    "    # Write each value in a new row\n",
    "    for value in file_sam:\n",
    "        writer.writerow([value])"
   ]
  },
  {
   "cell_type": "code",
   "execution_count": 89,
   "id": "31aa281a-c599-4219-854e-007207e896a4",
   "metadata": {},
   "outputs": [
    {
     "ename": "ValueError",
     "evalue": "Length of values (44) does not match length of index (150)",
     "output_type": "error",
     "traceback": [
      "\u001b[1;31m---------------------------------------------------------------------------\u001b[0m",
      "\u001b[1;31mValueError\u001b[0m                                Traceback (most recent call last)",
      "Cell \u001b[1;32mIn[89], line 11\u001b[0m\n\u001b[0;32m      8\u001b[0m df \u001b[38;5;241m=\u001b[39m pd\u001b[38;5;241m.\u001b[39mread_csv(csv_file_path)\n\u001b[0;32m     10\u001b[0m \u001b[38;5;66;03m# Add the file paths as a new column in the DataFrame\u001b[39;00m\n\u001b[1;32m---> 11\u001b[0m \u001b[43mdf\u001b[49m\u001b[43m[\u001b[49m\u001b[38;5;124;43m'\u001b[39;49m\u001b[38;5;124;43mfile\u001b[39;49m\u001b[38;5;124;43m'\u001b[39;49m\u001b[43m]\u001b[49m \u001b[38;5;241m=\u001b[39m file_sam\n\u001b[0;32m     13\u001b[0m \u001b[38;5;66;03m# Save the updated DataFrame back to the CSV file\u001b[39;00m\n\u001b[0;32m     14\u001b[0m df\u001b[38;5;241m.\u001b[39mto_csv(csv_file_path, index\u001b[38;5;241m=\u001b[39m\u001b[38;5;28;01mFalse\u001b[39;00m)\n",
      "File \u001b[1;32m~\\Documents\\GREP_Boi\\CS541_CS441_AI_Final_Project\\SyntheticData\\synth-env\\lib\\site-packages\\pandas\\core\\frame.py:4311\u001b[0m, in \u001b[0;36mDataFrame.__setitem__\u001b[1;34m(self, key, value)\u001b[0m\n\u001b[0;32m   4308\u001b[0m     \u001b[38;5;28mself\u001b[39m\u001b[38;5;241m.\u001b[39m_setitem_array([key], value)\n\u001b[0;32m   4309\u001b[0m \u001b[38;5;28;01melse\u001b[39;00m:\n\u001b[0;32m   4310\u001b[0m     \u001b[38;5;66;03m# set column\u001b[39;00m\n\u001b[1;32m-> 4311\u001b[0m     \u001b[38;5;28;43mself\u001b[39;49m\u001b[38;5;241;43m.\u001b[39;49m\u001b[43m_set_item\u001b[49m\u001b[43m(\u001b[49m\u001b[43mkey\u001b[49m\u001b[43m,\u001b[49m\u001b[43m \u001b[49m\u001b[43mvalue\u001b[49m\u001b[43m)\u001b[49m\n",
      "File \u001b[1;32m~\\Documents\\GREP_Boi\\CS541_CS441_AI_Final_Project\\SyntheticData\\synth-env\\lib\\site-packages\\pandas\\core\\frame.py:4524\u001b[0m, in \u001b[0;36mDataFrame._set_item\u001b[1;34m(self, key, value)\u001b[0m\n\u001b[0;32m   4514\u001b[0m \u001b[38;5;28;01mdef\u001b[39;00m \u001b[38;5;21m_set_item\u001b[39m(\u001b[38;5;28mself\u001b[39m, key, value) \u001b[38;5;241m-\u001b[39m\u001b[38;5;241m>\u001b[39m \u001b[38;5;28;01mNone\u001b[39;00m:\n\u001b[0;32m   4515\u001b[0m \u001b[38;5;250m    \u001b[39m\u001b[38;5;124;03m\"\"\"\u001b[39;00m\n\u001b[0;32m   4516\u001b[0m \u001b[38;5;124;03m    Add series to DataFrame in specified column.\u001b[39;00m\n\u001b[0;32m   4517\u001b[0m \n\u001b[1;32m   (...)\u001b[0m\n\u001b[0;32m   4522\u001b[0m \u001b[38;5;124;03m    ensure homogeneity.\u001b[39;00m\n\u001b[0;32m   4523\u001b[0m \u001b[38;5;124;03m    \"\"\"\u001b[39;00m\n\u001b[1;32m-> 4524\u001b[0m     value, refs \u001b[38;5;241m=\u001b[39m \u001b[38;5;28;43mself\u001b[39;49m\u001b[38;5;241;43m.\u001b[39;49m\u001b[43m_sanitize_column\u001b[49m\u001b[43m(\u001b[49m\u001b[43mvalue\u001b[49m\u001b[43m)\u001b[49m\n\u001b[0;32m   4526\u001b[0m     \u001b[38;5;28;01mif\u001b[39;00m (\n\u001b[0;32m   4527\u001b[0m         key \u001b[38;5;129;01min\u001b[39;00m \u001b[38;5;28mself\u001b[39m\u001b[38;5;241m.\u001b[39mcolumns\n\u001b[0;32m   4528\u001b[0m         \u001b[38;5;129;01mand\u001b[39;00m value\u001b[38;5;241m.\u001b[39mndim \u001b[38;5;241m==\u001b[39m \u001b[38;5;241m1\u001b[39m\n\u001b[0;32m   4529\u001b[0m         \u001b[38;5;129;01mand\u001b[39;00m \u001b[38;5;129;01mnot\u001b[39;00m \u001b[38;5;28misinstance\u001b[39m(value\u001b[38;5;241m.\u001b[39mdtype, ExtensionDtype)\n\u001b[0;32m   4530\u001b[0m     ):\n\u001b[0;32m   4531\u001b[0m         \u001b[38;5;66;03m# broadcast across multiple columns if necessary\u001b[39;00m\n\u001b[0;32m   4532\u001b[0m         \u001b[38;5;28;01mif\u001b[39;00m \u001b[38;5;129;01mnot\u001b[39;00m \u001b[38;5;28mself\u001b[39m\u001b[38;5;241m.\u001b[39mcolumns\u001b[38;5;241m.\u001b[39mis_unique \u001b[38;5;129;01mor\u001b[39;00m \u001b[38;5;28misinstance\u001b[39m(\u001b[38;5;28mself\u001b[39m\u001b[38;5;241m.\u001b[39mcolumns, MultiIndex):\n",
      "File \u001b[1;32m~\\Documents\\GREP_Boi\\CS541_CS441_AI_Final_Project\\SyntheticData\\synth-env\\lib\\site-packages\\pandas\\core\\frame.py:5266\u001b[0m, in \u001b[0;36mDataFrame._sanitize_column\u001b[1;34m(self, value)\u001b[0m\n\u001b[0;32m   5263\u001b[0m     \u001b[38;5;28;01mreturn\u001b[39;00m _reindex_for_setitem(value, \u001b[38;5;28mself\u001b[39m\u001b[38;5;241m.\u001b[39mindex)\n\u001b[0;32m   5265\u001b[0m \u001b[38;5;28;01mif\u001b[39;00m is_list_like(value):\n\u001b[1;32m-> 5266\u001b[0m     \u001b[43mcom\u001b[49m\u001b[38;5;241;43m.\u001b[39;49m\u001b[43mrequire_length_match\u001b[49m\u001b[43m(\u001b[49m\u001b[43mvalue\u001b[49m\u001b[43m,\u001b[49m\u001b[43m \u001b[49m\u001b[38;5;28;43mself\u001b[39;49m\u001b[38;5;241;43m.\u001b[39;49m\u001b[43mindex\u001b[49m\u001b[43m)\u001b[49m\n\u001b[0;32m   5267\u001b[0m arr \u001b[38;5;241m=\u001b[39m sanitize_array(value, \u001b[38;5;28mself\u001b[39m\u001b[38;5;241m.\u001b[39mindex, copy\u001b[38;5;241m=\u001b[39m\u001b[38;5;28;01mTrue\u001b[39;00m, allow_2d\u001b[38;5;241m=\u001b[39m\u001b[38;5;28;01mTrue\u001b[39;00m)\n\u001b[0;32m   5268\u001b[0m \u001b[38;5;28;01mif\u001b[39;00m (\n\u001b[0;32m   5269\u001b[0m     \u001b[38;5;28misinstance\u001b[39m(value, Index)\n\u001b[0;32m   5270\u001b[0m     \u001b[38;5;129;01mand\u001b[39;00m value\u001b[38;5;241m.\u001b[39mdtype \u001b[38;5;241m==\u001b[39m \u001b[38;5;124m\"\u001b[39m\u001b[38;5;124mobject\u001b[39m\u001b[38;5;124m\"\u001b[39m\n\u001b[1;32m   (...)\u001b[0m\n\u001b[0;32m   5273\u001b[0m     \u001b[38;5;66;03m# TODO: Remove kludge in sanitize_array for string mode when enforcing\u001b[39;00m\n\u001b[0;32m   5274\u001b[0m     \u001b[38;5;66;03m# this deprecation\u001b[39;00m\n",
      "File \u001b[1;32m~\\Documents\\GREP_Boi\\CS541_CS441_AI_Final_Project\\SyntheticData\\synth-env\\lib\\site-packages\\pandas\\core\\common.py:573\u001b[0m, in \u001b[0;36mrequire_length_match\u001b[1;34m(data, index)\u001b[0m\n\u001b[0;32m    569\u001b[0m \u001b[38;5;250m\u001b[39m\u001b[38;5;124;03m\"\"\"\u001b[39;00m\n\u001b[0;32m    570\u001b[0m \u001b[38;5;124;03mCheck the length of data matches the length of the index.\u001b[39;00m\n\u001b[0;32m    571\u001b[0m \u001b[38;5;124;03m\"\"\"\u001b[39;00m\n\u001b[0;32m    572\u001b[0m \u001b[38;5;28;01mif\u001b[39;00m \u001b[38;5;28mlen\u001b[39m(data) \u001b[38;5;241m!=\u001b[39m \u001b[38;5;28mlen\u001b[39m(index):\n\u001b[1;32m--> 573\u001b[0m     \u001b[38;5;28;01mraise\u001b[39;00m \u001b[38;5;167;01mValueError\u001b[39;00m(\n\u001b[0;32m    574\u001b[0m         \u001b[38;5;124m\"\u001b[39m\u001b[38;5;124mLength of values \u001b[39m\u001b[38;5;124m\"\u001b[39m\n\u001b[0;32m    575\u001b[0m         \u001b[38;5;124mf\u001b[39m\u001b[38;5;124m\"\u001b[39m\u001b[38;5;124m(\u001b[39m\u001b[38;5;132;01m{\u001b[39;00m\u001b[38;5;28mlen\u001b[39m(data)\u001b[38;5;132;01m}\u001b[39;00m\u001b[38;5;124m) \u001b[39m\u001b[38;5;124m\"\u001b[39m\n\u001b[0;32m    576\u001b[0m         \u001b[38;5;124m\"\u001b[39m\u001b[38;5;124mdoes not match length of index \u001b[39m\u001b[38;5;124m\"\u001b[39m\n\u001b[0;32m    577\u001b[0m         \u001b[38;5;124mf\u001b[39m\u001b[38;5;124m\"\u001b[39m\u001b[38;5;124m(\u001b[39m\u001b[38;5;132;01m{\u001b[39;00m\u001b[38;5;28mlen\u001b[39m(index)\u001b[38;5;132;01m}\u001b[39;00m\u001b[38;5;124m)\u001b[39m\u001b[38;5;124m\"\u001b[39m\n\u001b[0;32m    578\u001b[0m     )\n",
      "\u001b[1;31mValueError\u001b[0m: Length of values (44) does not match length of index (150)"
     ]
    }
   ],
   "source": [
    "import pandas as pd\n",
    "\n",
    "\n",
    "\n",
    "# Path to the existing CSV file\n",
    "csv_file_path = \"./data/sample_files.csv\"\n",
    "\n",
    "# Read the existing CSV file\n",
    "df = pd.read_csv(csv_file_path)\n",
    "\n",
    "# Add the file paths as a new column in the DataFrame\n",
    "df['file'] = file_sam\n",
    "\n",
    "# Save the updated DataFrame back to the CSV file\n",
    "df.to_csv(csv_file_path, index=False)"
   ]
  },
  {
   "cell_type": "markdown",
   "id": "bf5462d7-25f0-45ba-8917-dde498e92b19",
   "metadata": {},
   "source": [
    "### Make metric to choose the best one"
   ]
  },
  {
   "cell_type": "code",
   "execution_count": 65,
   "id": "a59748a0-4836-42fa-be5a-04add7383d85",
   "metadata": {},
   "outputs": [],
   "source": [
    "class MetricOutput(BaseModel):\n",
    "    score: confloat(ge=1,le=5) = Field(...,description=\"Rate the sample of the file given the description\")\n",
    "\n",
    "class MetricSignature(dspy.Signature):\n",
    "    description = dspy.InputField(desc=\"The description of what the file is\")\n",
    "    file = dspy.InputField(desc=\"The file to be judged\")\n",
    "    score: MetricOutput = dspy.OutputField()\n",
    "\n",
    "get_score = dspy.TypedPredictor(MetricSignature)\n",
    "\n",
    "#Non-standard implementation of metric\n",
    "def rate_response(example, pred,trace=None):\n",
    "    score_response = get_score(description=example.Description, file=pred.file)\n",
    "    return score_response.score"
   ]
  },
  {
   "cell_type": "code",
   "execution_count": 51,
   "id": "6cc52ffb-e063-4f6d-8f57-cd0d2a99bca7",
   "metadata": {},
   "outputs": [
    {
     "name": "stdout",
     "output_type": "stream",
     "text": [
      "['```\\n---\\nPath: /var/log/auth.lo?\\nDescription: Authentication log file with one character wildcard\\nFile: \\nFeb 15 10:10:10 server sshd[22345]: pam_unix(sshd:auth): authentication failure; logname= uid=0 euid=0 tty=ssh ruser= rhost=192.168.1.10  user=bob\\nFeb 15 10:10:11 server sshd[22345]: Failed password for invalid user bob from 192.168.1.10 port 51050 ssh2\\nFeb 15 10:10:12 server sshd[22346]: pam_unix(sshd:auth): authentication success; logname=user uid=1000 euid=1000 tty=ssh ruser= rhost=192.168.1.10  user=alice\\nFeb 15 10:10:13 server sshd[22346]: Accepted password for alice from 192.168.1.10 port 51051 ssh2\\nFeb 15 10:10:14 server sshd[22347]: pam_unix(sshd:auth): authentication failure; logname= uid=0 euid=0 tty=ssh ruser= rhost=192.168.1.10  user=bob\\n```', '```\\n---\\nPath: /var/log/auth.lo?\\nDescription: Authentication log file with one character wildcard\\nFile: \\nFeb 15 16:45:10 localhost sshd[26568]: pam_unix(sshd:auth): authentication failure; logname= uid=0 euid=0 tty=ssh ruser= rhost=192.168.1.10  user=test\\nFeb 15 16:45:10 localhost sshd[26568]: Failed password for invalid user test from 192.168.1.10 port 56424 ssh2\\nFeb 15 16:45:10 localhost sshd[26569]: pam_unix(sshd:auth): authentication failure; logname= uid=0 euid=0 tty=ssh ruser= rhost=192.168.1.10  user=test\\nFeb 15 16:45:10 localhost sshd[26569]: Failed password for invalid user test from 192.168.1.10 port 54238 ssh2\\nFeb 15 16:45:10 localhost sshd[26570]: pam_unix(sshd:auth): authentication failure; logname= uid=0 euid=0 tty=ssh ruser= rhost=192.168.1.10  user=test\\n```', '```\\n---\\nPath: /var/log/auth.lo?\\nDescription: Authentication log file with one character wildcard\\nFile: \\nFeb 14 12:34:56 localhost sshd[22345]: pam_unix(sshd:auth): authentication failure; logname= uid=0 euid=0 tty=ssh ruser= rhost=192.168.1.10  user=test\\nFeb 14 12:35:01 localhost sshd[22345]: pam_unix(sshd:auth): authentication failure; logname= uid=0 euid=0 tty=ssh ruser= rhost=192.168.1.10  user=test\\nFeb 14 12:35:07 localhost sshd[22346]: Accepted publickey for test from 192.168.1.10 port 56788 ssh2\\nFeb 14 12:35:07 localhost sshd[22346]: pam_unix(sshd:auth): authentication success; logname=test uid=1000 euid=1000 tty=ssh ruser= rhost=192.168.1.10  user=test\\n```', '```\\n---\\nPath: /var/log/auth.lo?\\nDescription: Authentication log file with one character wildcard\\nFile: \\nOct 26 14:30:00 server1 sshd[29432]: pam_unix(sshd:auth): authentication failure; logname= uid=0 euid=0 tty=ssh ruser= rhost=192.168.1.10  user=test\\nOct 26 14:30:01 server1 sshd[29432]: Failed password for invalid user test from 192.168.1.10 port 54182 ssh2\\nOct 26 14:30:01 server1 sshd[29433]: pam_unix(sshd:auth): authentication failure; logname= uid=0 euid=0 tty=ssh ruser= rhost=192.168.1.10  user=test\\nOct 26 14:30:02 server1 sshd[29433]: Failed password for invalid user test from 192.168.1.10 port 54183 ssh2\\n```', '```\\n---\\nPath: /var/log/auth.lo?\\nDescription: Authentication log file with one character wildcard\\nFile: \\nMar 10 10:10:10 localhost sshd[29415]: pam_unix(sshd:auth): authentication failure; logname= uid=0 euid=0 tty=ssh ruser= rhost=192.168.1.10  user=test\\nMar 10 10:10:10 localhost sshd[29415]: Failed password for invalid user test from 192.168.1.10 port 52263 ssh2\\nMar 10 10:10:10 localhost sshd[29416]: pam_unix(sshd:auth): authentication failure; logname= uid=0 euid=0 tty=ssh ruser= rhost=192.168.1.10  user=test\\nMar 10 10:10:10 localhost sshd[29416]: Failed password for invalid user test from 192.168.1.10 port 52264 ssh2\\nMar 10 10:10:10 localhost sshd[29417]: pam_unix(sshd:auth): authentication failure; logname= uid=0 euid=0 tty=ssh ruser= rhost=192.168.1.10  user=test\\n```']\n"
     ]
    }
   ],
   "source": [
    "print(resp.completions.file)"
   ]
  },
  {
   "cell_type": "code",
   "execution_count": 67,
   "id": "95d32a9a-ed9a-4215-9a49-60909f1a90f4",
   "metadata": {},
   "outputs": [],
   "source": [
    "scores = []\n",
    "\n",
    "for x in resp.completions:\n",
    "    score = rate_response(sample_files_dataset[1], x)\n",
    "    scores.append(score)"
   ]
  },
  {
   "cell_type": "code",
   "execution_count": 68,
   "id": "83655107-989d-4bec-9627-8396e07cac97",
   "metadata": {},
   "outputs": [
    {
     "name": "stdout",
     "output_type": "stream",
     "text": [
      "[MetricOutput(score=3.0), MetricOutput(score=3.0)]\n"
     ]
    }
   ],
   "source": [
    "print(scores)"
   ]
  },
  {
   "cell_type": "code",
   "execution_count": null,
   "id": "53f766e6-5ccf-4bdc-8a16-9262326744c9",
   "metadata": {},
   "outputs": [],
   "source": []
  }
 ],
 "metadata": {
  "kernelspec": {
   "display_name": "Python (synth-env)",
   "language": "python",
   "name": "synth-env"
  },
  "language_info": {
   "codemirror_mode": {
    "name": "ipython",
    "version": 3
   },
   "file_extension": ".py",
   "mimetype": "text/x-python",
   "name": "python",
   "nbconvert_exporter": "python",
   "pygments_lexer": "ipython3",
   "version": "3.10.1"
  }
 },
 "nbformat": 4,
 "nbformat_minor": 5
}
