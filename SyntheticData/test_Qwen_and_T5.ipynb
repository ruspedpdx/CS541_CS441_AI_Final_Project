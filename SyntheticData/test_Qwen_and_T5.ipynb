{
 "cells": [
  {
   "cell_type": "code",
   "execution_count": 1,
   "id": "69bbe597-caae-4f56-aa1c-684e018b6e55",
   "metadata": {
    "colab": {
     "base_uri": "https://localhost:8080/"
    },
    "id": "69bbe597-caae-4f56-aa1c-684e018b6e55",
    "outputId": "377313eb-5c73-41a3-f9da-e810a444d1fb",
    "scrolled": true
   },
   "outputs": [
    {
     "name": "stderr",
     "output_type": "stream",
     "text": [
      "WARNING: You are using pip version 21.2.4; however, version 24.0 is available.\n",
      "You should consider upgrading via the 'C:\\Users\\dbake\\Documents\\GREP_Boi\\CS541_CS441_AI_Final_Project\\SyntheticData\\synth-env\\Scripts\\python.exe -m pip install --upgrade pip' command.\n"
     ]
    }
   ],
   "source": [
    "!pip install -q dspy-ai"
   ]
  },
  {
   "cell_type": "code",
   "execution_count": 2,
   "id": "680d3fdb-b990-4309-95f5-48cffbe6e868",
   "metadata": {},
   "outputs": [],
   "source": [
    "import os\n",
    "from dotenv import load_dotenv\n",
    "\n",
    "load_dotenv()\n",
    "\n",
    "OPENAI_API_KEY = os.getenv(\"OPENAI_API_KEY\")"
   ]
  },
  {
   "cell_type": "code",
   "execution_count": 3,
   "id": "JiW7Voe0xMmI",
   "metadata": {
    "colab": {
     "base_uri": "https://localhost:8080/"
    },
    "id": "JiW7Voe0xMmI",
    "outputId": "4cc74a82-06d1-40cd-d83e-87c70291c9b1"
   },
   "outputs": [
    {
     "name": "stdout",
     "output_type": "stream",
     "text": [
      "fruit = []\n",
      "fruit[0] = 'apple'\n",
      "def fruit():\n"
     ]
    }
   ],
   "source": [
    "base_folder = \"/check_agent/data\"\n",
    "\n",
    "!grep fruit ./check_agent/data/sample_input/code.txt"
   ]
  },
  {
   "cell_type": "markdown",
   "id": "5d800ad0-dfbb-4620-bcc3-205cbf7e2040",
   "metadata": {
    "id": "5d800ad0-dfbb-4620-bcc3-205cbf7e2040"
   },
   "source": [
    "## Set up basic evaluation"
   ]
  },
  {
   "cell_type": "code",
   "execution_count": 4,
   "id": "e1c99176-cd13-46ee-8d48-3f2b302a0656",
   "metadata": {
    "id": "e1c99176-cd13-46ee-8d48-3f2b302a0656"
   },
   "outputs": [],
   "source": [
    "def read_text_from_file(file_path):\n",
    "    \"\"\"\n",
    "    Reads and returns the content of a text file specified by the file path.\n",
    "\n",
    "    Args:\n",
    "    file_path (str): The path to the text file.\n",
    "\n",
    "    Returns:\n",
    "    str: The content of the file.\n",
    "    \"\"\"\n",
    "    try:\n",
    "        with open(file_path, 'r', encoding='utf-8') as file:\n",
    "            return file.read()\n",
    "    except FileNotFoundError:\n",
    "        print(f\"The file at {file_path} was not found.\")\n",
    "    except Exception as e:\n",
    "        print(f\"An error occurred while reading the file: {e}\")"
   ]
  },
  {
   "cell_type": "markdown",
   "id": "9601322c-e023-443a-aa3a-00ccbd3dd75e",
   "metadata": {
    "id": "9601322c-e023-443a-aa3a-00ccbd3dd75e"
   },
   "source": [
    "### Test grep commands"
   ]
  },
  {
   "cell_type": "code",
   "execution_count": 5,
   "id": "1009b840-6b86-4b7f-b108-cc6202a4e649",
   "metadata": {
    "id": "1009b840-6b86-4b7f-b108-cc6202a4e649"
   },
   "outputs": [],
   "source": [
    "import subprocess\n",
    "import shlex\n",
    "\n",
    "def run_grep_command(command):\n",
    "    try:\n",
    "        # Split the command into a list for subprocess\n",
    "        command_list = shlex.split(command)\n",
    "\n",
    "        # Run the command\n",
    "        result = subprocess.run(command_list, capture_output=True, text=True, check=True)\n",
    "\n",
    "        # Save the output to a variable\n",
    "        output = result.stdout\n",
    "\n",
    "        return output\n",
    "\n",
    "    except subprocess.CalledProcessError as e:\n",
    "        print(f\"Command '{e.cmd}' returned non-zero exit status {e.returncode}.\")\n",
    "        print(f\"Error output: {e.stderr}\")\n",
    "        return None"
   ]
  },
  {
   "cell_type": "code",
   "execution_count": 6,
   "id": "i_2LznERzF5K",
   "metadata": {
    "colab": {
     "base_uri": "https://localhost:8080/"
    },
    "id": "i_2LznERzF5K",
    "outputId": "7e873e16-112f-4853-d535-a2086477c5df"
   },
   "outputs": [
    {
     "name": "stdout",
     "output_type": "stream",
     "text": [
      "fruit = []\n",
      "fruit[0] = 'apple'\n",
      "def fruit():\n",
      "\n"
     ]
    }
   ],
   "source": [
    "import subprocess\n",
    "\n",
    "# Running a simple 'ls' command\n",
    "result = subprocess.run(['ls', '-l'], capture_output=True, text=True)\n",
    "res = subprocess.run(['grep', '-i', 'fruit','./check_agent/data/sample_input/code.txt' ], capture_output=True, text=True)\n",
    "result2 = run_grep_command('grep -i fruit ./check_agent/data/sample_input/code.txt')\n",
    "\n",
    "# Print the output of the command\n",
    "print(result2)"
   ]
  },
  {
   "cell_type": "code",
   "execution_count": 7,
   "id": "1hzGzhV10H8R",
   "metadata": {
    "colab": {
     "base_uri": "https://localhost:8080/"
    },
    "id": "1hzGzhV10H8R",
    "outputId": "cb0f94ac-8871-4c2b-861c-c71a2e7b743e"
   },
   "outputs": [
    {
     "name": "stdout",
     "output_type": "stream",
     "text": [
      "fruit = []\n",
      "fruit[0] = 'apple'\n",
      "def fruit():\n",
      "    print('banana')\n"
     ]
    }
   ],
   "source": [
    "!cat ./check_agent/data/sample_input/code.txt"
   ]
  },
  {
   "cell_type": "markdown",
   "id": "1d337e30-1612-4d6d-a9a1-685c3e611394",
   "metadata": {
    "id": "1d337e30-1612-4d6d-a9a1-685c3e611394"
   },
   "source": [
    "Now for a simple test"
   ]
  },
  {
   "cell_type": "code",
   "execution_count": 8,
   "id": "ed5854eb-cd38-441c-8d94-6669ab96514f",
   "metadata": {
    "colab": {
     "base_uri": "https://localhost:8080/",
     "height": 332
    },
    "id": "ed5854eb-cd38-441c-8d94-6669ab96514f",
    "outputId": "2aca3306-3924-45b4-9f55-60e86cae667b"
   },
   "outputs": [
    {
     "name": "stdout",
     "output_type": "stream",
     "text": [
      "Grep command output:\n",
      "fruit = []\n",
      "fruit[0] = 'apple'\n",
      "def fruit():\n",
      "\n"
     ]
    }
   ],
   "source": [
    "grep_command = \"grep -i 'fruit' ./check_agent/data/sample_input/code.txt\"\n",
    "output = run_grep_command(grep_command)\n",
    "\n",
    "if output:\n",
    "    print(\"Grep command output:\")\n",
    "    print(output)\n",
    "else:\n",
    "    print(\"No output or an error occurred.\")"
   ]
  },
  {
   "cell_type": "code",
   "execution_count": 9,
   "id": "LAHH6aMn2LmD",
   "metadata": {
    "colab": {
     "base_uri": "https://localhost:8080/"
    },
    "id": "LAHH6aMn2LmD",
    "outputId": "ee8cb979-674d-4586-81ab-c2ebe6a67501"
   },
   "outputs": [
    {
     "name": "stdout",
     "output_type": "stream",
     "text": [
      "Output 1: fruit = []\n",
      "fruit[0] = 'apple'\n",
      "def fruit():\n",
      "\n",
      "Output 2: fruit = []\n",
      "fruit[0] = 'apple'\n",
      "def fruit():\n",
      "\n"
     ]
    }
   ],
   "source": [
    "import subprocess\n",
    "import shlex\n",
    "\n",
    "def run_grep_command(command):\n",
    "    try:\n",
    "        # Properly split the command using shlex.split()\n",
    "        command_list = shlex.split(command)\n",
    "        # print(\"Command List:\", command_list)  # Debugging statement\n",
    "\n",
    "        # Run the command\n",
    "        result = subprocess.run(command_list, capture_output=True, text=True, check=True)\n",
    "\n",
    "        # Save the output to a variable\n",
    "        output = result.stdout\n",
    "\n",
    "        return output\n",
    "\n",
    "    except subprocess.CalledProcessError as e:\n",
    "        print(f\"Command '{e.cmd}' returned non-zero exit status {e.returncode}.\")\n",
    "        print(f\"Error output: {e.stderr}\")\n",
    "        return None\n",
    "\n",
    "# Example usage\n",
    "grep_command1 = \"grep -i fruit ./check_agent/data/sample_input/code.txt\"\n",
    "output1 = run_grep_command(grep_command1)\n",
    "print(\"Output 1:\", output1)\n",
    "\n",
    "grep_command2 = \"grep -i 'fruit' ./check_agent/data/sample_input/code.txt\"\n",
    "output2 = run_grep_command(grep_command2)\n",
    "print(\"Output 2:\", output2)"
   ]
  },
  {
   "cell_type": "markdown",
   "id": "6eb10986-a57b-40c6-b6e2-1d552dbadfb3",
   "metadata": {
    "id": "6eb10986-a57b-40c6-b6e2-1d552dbadfb3"
   },
   "source": [
    "Create a list of DSPy Example objects"
   ]
  },
  {
   "cell_type": "code",
   "execution_count": 10,
   "id": "f9736cd0-e780-4c49-97b1-175f76f93c24",
   "metadata": {
    "colab": {
     "base_uri": "https://localhost:8080/",
     "height": 35
    },
    "id": "f9736cd0-e780-4c49-97b1-175f76f93c24",
    "outputId": "10f92144-648e-4f95-c5f9-051a9e887ec4"
   },
   "outputs": [
    {
     "data": {
      "text/plain": [
       "'./check_agent/data/sample_input/code.txt'"
      ]
     },
     "execution_count": 10,
     "metadata": {},
     "output_type": "execute_result"
    }
   ],
   "source": [
    "import os\n",
    "def extract_file_just_path(file_path):\n",
    "    file_name = os.path.basename(file_path)\n",
    "    new_path =  os.path.join('./check_agent/data/sample_input/',file_name)\n",
    "    return new_path\n",
    "\n",
    "test_path = \"/tmp/calue/code.txt\"\n",
    "\n",
    "extracted = extract_file_just_path(test_path)\n",
    "\n",
    "extracted"
   ]
  },
  {
   "cell_type": "markdown",
   "id": "d7f6109a-c24e-4511-bcd7-71773f76b730",
   "metadata": {
    "id": "d7f6109a-c24e-4511-bcd7-71773f76b730"
   },
   "source": [
    "Dynamically modify file names"
   ]
  },
  {
   "cell_type": "code",
   "execution_count": 11,
   "id": "1f476487-897b-455d-9930-066c7d982450",
   "metadata": {
    "colab": {
     "base_uri": "https://localhost:8080/"
    },
    "id": "1f476487-897b-455d-9930-066c7d982450",
    "outputId": "8b654cd8-8f40-4cc9-ef08-6d4e1ec761b9"
   },
   "outputs": [
    {
     "name": "stdout",
     "output_type": "stream",
     "text": [
      "./check_agent/data/sample_input/sample.txt:How are you\n",
      "./check_agent/data/sample_input/sample.txt:mango\n",
      "./check_agent/data/sample_input/sample.txt:Much ado about nothing\n",
      "./check_agent/data/sample_input/sample.txt:Adios amigo\n",
      "./check_agent/data/sample_input/code.txt:fruit[0] = 'apple'\n",
      "\n",
      "Original command: grep -Ff terms.txt sample.txt code.txt\n",
      "Updated command: grep -Ff ./check_agent/data/sample_input/terms.txt ./check_agent/data/sample_input/sample.txt ./check_agent/data/sample_input/code.txt\n"
     ]
    }
   ],
   "source": [
    "def update_grep_command(command):\n",
    "    parts = command.split()\n",
    "    updated_parts = [parts[0]]  # Start with the command itself, which is 'grep'\n",
    "\n",
    "    i = 1  # Start processing after 'grep'\n",
    "    while i < len(parts):\n",
    "        part = parts[i]\n",
    "        if part.startswith('-'):\n",
    "            if i + 1 < len(parts) and not parts[i + 1].startswith('-'):\n",
    "                # Next part is a file path and current part is an option\n",
    "                # Check if the part is a standalone option or concatenated with its parameter\n",
    "                if len(part) > 2 and part[2].isalpha():\n",
    "                    # Option is concatenated with parameter (like -Ff)\n",
    "                    updated_parts.append(part)\n",
    "                else:\n",
    "                    updated_parts.append(part)  # Add the option\n",
    "                    updated_parts.append(extract_file_just_path(parts[i + 1]))  # Add the updated path\n",
    "                    i += 1  # Move past the file path part\n",
    "            else:\n",
    "                # It's just an option without following file path (or followed by another option)\n",
    "                updated_parts.append(part)\n",
    "        else:\n",
    "            # This is a standalone file path\n",
    "            updated_parts.append(extract_file_just_path(part))\n",
    "        i += 1\n",
    "\n",
    "    updated_command = ' '.join(updated_parts)\n",
    "    return updated_command\n",
    "\n",
    "generated_command = \"grep -Ff terms.txt sample.txt code.txt\"\n",
    "updated_command = update_grep_command(generated_command)\n",
    "\n",
    "print(run_grep_command(updated_command))\n",
    "\n",
    "print(f\"Original command: {generated_command}\")\n",
    "print(f\"Updated command: {updated_command}\")\n"
   ]
  },
  {
   "cell_type": "code",
   "execution_count": 12,
   "id": "926c09ca-c20d-4b9c-8e8f-90b3c05819e6",
   "metadata": {
    "colab": {
     "base_uri": "https://localhost:8080/"
    },
    "id": "926c09ca-c20d-4b9c-8e8f-90b3c05819e6",
    "outputId": "38bd408c-18ef-4aff-da56-0870c2451e24",
    "scrolled": true
   },
   "outputs": [
    {
     "data": {
      "text/plain": [
       "[Example({'question': 'Display lines containing `an` from the `sample.txt` input file.', 'op_file': 'banana\\nmango\\n', 'answer': \"grep 'an' sample.txt\"}) (input_keys={'question'}),\n",
       " Example({'question': 'Display lines containing `do` as a whole word from the `sample.txt` input file.', 'op_file': 'Just do-it\\n', 'answer': \"grep -w 'do' sample.txt\"}) (input_keys={'question'}),\n",
       " Example({'question': 'Display lines from `sample.txt` that satisfy both of these conditions:\\n\\n* `he` matched irrespective of case\\n* either `World` or `Hi` matched case sensitively', 'op_file': 'Hello World\\nHi there\\n', 'answer': \"grep -i 'he' sample.txt | grep -e 'World' -e 'Hi'\"}) (input_keys={'question'}),\n",
       " Example({'question': 'Display lines from `code.txt` containing `fruit[0]` literally.', 'op_file': \"fruit[0] = 'apple'\\n\", 'answer': \"grep -F 'fruit[0]' code.txt\"}) (input_keys={'question'}),\n",
       " Example({'question': 'Display only the first two matching lines containing `t` from the `sample.txt` input file.', 'op_file': 'Hi there\\nJust do-it\\n', 'answer': \"grep -m2 't' sample.txt\"}) (input_keys={'question'}),\n",
       " Example({'question': 'Display only the first three matching lines that do *not* contain `he` from the `sample.txt` input file.', 'op_file': 'Hello World\\n\\nHow are you\\n', 'answer': \"grep -m3 -v 'he' sample.txt\"}) (input_keys={'question'}),\n",
       " Example({'question': 'Display lines from `sample.txt` that contain `do` along with line number prefix.', 'op_file': '6:Just do-it\\n13:Much ado about nothing\\n', 'answer': \"grep -n 'do' sample.txt\"}) (input_keys={'question'}),\n",
       " Example({'question': 'For the input file `sample.txt`, count the number of times the string `he` is present, irrespective of case.', 'op_file': '5\\n', 'answer': \"grep -io 'he' sample.txt | wc -l\"}) (input_keys={'question'}),\n",
       " Example({'question': 'For the input file `sample.txt`, count the number of empty lines.', 'op_file': '4\\n', 'answer': \"grep -cx '' sample.txt\"}) (input_keys={'question'}),\n",
       " Example({'question': 'For the input files `sample.txt` and `code.txt`, display matching lines based on the search terms (one per line) present in the `terms.txt` file. Results should be prefixed with the corresponding input filename.', 'op_file': \"sample.txt:How are you\\nsample.txt:mango\\nsample.txt:Much ado about nothing\\nsample.txt:Adios amigo\\ncode.txt:fruit[0] = 'apple'\\n\", 'answer': 'grep -Ff terms.txt sample.txt code.txt'}) (input_keys={'question'}),\n",
       " Example({'question': 'For the input file `sample.txt`, display lines containing `amigo` prefixed by the input filename as well as the line number.', 'op_file': 'sample.txt:15:Adios amigo\\n', 'answer': \"grep -Hn 'amigo' sample.txt\"}) (input_keys={'question'}),\n",
       " Example({'question': 'For the input files `sample.txt` and `code.txt`, display only the filename if it contains `apple`.', 'op_file': 'code.txt\\n', 'answer': \"grep -l 'apple' sample.txt code.txt\"}) (input_keys={'question'}),\n",
       " Example({'question': 'For the input files `sample.txt` and `code.txt`, display only whole matching lines based on the search terms (one per line) present in the `lines.txt` file. Results should be prefixed with the corresponding input filename as well as the line number.', 'op_file': 'sample.txt:9:banana\\ncode.txt:1:fruit = []\\n', 'answer': 'grep -Fnxf lines.txt sample.txt code.txt'}) (input_keys={'question'}),\n",
       " Example({'question': 'For the input files `sample.txt` and `code.txt`, count the number of lines that do *not* match any of the search terms (one per line) present in the `terms.txt` file.', 'op_file': 'sample.txt:11\\ncode.txt:3\\n', 'answer': 'grep -vcFf terms.txt sample.txt code.txt'}) (input_keys={'question'}),\n",
       " Example({'question': 'Count the total number of lines containing `banana` in the input files `sample.txt` and `code.txt`.', 'op_file': '2\\n', 'answer': \"cat sample.txt code.txt | grep -c 'banana'\"}) (input_keys={'question'}),\n",
       " Example({'question': 'For the input file `patterns.txt`, extract from `(` to the next occurrence of `)` unless they contain parentheses characters in between.', 'op_file': '(division)\\n(#modulo)\\n(9-2)\\n()\\n(j/k-3)\\n(greeting)\\n(b)\\n', 'answer': \"grep -o '([^()]*)' patterns.txt\"}) (input_keys={'question'}),\n",
       " Example({'question': 'For the input file `patterns.txt`, match all lines that start with `den` or end with `ly`.', 'op_file': '2 lonely\\ndent\\nlovely\\n', 'answer': \"grep -E '^den|ly$' patterns.txt\"}) (input_keys={'question'}),\n",
       " Example({'question': 'For the input file `patterns.txt`, extract all whole words containing `42` surrounded by word characters on both sides.', 'op_file': 'Hi42Bye\\nnice1423\\ncool_42a\\n_42_\\n', 'answer': \"grep -oE '\\\\w+42\\\\w+' patterns.txt\"}) (input_keys={'question'}),\n",
       " Example({'question': 'For the input file `patterns.txt`, match all lines containing `car` but not as a whole word.', 'op_file': 'scar\\ncare\\na huge discarded pile of books\\nscare\\npart cart mart\\n', 'answer': \"grep -E '\\\\Bcar|car\\\\B' patterns.txt\"}) (input_keys={'question'}),\n",
       " Example({'question': 'Count the total number of times the whole words `removed` or `rested` or `received` or `replied` or `refused` or `retired` are present in the `patterns.txt` file.', 'op_file': '9\\n', 'answer': \"grep -owE 're(ceiv|mov|pli|fus|tir|st)ed' patterns.txt | wc -l\"}) (input_keys={'question'}),\n",
       " Example({'question': 'For the input file `patterns.txt`, match lines starting with `s` and containing `e` and `t` in any order.', 'op_file': 'sets tests\\nsite cite kite bite\\nsubtle sequoia\\n', 'answer': \"grep -E '^s.*(e.*t|t.*e)' patterns.txt\"}) (input_keys={'question'}),\n",
       " Example({'question': 'From the input file `patterns.txt`, extract all whole lines having the same first and last word character.', 'op_file': 'sets tests\\nNot a pip DOWN\\ny\\n1 dentist 1\\n_42_\\n', 'answer': \"grep -xE '(\\\\w)(.*\\\\1)?' patterns.txt\"}) (input_keys={'question'}),\n",
       " Example({'question': 'For the input file `patterns.txt`, match all lines containing `*[5]` literally.', 'op_file': '(9-2)*[5]\\n', 'answer': \"grep -F '*[5]' patterns.txt\"}) (input_keys={'question'}),\n",
       " Example({'question': 'For the input file `patterns.txt`, display all lines starting with `hand` and ending immediately with `s` or `y` or `le` or no further characters.', 'op_file': 'handle\\nhandy\\nhands\\nhand\\n', 'answer': \"grep -xE 'hand([sy]|le)?' patterns.txt\"}) (input_keys={'question'}),\n",
       " Example({'question': 'For the input files `patterns.txt`, display matching lines based on the patterns (one per line) present in the `regex_terms.txt` file.', 'op_file': 'Hi42Bye nice1423 bad42\\nfly away\\ndef factorial()\\nhand \\n', 'answer': 'grep -f regex_terms.txt patterns.txt'}) (input_keys={'question'}),\n",
       " Example({'question': 'For the input file `patterns.txt`, match all lines starting with `[5]`.', 'op_file': '[5]*3\\n', 'answer': \"grep '^\\\\[5]' patterns.txt\"}) (input_keys={'question'}),\n",
       " Example({'question': \"From the input file `patterns.txt`, extract all hexadecimal sequences with a minimum of four characters. Match `0x` as an optional prefix, but shouldn't be counted for determining the length. Match the characters case insensitively, and the sequences shouldn't be surrounded by other word characters.\", 'op_file': '0XdeadBEEF\\nbad42\\n0x0ff1ce\\n', 'answer': \"grep -iowE '(0x)?[0-9a-f]{4,}' patterns.txt\"}) (input_keys={'question'}),\n",
       " Example({'question': 'From the input file `patterns.txt`, extract from `-` till the end of the line, provided the characters after the hyphen are all word characters only.', 'op_file': '-handy\\n-icy\\n', 'answer': \"grep -o '\\\\-\\\\w*$' patterns.txt\"}) (input_keys={'question'}),\n",
       " Example({'question': 'For the input file `patterns.txt`, count the total number of lines containing `e` or `i` followed by `l` or `n` and vice versa.', 'op_file': '18\\n', 'answer': \"grep -cE '[ei].*[ln]|[ln].*[ei]' patterns.txt\"}) (input_keys={'question'}),\n",
       " Example({'question': 'For the input file `patterns.txt`, match lines starting with `4` or `-` or `u` or `sub` or `care`.', 'op_file': 'care\\n4*5]\\n-handy\\nsubtle sequoia\\nunhand\\n', 'answer': \"grep -E '^([4u-]|sub|care)' patterns.txt\"}) (input_keys={'question'}),\n",
       " Example({'question': 'For the input file `sample.txt`, filter lines containing `do` and also display the line that comes after such a matching line.', 'op_file': 'Just do-it\\nBelieve it\\n--\\nMuch ado about nothing\\nHe he he\\n', 'answer': \"grep -A1 'do' sample.txt\"}) (input_keys={'question'}),\n",
       " Example({'question': 'For the input file `sample.txt`, filter lines containing `o` followed by zero or more characters and then `m` or `r`. Also, display the line that comes before such a matching line.', 'op_file': 'Hello World\\n--\\nHi there\\nHow are you\\n--\\nHe he he\\nAdios amigo\\n', 'answer': \"grep -B1 'o.*[mr]' sample.txt\"}) (input_keys={'question'}),\n",
       " Example({'question': 'For the input file `sample.txt`, filter lines containing `pay` and also display the line that comes before and after such a matching line.', 'op_file': 'banana\\npapaya\\nmango\\n', 'answer': \"grep -C1 'pay' sample.txt\"}) (input_keys={'question'}),\n",
       " Example({'question': 'For the input file `sample.txt`, filter lines containing `lie` and also display the line that comes before and two lines after such a matching line.', 'op_file': 'Just do-it\\nBelieve it\\n\\nbanana\\n', 'answer': \"grep -B1 -A2 'lie' sample.txt\"}) (input_keys={'question'}),\n",
       " Example({'question': 'For the input file `sample.txt`, filter lines containing `are` or `he` as whole words as well as the line that comes before such a matching line. There should be no separator between the groups of matching lines in the output.', 'op_file': 'Hi there\\nHow are you\\nMuch ado about nothing\\nHe he he\\n', 'answer': \"grep --no-group-separator -B1 -wE 'are|he' sample.txt\"}) (input_keys={'question'}),\n",
       " Example({'question': 'For the input file `sample.txt`, filter lines containing `pay` or `the` as well as the line that comes after/before such a matching line. Show `=====` as the separator between the groups of matching lines in the output.', 'op_file': '\\nHi there\\nHow are you\\n=====\\nbanana\\npapaya\\nmango\\n', 'answer': \"grep --group-separator='=====' -EC1 'pay|the' sample.txt\"}) (input_keys={'question'}),\n",
       " Example({'question': 'The input file `sample.txt` has an empty line between group of lines. Change it to `------` between the groups.', 'op_file': 'Hello World\\n------\\nHi there\\nHow are you\\n------\\nJust do-it\\nBelieve it\\n------\\nbanana\\npapaya\\nmango\\n------\\nMuch ado about nothing\\nHe he he\\nAdios amigo\\n', 'answer': \"grep --group-separator='------' -A0 '.' sample.txt\"}) (input_keys={'question'}),\n",
       " Example({'question': 'Search recursively and display the lines containing `ello`. Output should not have filename prefix. Hidden files should also be searched but ignore links.', 'op_file': '    print(\"Hello, Python!\")\\necho \"Hello, Bash!\"\\nyellow\\nHello World\\nyellow\\n', 'answer': \"grep -rh 'ello'\"}) (input_keys={'question'}),\n",
       " Example({'question': 'Search recursively and list the names of files containing `blue` or `on` or a double quote character. Match all of these terms only at the end of a line. Hidden files should also be searched but ignore links.', 'op_file': 'projects/shell/hello.sh\\npatterns.txt\\ncolors_1\\ncolors_2.txt\\nbackups/dot_files/.inputrc\\nbackups/color list.txt\\n', 'answer': 'grep -rlE \\'(blue|on|\")$\\''}) (input_keys={'question'}),\n",
       " Example({'question': 'Search recursively and list the names of files containing `blue`, but do not search within the `backups` directory. Hidden files should also be searched but ignore links.', 'op_file': '.hidden\\ncolors_1\\ncolors_2.txt\\n', 'answer': \"grep -rl --exclude-dir='backups' 'blue'\"}) (input_keys={'question'}),\n",
       " Example({'question': 'Search recursively within the `backups` directory and list the names of files containing `red`. Hidden files and symbolic links found in this directory should be searched as well.', 'op_file': 'backups/color list.txt\\nbackups/text/pat.txt\\n', 'answer': \"grep -Rl 'red' backups\"}) (input_keys={'question'}),\n",
       " Example({'question': 'Search recursively and list the names of files that do *not* contain `greeting` or `blue` or `are`. Hidden files and symbolic links should be searched as well.', 'op_file': 'projects/shell/hello.sh\\nsubstitute.sh\\nlines.txt\\npcre.txt\\nbackups/dot_files/.bash_aliases\\nbackups/dot_files/.inputrc\\nregex_terms.txt\\ncode.txt\\n', 'answer': \"grep -RLE 'greeting|blue|are'\"}) (input_keys={'question'}),\n",
       " Example({'question': 'Search for files containing `red` or `ello` recursively, but do not list the file if it also contains `greeting`. Hidden files should also be searched but ignore links.', 'op_file': 'projects/shell/hello.sh\\ncolors_1\\nsample.txt\\ncolors_2.txt\\nbackups/color list.txt\\n', 'answer': \"grep -rlEZ 'red|ello' | xargs -r0 grep -L 'greeting'\"}) (input_keys={'question'}),\n",
       " Example({'question': 'Search recursively only within filenames ending with `.txt` and display the names of files containing `red`. Hidden files and symbolic links should be searched as well.', 'op_file': 'patterns.txt\\ncolors_2.txt\\nbackups/color list.txt\\nbackups/text/pat.txt\\n', 'answer': \"grep -Rl --include='*.txt' 'red'\"}) (input_keys={'question'}),\n",
       " Example({'question': 'Search recursively only within filenames ending with `.txt` but not if the name has a space character. Display the names of files containing `red`. Hidden files and symbolic links should be searched as well.', 'op_file': 'patterns.txt\\ncolors_2.txt\\nbackups/text/pat.txt\\n', 'answer': \"grep -Rl --include='*.txt' --exclude='* *' 'red'\"}) (input_keys={'question'}),\n",
       " Example({'question': 'Use a combination of `find` and `grep` commands to display lines containing `greeting` only for symbolic links.', 'op_file': './backups/text/pat.txt:Hi there(greeting). Nice day(a(b)\\n./hello.py:def greeting():\\n./hello.py:greeting()\\n', 'answer': \"find -type l -exec grep 'greeting' {} +\"}) (input_keys={'question'}),\n",
       " Example({'question': 'Search recursively and list the names of files that contain `Hello` or `blue`. Hidden files and symbolic links should be searched as well. Do not search within `python` or `backups` directories.', 'op_file': 'projects/shell/hello.sh\\n.hidden\\ncolors_1\\nsample.txt\\ncolors_2.txt\\nhello.py\\n', 'answer': \"grep -RlE --exclude-dir='python' --exclude-dir='backups' 'Hello|blue'\"}) (input_keys={'question'}),\n",
       " Example({'question': 'Search recursively only within filenames ending with `.txt` and count the total number of lines containing `car` or `blue` or a digit character. Hidden files and symbolic links should be searched as well.', 'op_file': '61\\n', 'answer': \"grep -RE --include='*.txt' 'car|blue|[0-9]' | wc -l\"}) (input_keys={'question'}),\n",
       " Example({'question': \"Display lines containing `Hello` or `red` only from files in the current hierarchy, i.e. don't search recursively. Hidden files and symbolic links should be searched as well.\", 'op_file': 'colors_2.txt:red\\nhello.py:    print(\"Hello, Python!\")\\npatterns.txt:refused reed redo received\\npatterns.txt:refused refused and retired\\nsample.txt:Hello World\\n', 'answer': \"grep -d skip 'Hello\\\\|red' *\"}) (input_keys={'question'}),\n",
       " Example({'question': \"Search recursively for files containing `blue` as well as `yellow` anywhere in the file, but do not list the file if it also contains `teal`. Ignore links and assume that hidden files won't match.\", 'op_file': 'colors_2.txt\\n', 'answer': \"grep -rlZ 'blue' | xargs -r0 grep -lZ 'yellow' | xargs -r0 grep -L 'teal'\"}) (input_keys={'question'}),\n",
       " Example({'question': 'For the input file `sample.txt`, extract from the first occurrence of `Just` to the last occurrence of `it`. These terms can occur across different lines. Perform additional transformation to convert ASCII NUL characters, if any, to the newline character.', 'op_file': 'Just do-it\\nBelieve it\\n', 'answer': \"grep -oz 'Just.*it' sample.txt | tr '\\\\0' '\\\\n'\"}) (input_keys={'question'}),\n",
       " Example({'question': 'For the input file `nul_separated`, use the ASCII NUL character as the *line* separator and display lines starting with `a`. Perform additional transformation to convert ASCII NUL characters, if any, to the newline character.', 'op_file': 'apple\\nfig\\nmango\\nicecream\\n', 'answer': \"grep -z '^a' nul_separated | tr '\\\\0' '\\\\n'\"}) (input_keys={'question'}),\n",
       " Example({'question': 'For the input file `sample.txt`, display lines containing `he` prefixed with the byte location of the matching lines.', 'op_file': '13:Hi there\\n102:He he he\\n', 'answer': \"grep -b 'he' sample.txt\"}) (input_keys={'question'}),\n",
       " Example({'question': 'From the `sample.txt` input file, extract from the start of a line to the first occurrence of `he`.', 'op_file': 'Hi the\\nHe he\\n', 'answer': \"grep -oP '^.*?he' sample.txt\"}) (input_keys={'question'}),\n",
       " Example({'question': 'For the input file `terms.txt`, display line that do *not* contain a digit character.', 'op_file': 'are\\nnot\\ngo\\n', 'answer': \"grep -vP '\\\\d' terms.txt\"}) (input_keys={'question'}),\n",
       " Example({'question': \"From the `pcre.txt` input file, extract consecutive repeated occurrences of `abc` followed by `a` provided that the final `a` isn't part of `abc`. For example, `abcabcadef` should give `abcabca` as the output and `abcabcabcd` shouldn't match.\", 'op_file': 'abcabcabca\\n', 'answer': \"grep -oP '(abc)++a' pcre.txt\"}) (input_keys={'question'}),\n",
       " Example({'question': \"From the `pcre.txt` input file, extract from `S:` followed by a digit character to the very next occurrence of `E:` followed by two or more digits. For example, `S:12 E:5 fig S:4 and E:123` should give `S:4 and E:123` as the output and `S:1 - E:2` shouldn't match.\", 'op_file': 'S:4 and E:123\\nS:42 E:43\\nS:100 & E:10\\n', 'answer': \"grep -oP '(?>S:\\\\d.*?E:)\\\\d{2,}' pcre.txt\"}) (input_keys={'question'}),\n",
       " Example({'question': 'From the `sample.txt` input file, extract all sequences made up of lowercase letters except those that start with `a` or `h` or `i` or `t`. Such sequences should not be surrounded by other word characters.', 'op_file': 'you\\ndo\\nbanana\\npapaya\\nmango\\nnothing\\n', 'answer': \"grep -woP '(?![ahit])[a-z]+' sample.txt\"}) (input_keys={'question'}),\n",
       " Example({'question': 'From the `sample.txt` input file, extract all sequences made up of lowercase letters except those that end with letters from `g` to `z`. Such sequences should not be surrounded by other word characters.', 'op_file': 'there\\nare\\nbanana\\npapaya\\nhe\\nhe\\n', 'answer': \"grep -woP '[a-z]+(?<![g-z])' sample.txt\"}) (input_keys={'question'}),\n",
       " Example({'question': 'From the `pcre.txt` input file, extract integer portion of floating-point numbers. Integers and numbers ending with `.` and no further digits should not be considered. For example, output for `ab32.4` should be `32` and numbers like `2.` and `456` should not be matched.', 'op_file': '32\\n46\\n', 'answer': \"grep -oP '\\\\d+(?=\\\\.\\\\d)' pcre.txt\"}) (input_keys={'question'}),\n",
       " Example({'question': 'For the input file `pcre.txt`, filter lines that satisfy all of these rules:\\n\\n* at least 2 alphabets\\n* at least 3 digits\\n* at least 1 special character among `%` or `*` or `#` or `$`\\n* should *not* contain `Yz` or `if`', 'op_file': 'F2H3u#9\\nA $ C1234\\n', 'answer': \"grep -P '^(?=(.*[a-zA-Z]){2})(?=(.*\\\\d){3})(?!.*(if|Yz)).*[%*#$]' pcre.txt\"}) (input_keys={'question'}),\n",
       " Example({'question': \"From the `pcre.txt` input file, extract from the second field to the second last field from rows having at least two columns considering `;` as the delimiter. For example, `b;c` should be extracted from `a;b;c;d` and a line containing less than two `;` characters shouldn't produce any output.\", 'op_file': 'in;awe;b2b;3list\\nbe;he;0;a;b\\n', 'answer': \"grep -oP ';\\\\K.+(?=;)' pcre.txt\"}) (input_keys={'question'}),\n",
       " Example({'question': 'For the input file `pcre.txt`, match lines if it contains `qty` followed by `price` but not if there is any **whitespace** character or the string `error` between them.', 'op_file': '23,qty,price,42\\n(qtyprice) (hi-there)\\n42\\\\nqty-6,apple-56,price-234,error\\n', 'answer': \"grep -P 'qty((?!\\\\s|error).)*price' pcre.txt\"}) (input_keys={'question'}),\n",
       " Example({'question': 'From the `pcre.txt` input file, extract `if` followed by content within any number of nested parentheses.', 'op_file': 'if(3-(k*3+4)/12-(r+2/3))\\nif(a(b)c(d(e(f)1)2)3)\\n', 'answer': \"grep -oP 'if(\\\\((?:[^()]++|(?1))++\\\\))' pcre.txt\"}) (input_keys={'question'}),\n",
       " Example({'question': 'From the `patterns.txt` input file, extract from `car` at the start of a line to the very next occurrence of `book` or `lie` in the file. Perform additional transformation to convert ASCII NUL characters, if any, to the newline character.', 'op_file': 'care\\n4*5]\\na huge discarded pile of book\\ncar\\neden\\nrested replie\\n', 'answer': \"grep -zoP '(?ms)^car.*?(book|lie)' patterns.txt | tr '\\\\0' '\\\\n'\"}) (input_keys={'question'}),\n",
       " Example({'question': \"From the `patterns.txt` input file, extract all whole words if a line also contains `car`. But, any word occupying the first five characters in the line shouldn't be part of the output. For example, `no scar` shouldn't produce any output since both words have all/some characters within the first five characters in the line. `part cart mart` should produce `cart` and `mart` as output. `two sets tests` would fail the `car` condition, and thus shouldn't produce any output.\", 'op_file': 'tar\\nfar\\nCart\\ndiscarded\\npile\\nof\\nbooks\\ncart\\nmart\\n', 'answer': \"grep 'car' patterns.txt | grep -woP '^.{1,5}(*SKIP)(*F)|\\\\w+'\"}) (input_keys={'question'})]"
      ]
     },
     "execution_count": 12,
     "metadata": {},
     "output_type": "execute_result"
    }
   ],
   "source": [
    "import json\n",
    "import dspy\n",
    "\n",
    "def extract_fields(json_file):\n",
    "    # Read the JSON data from the file\n",
    "    examples_list = []\n",
    "    with open(json_file, 'r') as file:\n",
    "        data = json.load(file)\n",
    "\n",
    "    # Iterate over each item in the JSON data\n",
    "    for key, value in data.items():\n",
    "        question = value.get('question', '')\n",
    "        op_file = value.get('op_file', '')\n",
    "        ref_solution = value.get('ref_solution', [''])[0]  # Get the first element of ref_solution list\n",
    "\n",
    "        example = dspy.Example(question=question, op_file=op_file, answer=ref_solution).with_inputs(\"question\")\n",
    "        examples_list.append(example)\n",
    "    return examples_list\n",
    "\n",
    "# Example usage\n",
    "json_file = './check_agent/data/questions.json'\n",
    "questions_dict = extract_fields(json_file)\n",
    "questions_dict\n"
   ]
  },
  {
   "cell_type": "markdown",
   "id": "89671ac3-6676-445c-a99e-7d3d529f4252",
   "metadata": {},
   "source": [
    "### Get data for optimizers"
   ]
  },
  {
   "cell_type": "code",
   "execution_count": 13,
   "id": "f5aac751-04a6-486c-a5bc-1b84868ac26b",
   "metadata": {},
   "outputs": [
    {
     "name": "stdout",
     "output_type": "stream",
     "text": [
      "/c/Users/dbake/Documents/GREP_Boi/CS541_CS441_AI_Final_Project/SyntheticData\n"
     ]
    }
   ],
   "source": [
    "!pwd"
   ]
  },
  {
   "cell_type": "code",
   "execution_count": 14,
   "id": "616f0626-f137-42d4-afe7-580334dc7dc3",
   "metadata": {},
   "outputs": [],
   "source": [
    "from dspy.datasets import DataLoader\n",
    "dl = DataLoader()\n",
    "\n",
    "trainset = dl.from_csv(\n",
    "    \"./data/grep_synthetic_data_large.csv\",\n",
    "    fields=[\"command\",\"description\"]\n",
    ")\n",
    "\n",
    "grep_trainsetog = dl.sample(trainset, n=500)\n",
    "\n",
    "grep_trainset=[dspy.Example(question=ex.description, answer=ex.command).with_inputs(\"question\") for ex in grep_trainsetog]"
   ]
  },
  {
   "cell_type": "code",
   "execution_count": 15,
   "id": "2ab02884-b59e-4880-9921-50651c30fd36",
   "metadata": {},
   "outputs": [],
   "source": [
    "grep_trainset_small = dl.sample(grep_trainset, n=50)"
   ]
  },
  {
   "cell_type": "markdown",
   "id": "f5858102-dc9f-4aa4-9a18-c886cdee9d49",
   "metadata": {
    "id": "f5858102-dc9f-4aa4-9a18-c886cdee9d49"
   },
   "source": [
    "### Use DSPy with Typed predictor"
   ]
  },
  {
   "cell_type": "markdown",
   "id": "H8gSsoP1u4E_",
   "metadata": {
    "id": "H8gSsoP1u4E_"
   },
   "source": [
    "Load models"
   ]
  },
  {
   "cell_type": "code",
   "execution_count": 16,
   "id": "b71bd64a-9277-4a45-b727-379528850e25",
   "metadata": {
    "colab": {
     "base_uri": "https://localhost:8080/",
     "height": 548
    },
    "id": "b71bd64a-9277-4a45-b727-379528850e25",
    "outputId": "efad3f00-e479-4018-a223-7b6a223b6f54"
   },
   "outputs": [],
   "source": [
    "# qwen = dspy.HFModel(model = 'Qwen/Qwen2-0.5B')\n",
    "# dspy.settings.configure(lm=qwen)\n",
    "\n",
    "qwen = dspy.OllamaLocal(model=\"qwen2:0.5b\")\n",
    "gpt35_turbo = dspy.OpenAI(model='gpt-3.5-turbo-1106', temperature=0.0)\n",
    "gpt4o = dspy.OpenAI(model='gpt-4-turbo', temperature=0.0)\n",
    "dspy.settings.configure(lm=qwen)\n"
   ]
  },
  {
   "cell_type": "code",
   "execution_count": 17,
   "id": "5bf12e3a-d1f5-4e52-a3cc-8c024935fa45",
   "metadata": {},
   "outputs": [],
   "source": [
    "dspy.settings.configure(lm=qwen, temperature=0.1)"
   ]
  },
  {
   "cell_type": "markdown",
   "id": "ff35999f-9a17-4d5c-a37d-0f504d01d40b",
   "metadata": {
    "id": "ff35999f-9a17-4d5c-a37d-0f504d01d40b"
   },
   "source": [
    "#### Create simple signature"
   ]
  },
  {
   "cell_type": "code",
   "execution_count": 18,
   "id": "0697bf68-2836-45d3-a0bf-4ebdf73bf064",
   "metadata": {},
   "outputs": [
    {
     "data": {
      "text/plain": [
       "Example({'question': 'Display lines containing `an` from the `sample.txt` input file.', 'op_file': 'banana\\nmango\\n', 'answer': \"grep 'an' sample.txt\"}) (input_keys={'question'})"
      ]
     },
     "execution_count": 18,
     "metadata": {},
     "output_type": "execute_result"
    }
   ],
   "source": [
    "questions_dict[0]"
   ]
  },
  {
   "cell_type": "code",
   "execution_count": 19,
   "id": "0bd82b24-914b-4a9b-aa10-ea03bbb624a9",
   "metadata": {
    "id": "0bd82b24-914b-4a9b-aa10-ea03bbb624a9",
    "outputId": "e49b10f9-43df-4735-e238-42a4e58785f6"
   },
   "outputs": [
    {
     "name": "stdout",
     "output_type": "stream",
     "text": [
      "Prediction(\n",
      "    answer=\"```bash\\ngrep -E '^\\\\w{42}.*' patterns.txt\\n```\"\n",
      ")\n"
     ]
    }
   ],
   "source": [
    "from pydantic import BaseModel, Field, conlist\n",
    "from typing import List, NamedTuple\n",
    "\n",
    "class grep_test(dspy.Signature):\n",
    "    \"\"\"Given the question produce a grep command\"\"\"\n",
    "    question = dspy.InputField()\n",
    "    answer = dspy.OutputField(desc=\"Only output the grep command\")\n",
    "\n",
    "generate_answer = dspy.Predict(grep_test)\n",
    "generate_answer_cot = dspy.ChainOfThought(grep_test)\n",
    "\n",
    "# for p in generate_answer.predictors(): p.activated = False\n",
    "\n",
    "description = questions_dict[17].question\n",
    "\n",
    "resp = generate_answer(question=description)\n",
    "\n",
    "print(resp)"
   ]
  },
  {
   "cell_type": "code",
   "execution_count": 20,
   "id": "afe6885e-2f5d-4b65-b804-b8e4aa1691f2",
   "metadata": {
    "id": "afe6885e-2f5d-4b65-b804-b8e4aa1691f2",
    "outputId": "dd317d42-5fa0-4b89-943e-616639e6e02f"
   },
   "outputs": [
    {
     "name": "stdout",
     "output_type": "stream",
     "text": [
      "Prediction(\n",
      "    answer=\"```bash\\ngrep -E '^\\\\w{42}.*' patterns.txt\\n```\"\n",
      ")\n",
      "Example({'question': 'For the input file `patterns.txt`, extract all whole words containing `42` surrounded by word characters on both sides.', 'op_file': 'Hi42Bye\\nnice1423\\ncool_42a\\n_42_\\n', 'answer': \"grep -oE '\\\\w+42\\\\w+' patterns.txt\"}) (input_keys={'question'})\n"
     ]
    }
   ],
   "source": [
    "print(resp)\n",
    "print(questions_dict[17])"
   ]
  },
  {
   "cell_type": "markdown",
   "id": "dfa3467e-fc98-4482-aab8-b4b94edc14e1",
   "metadata": {},
   "source": [
    "## Set up LLM judge"
   ]
  },
  {
   "cell_type": "code",
   "execution_count": 21,
   "id": "2a0eb381-23ee-45ac-a90b-d0e8b48aca65",
   "metadata": {
    "scrolled": true
   },
   "outputs": [],
   "source": [
    "from pydantic import BaseModel, Field, conlist\n",
    "from typing import List, NamedTuple\n",
    "from dspy.evaluate import Evaluate\n",
    "\n",
    "class Rating(BaseModel):\n",
    "    score: int = Field(ge=0, le=5, description=\"The ability of the provided grep command to complete the described task. 0=produces wrong results 3=needs improvement 5=satisfactory\")\n",
    "\n",
    "class kindaJudgy(dspy.Signature):\n",
    "    \"\"\"Return a rating between 0-5 on how accurate the grep command satisfies the described task. Be a critical judge.\"\"\"\n",
    "    question = dspy.InputField(desc=\"Description of task to solve with grep\")\n",
    "    answer = dspy.InputField(desc=\"The grep command meant to fulfill the task description\")\n",
    "\n",
    "    output: Rating = dspy.OutputField()\n",
    "\n",
    "the_judge = dspy.TypedPredictor(kindaJudgy)\n",
    "\n",
    "def grep_metric(example, pred, trace=None):\n",
    "    question, answer = example.question, pred.answer\n",
    "    with dspy.context(lm=gpt4o):\n",
    "        score = the_judge(question=question, answer=answer)\n",
    "    return score.output.score / 5\n",
    "\n",
    "# Set up evaluation with question answer pairs from the grep course\n",
    "evaluator = Evaluate(devset=questions_dict[:30], num_threads=1,display_progress=True,display_table=10)\n",
    "\n",
    "# evaluator(generate_answer,metric=metric)\n",
    "    "
   ]
  },
  {
   "cell_type": "code",
   "execution_count": 22,
   "id": "98909752-7b02-4266-928a-e65f5b0fc78c",
   "metadata": {},
   "outputs": [],
   "source": [
    "pred = generate_answer(**questions_dict[0].inputs())"
   ]
  },
  {
   "cell_type": "code",
   "execution_count": 23,
   "id": "e5fa58fa-2934-484d-a51d-e48c154af44b",
   "metadata": {},
   "outputs": [
    {
     "name": "stdout",
     "output_type": "stream",
     "text": [
      "Prediction(\n",
      "    answer=\"```bash\\ngrep -E 'an' sample.txt\\n```\"\n",
      ")\n"
     ]
    }
   ],
   "source": [
    "print(pred)"
   ]
  },
  {
   "cell_type": "code",
   "execution_count": 24,
   "id": "d4774f84-8185-4349-a6cb-59a67052b5c3",
   "metadata": {},
   "outputs": [
    {
     "name": "stdout",
     "output_type": "stream",
     "text": [
      "[Example({'question': 'Display lines containing `an` from the `sample.txt` input file.', 'op_file': 'banana\\nmango\\n', 'answer': \"grep 'an' sample.txt\"}) (input_keys={'question'})]\n"
     ]
    }
   ],
   "source": [
    "print(questions_dict[:1])"
   ]
  },
  {
   "cell_type": "markdown",
   "id": "57c4816f-f785-4ea5-8515-f211b33a8c03",
   "metadata": {},
   "source": [
    "### Make custom modules"
   ]
  },
  {
   "cell_type": "code",
   "execution_count": 25,
   "id": "41e42d76-b7d9-4528-9678-3cc536e36c80",
   "metadata": {},
   "outputs": [],
   "source": [
    "class GrepBOI(dspy.Module):\n",
    "    def __init__(self):\n",
    "        super().__init__()\n",
    "        self.prog = dspy.Predict(grep_test)\n",
    "    def forward(self, question):\n",
    "        return self.prog(question=question)\n",
    "\n",
    "class GrepBOIcot(dspy.Module):\n",
    "    def __init__(self):\n",
    "        super().__init__()\n",
    "        self.prog = dspy.ChainOfThought(grep_test)\n",
    "    def forward(self, question):\n",
    "        return self.prog(question=question)"
   ]
  },
  {
   "cell_type": "markdown",
   "id": "b776ad06-1379-4c2d-a5c3-1105cf65cc96",
   "metadata": {},
   "source": [
    "# Tests"
   ]
  },
  {
   "cell_type": "markdown",
   "id": "f2e52ddd-c4d0-4a9f-a4d1-47eff3c5c63f",
   "metadata": {},
   "source": [
    "## QWEN2:.5B"
   ]
  },
  {
   "cell_type": "markdown",
   "id": "9fcc3c48-f458-4ed9-b2de-2a7758548f1f",
   "metadata": {},
   "source": [
    "### Direct query"
   ]
  },
  {
   "cell_type": "code",
   "execution_count": 26,
   "id": "e8158d75-c411-4da1-9fb7-07c05c7efeff",
   "metadata": {},
   "outputs": [
    {
     "name": "stdout",
     "output_type": "stream",
     "text": [
      "Average Metric: 8.400000000000002 / 30  (28.0): 100%|██████████████████| 30/30 [01:46<00:00,  3.56s/it]\n"
     ]
    },
    {
     "data": {
      "text/html": [
       "<style type=\"text/css\">\n",
       "#T_9997e th {\n",
       "  text-align: left;\n",
       "}\n",
       "#T_9997e td {\n",
       "  text-align: left;\n",
       "}\n",
       "#T_9997e_row0_col0, #T_9997e_row0_col1, #T_9997e_row0_col2, #T_9997e_row0_col3, #T_9997e_row0_col4, #T_9997e_row1_col0, #T_9997e_row1_col1, #T_9997e_row1_col2, #T_9997e_row1_col3, #T_9997e_row1_col4, #T_9997e_row2_col0, #T_9997e_row2_col1, #T_9997e_row2_col2, #T_9997e_row2_col3, #T_9997e_row2_col4, #T_9997e_row3_col0, #T_9997e_row3_col1, #T_9997e_row3_col2, #T_9997e_row3_col3, #T_9997e_row3_col4, #T_9997e_row4_col0, #T_9997e_row4_col1, #T_9997e_row4_col2, #T_9997e_row4_col3, #T_9997e_row4_col4, #T_9997e_row5_col0, #T_9997e_row5_col1, #T_9997e_row5_col2, #T_9997e_row5_col3, #T_9997e_row5_col4, #T_9997e_row6_col0, #T_9997e_row6_col1, #T_9997e_row6_col2, #T_9997e_row6_col3, #T_9997e_row6_col4, #T_9997e_row7_col0, #T_9997e_row7_col1, #T_9997e_row7_col2, #T_9997e_row7_col3, #T_9997e_row7_col4, #T_9997e_row8_col0, #T_9997e_row8_col1, #T_9997e_row8_col2, #T_9997e_row8_col3, #T_9997e_row8_col4, #T_9997e_row9_col0, #T_9997e_row9_col1, #T_9997e_row9_col2, #T_9997e_row9_col3, #T_9997e_row9_col4 {\n",
       "  text-align: left;\n",
       "  white-space: pre-wrap;\n",
       "  word-wrap: break-word;\n",
       "  max-width: 400px;\n",
       "}\n",
       "</style>\n",
       "<table id=\"T_9997e\">\n",
       "  <thead>\n",
       "    <tr>\n",
       "      <th class=\"blank level0\" >&nbsp;</th>\n",
       "      <th id=\"T_9997e_level0_col0\" class=\"col_heading level0 col0\" >question</th>\n",
       "      <th id=\"T_9997e_level0_col1\" class=\"col_heading level0 col1\" >op_file</th>\n",
       "      <th id=\"T_9997e_level0_col2\" class=\"col_heading level0 col2\" >example_answer</th>\n",
       "      <th id=\"T_9997e_level0_col3\" class=\"col_heading level0 col3\" >pred_answer</th>\n",
       "      <th id=\"T_9997e_level0_col4\" class=\"col_heading level0 col4\" >grep_metric</th>\n",
       "    </tr>\n",
       "  </thead>\n",
       "  <tbody>\n",
       "    <tr>\n",
       "      <th id=\"T_9997e_level0_row0\" class=\"row_heading level0 row0\" >0</th>\n",
       "      <td id=\"T_9997e_row0_col0\" class=\"data row0 col0\" >Display lines containing `an` from the `sample.txt` input file.</td>\n",
       "      <td id=\"T_9997e_row0_col1\" class=\"data row0 col1\" >banana\n",
       "mango\n",
       "</td>\n",
       "      <td id=\"T_9997e_row0_col2\" class=\"data row0 col2\" >grep 'an' sample.txt</td>\n",
       "      <td id=\"T_9997e_row0_col3\" class=\"data row0 col3\" >```bash\n",
       "grep -E 'an' sample.txt\n",
       "```</td>\n",
       "      <td id=\"T_9997e_row0_col4\" class=\"data row0 col4\" >✔️ [1.0]</td>\n",
       "    </tr>\n",
       "    <tr>\n",
       "      <th id=\"T_9997e_level0_row1\" class=\"row_heading level0 row1\" >1</th>\n",
       "      <td id=\"T_9997e_row1_col0\" class=\"data row1 col0\" >Display lines containing `do` as a whole word from the `sample.txt` input file.</td>\n",
       "      <td id=\"T_9997e_row1_col1\" class=\"data row1 col1\" >Just do-it\n",
       "</td>\n",
       "      <td id=\"T_9997e_row1_col2\" class=\"data row1 col2\" >grep -w 'do' sample.txt</td>\n",
       "      <td id=\"T_9997e_row1_col3\" class=\"data row1 col3\" >```bash\n",
       "grep -E 'do' sample.txt\n",
       "```</td>\n",
       "      <td id=\"T_9997e_row1_col4\" class=\"data row1 col4\" >✔️ [0.4]</td>\n",
       "    </tr>\n",
       "    <tr>\n",
       "      <th id=\"T_9997e_level0_row2\" class=\"row_heading level0 row2\" >2</th>\n",
       "      <td id=\"T_9997e_row2_col0\" class=\"data row2 col0\" >Display lines from `sample.txt` that satisfy both of these conditions:\n",
       "\n",
       "* `he` matched irrespective of case\n",
       "* either `World` or `Hi` matched case sensitively</td>\n",
       "      <td id=\"T_9997e_row2_col1\" class=\"data row2 col1\" >Hello World\n",
       "Hi there\n",
       "</td>\n",
       "      <td id=\"T_9997e_row2_col2\" class=\"data row2 col2\" >grep -i 'he' sample.txt | grep -e 'World' -e 'Hi'</td>\n",
       "      <td id=\"T_9997e_row2_col3\" class=\"data row2 col3\" >```bash\n",
       "grep -E 'he|World|Hi' sample.txt\n",
       "```</td>\n",
       "      <td id=\"T_9997e_row2_col4\" class=\"data row2 col4\" >✔️ [0.2]</td>\n",
       "    </tr>\n",
       "    <tr>\n",
       "      <th id=\"T_9997e_level0_row3\" class=\"row_heading level0 row3\" >3</th>\n",
       "      <td id=\"T_9997e_row3_col0\" class=\"data row3 col0\" >Display lines from `code.txt` containing `fruit[0]` literally.</td>\n",
       "      <td id=\"T_9997e_row3_col1\" class=\"data row3 col1\" >fruit[0] = 'apple'\n",
       "</td>\n",
       "      <td id=\"T_9997e_row3_col2\" class=\"data row3 col2\" >grep -F 'fruit[0]' code.txt</td>\n",
       "      <td id=\"T_9997e_row3_col3\" class=\"data row3 col3\" >```bash\n",
       "grep -E 'fruit[0]' code.txt\n",
       "```</td>\n",
       "      <td id=\"T_9997e_row3_col4\" class=\"data row3 col4\" >0.0</td>\n",
       "    </tr>\n",
       "    <tr>\n",
       "      <th id=\"T_9997e_level0_row4\" class=\"row_heading level0 row4\" >4</th>\n",
       "      <td id=\"T_9997e_row4_col0\" class=\"data row4 col0\" >Display only the first two matching lines containing `t` from the `sample.txt` input file.</td>\n",
       "      <td id=\"T_9997e_row4_col1\" class=\"data row4 col1\" >Hi there\n",
       "Just do-it\n",
       "</td>\n",
       "      <td id=\"T_9997e_row4_col2\" class=\"data row4 col2\" >grep -m2 't' sample.txt</td>\n",
       "      <td id=\"T_9997e_row4_col3\" class=\"data row4 col3\" >```bash\n",
       "grep -E 't' sample.txt\n",
       "```</td>\n",
       "      <td id=\"T_9997e_row4_col4\" class=\"data row4 col4\" >✔️ [0.4]</td>\n",
       "    </tr>\n",
       "    <tr>\n",
       "      <th id=\"T_9997e_level0_row5\" class=\"row_heading level0 row5\" >5</th>\n",
       "      <td id=\"T_9997e_row5_col0\" class=\"data row5 col0\" >Display only the first three matching lines that do *not* contain `he` from the `sample.txt` input file.</td>\n",
       "      <td id=\"T_9997e_row5_col1\" class=\"data row5 col1\" >Hello World\n",
       "\n",
       "How are you\n",
       "</td>\n",
       "      <td id=\"T_9997e_row5_col2\" class=\"data row5 col2\" >grep -m3 -v 'he' sample.txt</td>\n",
       "      <td id=\"T_9997e_row5_col3\" class=\"data row5 col3\" >```bash\n",
       "grep -v \"he\" sample.txt\n",
       "```</td>\n",
       "      <td id=\"T_9997e_row5_col4\" class=\"data row5 col4\" >✔️ [0.2]</td>\n",
       "    </tr>\n",
       "    <tr>\n",
       "      <th id=\"T_9997e_level0_row6\" class=\"row_heading level0 row6\" >6</th>\n",
       "      <td id=\"T_9997e_row6_col0\" class=\"data row6 col0\" >Display lines from `sample.txt` that contain `do` along with line number prefix.</td>\n",
       "      <td id=\"T_9997e_row6_col1\" class=\"data row6 col1\" >6:Just do-it\n",
       "13:Much ado about nothing\n",
       "</td>\n",
       "      <td id=\"T_9997e_row6_col2\" class=\"data row6 col2\" >grep -n 'do' sample.txt</td>\n",
       "      <td id=\"T_9997e_row6_col3\" class=\"data row6 col3\" >```bash\n",
       "grep -E 'do' sample.txt\n",
       "```</td>\n",
       "      <td id=\"T_9997e_row6_col4\" class=\"data row6 col4\" >✔️ [0.4]</td>\n",
       "    </tr>\n",
       "    <tr>\n",
       "      <th id=\"T_9997e_level0_row7\" class=\"row_heading level0 row7\" >7</th>\n",
       "      <td id=\"T_9997e_row7_col0\" class=\"data row7 col0\" >For the input file `sample.txt`, count the number of times the string `he` is present, irrespective of case.</td>\n",
       "      <td id=\"T_9997e_row7_col1\" class=\"data row7 col1\" >5\n",
       "</td>\n",
       "      <td id=\"T_9997e_row7_col2\" class=\"data row7 col2\" >grep -io 'he' sample.txt | wc -l</td>\n",
       "      <td id=\"T_9997e_row7_col3\" class=\"data row7 col3\" >```bash\n",
       "grep -o 'he' sample.txt | wc -l\n",
       "```</td>\n",
       "      <td id=\"T_9997e_row7_col4\" class=\"data row7 col4\" >✔️ [0.4]</td>\n",
       "    </tr>\n",
       "    <tr>\n",
       "      <th id=\"T_9997e_level0_row8\" class=\"row_heading level0 row8\" >8</th>\n",
       "      <td id=\"T_9997e_row8_col0\" class=\"data row8 col0\" >For the input file `sample.txt`, count the number of empty lines.</td>\n",
       "      <td id=\"T_9997e_row8_col1\" class=\"data row8 col1\" >4\n",
       "</td>\n",
       "      <td id=\"T_9997e_row8_col2\" class=\"data row8 col2\" >grep -cx '' sample.txt</td>\n",
       "      <td id=\"T_9997e_row8_col3\" class=\"data row8 col3\" >```bash\n",
       "grep -c ' '\n",
       "```</td>\n",
       "      <td id=\"T_9997e_row8_col4\" class=\"data row8 col4\" >0.0</td>\n",
       "    </tr>\n",
       "    <tr>\n",
       "      <th id=\"T_9997e_level0_row9\" class=\"row_heading level0 row9\" >9</th>\n",
       "      <td id=\"T_9997e_row9_col0\" class=\"data row9 col0\" >For the input files `sample.txt` and `code.txt`, display matching lines based on the search terms (one per line) present in the `terms.txt` file. Results should...</td>\n",
       "      <td id=\"T_9997e_row9_col1\" class=\"data row9 col1\" >sample.txt:How are you\n",
       "sample.txt:mango\n",
       "sample.txt:Much ado about nothing\n",
       "sample.txt:Adios amigo\n",
       "code.txt:fruit[0] = 'apple'\n",
       "</td>\n",
       "      <td id=\"T_9997e_row9_col2\" class=\"data row9 col2\" >grep -Ff terms.txt sample.txt code.txt</td>\n",
       "      <td id=\"T_9997e_row9_col3\" class=\"data row9 col3\" >```bash\n",
       "grep -E 'search_terms' sample.txt code.txt | sed 's/.*\\(\\).*\\)\\(.*\\)//' terms.txt\n",
       "```</td>\n",
       "      <td id=\"T_9997e_row9_col4\" class=\"data row9 col4\" >0.0</td>\n",
       "    </tr>\n",
       "  </tbody>\n",
       "</table>\n"
      ],
      "text/plain": [
       "<pandas.io.formats.style.Styler at 0x2b4a63af460>"
      ]
     },
     "metadata": {},
     "output_type": "display_data"
    },
    {
     "data": {
      "text/html": [
       "\n",
       "                <div style='\n",
       "                    text-align: center;\n",
       "                    font-size: 16px;\n",
       "                    font-weight: bold;\n",
       "                    color: #555;\n",
       "                    margin: 10px 0;'>\n",
       "                    ... 20 more rows not displayed ...\n",
       "                </div>\n",
       "                "
      ],
      "text/plain": [
       "<IPython.core.display.HTML object>"
      ]
     },
     "metadata": {},
     "output_type": "display_data"
    },
    {
     "data": {
      "text/plain": [
       "28.0"
      ]
     },
     "execution_count": 26,
     "metadata": {},
     "output_type": "execute_result"
    }
   ],
   "source": [
    "evaluator(generate_answer,metric=grep_metric)"
   ]
  },
  {
   "cell_type": "code",
   "execution_count": 27,
   "id": "ab98038b-840a-4a01-a9f8-86a553a38d30",
   "metadata": {},
   "outputs": [],
   "source": [
    "# evaluator_mod = Evaluate(devset=grep_trainset[:5], num_threads=1,display_progress=True,display_table=5)"
   ]
  },
  {
   "cell_type": "code",
   "execution_count": 28,
   "id": "b21b3eb8-4771-4856-8f4f-5478e3b9a206",
   "metadata": {},
   "outputs": [],
   "source": [
    "# evaluator_mod(GrepBOI(),metric=grep_metric)"
   ]
  },
  {
   "cell_type": "markdown",
   "id": "2dbdc6cc-3a44-418e-8671-b4697c746641",
   "metadata": {},
   "source": [
    "### Chain of Thought"
   ]
  },
  {
   "cell_type": "code",
   "execution_count": 29,
   "id": "3b703571-71e4-4849-b75a-8c535d8690c3",
   "metadata": {},
   "outputs": [
    {
     "name": "stdout",
     "output_type": "stream",
     "text": [
      "                                                                                                       \r"
     ]
    },
    {
     "name": "stderr",
     "output_type": "stream",
     "text": [
      "2024-06-14T22:19:45.879349Z [error    ] Error for example in dev set: \t\t unsupported operand type(s) for +=: 'int' and 'NoneType' [dspy.evaluate.evaluate] filename=evaluate.py lineno=147\n"
     ]
    },
    {
     "name": "stdout",
     "output_type": "stream",
     "text": [
      "Average Metric: 5.400000000000001 / 30  (18.0): 100%|██████████████████| 30/30 [02:52<00:00,  5.76s/it]\n"
     ]
    },
    {
     "data": {
      "text/html": [
       "<style type=\"text/css\">\n",
       "#T_9286e th {\n",
       "  text-align: left;\n",
       "}\n",
       "#T_9286e td {\n",
       "  text-align: left;\n",
       "}\n",
       "#T_9286e_row0_col0, #T_9286e_row0_col1, #T_9286e_row0_col2, #T_9286e_row0_col3, #T_9286e_row0_col4, #T_9286e_row0_col5, #T_9286e_row0_col6, #T_9286e_row1_col0, #T_9286e_row1_col1, #T_9286e_row1_col2, #T_9286e_row1_col3, #T_9286e_row1_col4, #T_9286e_row1_col5, #T_9286e_row1_col6, #T_9286e_row2_col0, #T_9286e_row2_col1, #T_9286e_row2_col2, #T_9286e_row2_col3, #T_9286e_row2_col4, #T_9286e_row2_col5, #T_9286e_row2_col6, #T_9286e_row3_col0, #T_9286e_row3_col1, #T_9286e_row3_col2, #T_9286e_row3_col3, #T_9286e_row3_col4, #T_9286e_row3_col5, #T_9286e_row3_col6, #T_9286e_row4_col0, #T_9286e_row4_col1, #T_9286e_row4_col2, #T_9286e_row4_col3, #T_9286e_row4_col4, #T_9286e_row4_col5, #T_9286e_row4_col6, #T_9286e_row5_col0, #T_9286e_row5_col1, #T_9286e_row5_col2, #T_9286e_row5_col3, #T_9286e_row5_col4, #T_9286e_row5_col5, #T_9286e_row5_col6, #T_9286e_row6_col0, #T_9286e_row6_col1, #T_9286e_row6_col2, #T_9286e_row6_col3, #T_9286e_row6_col4, #T_9286e_row6_col5, #T_9286e_row6_col6, #T_9286e_row7_col0, #T_9286e_row7_col1, #T_9286e_row7_col2, #T_9286e_row7_col3, #T_9286e_row7_col4, #T_9286e_row7_col5, #T_9286e_row7_col6, #T_9286e_row8_col0, #T_9286e_row8_col1, #T_9286e_row8_col2, #T_9286e_row8_col3, #T_9286e_row8_col4, #T_9286e_row8_col5, #T_9286e_row8_col6, #T_9286e_row9_col0, #T_9286e_row9_col1, #T_9286e_row9_col2, #T_9286e_row9_col3, #T_9286e_row9_col4, #T_9286e_row9_col5, #T_9286e_row9_col6 {\n",
       "  text-align: left;\n",
       "  white-space: pre-wrap;\n",
       "  word-wrap: break-word;\n",
       "  max-width: 400px;\n",
       "}\n",
       "</style>\n",
       "<table id=\"T_9286e\">\n",
       "  <thead>\n",
       "    <tr>\n",
       "      <th class=\"blank level0\" >&nbsp;</th>\n",
       "      <th id=\"T_9286e_level0_col0\" class=\"col_heading level0 col0\" >question</th>\n",
       "      <th id=\"T_9286e_level0_col1\" class=\"col_heading level0 col1\" >op_file</th>\n",
       "      <th id=\"T_9286e_level0_col2\" class=\"col_heading level0 col2\" >example_answer</th>\n",
       "      <th id=\"T_9286e_level0_col3\" class=\"col_heading level0 col3\" >rationale</th>\n",
       "      <th id=\"T_9286e_level0_col4\" class=\"col_heading level0 col4\" >pred_answer</th>\n",
       "      <th id=\"T_9286e_level0_col5\" class=\"col_heading level0 col5\" >grep_metric</th>\n",
       "      <th id=\"T_9286e_level0_col6\" class=\"col_heading level0 col6\" >answer</th>\n",
       "    </tr>\n",
       "  </thead>\n",
       "  <tbody>\n",
       "    <tr>\n",
       "      <th id=\"T_9286e_level0_row0\" class=\"row_heading level0 row0\" >0</th>\n",
       "      <td id=\"T_9286e_row0_col0\" class=\"data row0 col0\" >Display lines containing `an` from the `sample.txt` input file.</td>\n",
       "      <td id=\"T_9286e_row0_col1\" class=\"data row0 col1\" >banana\n",
       "mango\n",
       "</td>\n",
       "      <td id=\"T_9286e_row0_col2\" class=\"data row0 col2\" >grep 'an' sample.txt</td>\n",
       "      <td id=\"T_9286e_row0_col3\" class=\"data row0 col3\" >produce the answer. We need to use the `grep` command with a regular expression that matches any line starting with `an`. The regular expression pattern...</td>\n",
       "      <td id=\"T_9286e_row0_col4\" class=\"data row0 col4\" >grep -f \"sample.txt\" an</td>\n",
       "      <td id=\"T_9286e_row0_col5\" class=\"data row0 col5\" >0.0</td>\n",
       "      <td id=\"T_9286e_row0_col6\" class=\"data row0 col6\" >nan</td>\n",
       "    </tr>\n",
       "    <tr>\n",
       "      <th id=\"T_9286e_level0_row1\" class=\"row_heading level0 row1\" >1</th>\n",
       "      <td id=\"T_9286e_row1_col0\" class=\"data row1 col0\" >Display lines containing `do` as a whole word from the `sample.txt` input file.</td>\n",
       "      <td id=\"T_9286e_row1_col1\" class=\"data row1 col1\" >Just do-it\n",
       "</td>\n",
       "      <td id=\"T_9286e_row1_col2\" class=\"data row1 col2\" >grep -w 'do' sample.txt</td>\n",
       "      <td id=\"T_9286e_row1_col3\" class=\"data row1 col3\" >produce the answer. We need to use the `grep` command with the `-o` option to only output the matching line and the `-P` option to...</td>\n",
       "      <td id=\"T_9286e_row1_col4\" class=\"data row1 col4\" >grep -o -P 'do' sample.txt</td>\n",
       "      <td id=\"T_9286e_row1_col5\" class=\"data row1 col5\" >✔️ [0.2]</td>\n",
       "      <td id=\"T_9286e_row1_col6\" class=\"data row1 col6\" >nan</td>\n",
       "    </tr>\n",
       "    <tr>\n",
       "      <th id=\"T_9286e_level0_row2\" class=\"row_heading level0 row2\" >2</th>\n",
       "      <td id=\"T_9286e_row2_col0\" class=\"data row2 col0\" >Display lines from `sample.txt` that satisfy both of these conditions:\n",
       "\n",
       "* `he` matched irrespective of case\n",
       "* either `World` or `Hi` matched case sensitively</td>\n",
       "      <td id=\"T_9286e_row2_col1\" class=\"data row2 col1\" >Hello World\n",
       "Hi there\n",
       "</td>\n",
       "      <td id=\"T_9286e_row2_col2\" class=\"data row2 col2\" >grep -i 'he' sample.txt | grep -e 'World' -e 'Hi'</td>\n",
       "      <td id=\"T_9286e_row2_col3\" class=\"data row2 col3\" >produce the answer. We need to use the grep command with the `-v` option to ignore case sensitivity and the `-E` option to match both...</td>\n",
       "      <td id=\"T_9286e_row2_col4\" class=\"data row2 col4\" >grep -v -E \"he|World|Hi\"</td>\n",
       "      <td id=\"T_9286e_row2_col5\" class=\"data row2 col5\" >0.0</td>\n",
       "      <td id=\"T_9286e_row2_col6\" class=\"data row2 col6\" >nan</td>\n",
       "    </tr>\n",
       "    <tr>\n",
       "      <th id=\"T_9286e_level0_row3\" class=\"row_heading level0 row3\" >3</th>\n",
       "      <td id=\"T_9286e_row3_col0\" class=\"data row3 col0\" >Display lines from `code.txt` containing `fruit[0]` literally.</td>\n",
       "      <td id=\"T_9286e_row3_col1\" class=\"data row3 col1\" >fruit[0] = 'apple'\n",
       "</td>\n",
       "      <td id=\"T_9286e_row3_col2\" class=\"data row3 col2\" >grep -F 'fruit[0]' code.txt</td>\n",
       "      <td id=\"T_9286e_row3_col3\" class=\"data row3 col3\" >${grep -E 'fruit[0]' code.txt}</td>\n",
       "      <td id=\"T_9286e_row3_col4\" class=\"data row3 col4\" >```bash\n",
       "grep -E 'fruit[0]' code.txt\n",
       "```</td>\n",
       "      <td id=\"T_9286e_row3_col5\" class=\"data row3 col5\" >0.0</td>\n",
       "      <td id=\"T_9286e_row3_col6\" class=\"data row3 col6\" >nan</td>\n",
       "    </tr>\n",
       "    <tr>\n",
       "      <th id=\"T_9286e_level0_row4\" class=\"row_heading level0 row4\" >4</th>\n",
       "      <td id=\"T_9286e_row4_col0\" class=\"data row4 col0\" >Display only the first two matching lines containing `t` from the `sample.txt` input file.</td>\n",
       "      <td id=\"T_9286e_row4_col1\" class=\"data row4 col1\" >Hi there\n",
       "Just do-it\n",
       "</td>\n",
       "      <td id=\"T_9286e_row4_col2\" class=\"data row4 col2\" >grep -m2 't' sample.txt</td>\n",
       "      <td id=\"T_9286e_row4_col3\" class=\"data row4 col3\" >produce the answer. We need to use the `grep` command with a regular expression that matches any line starting with `t` and ending with `t`....</td>\n",
       "      <td id=\"T_9286e_row4_col4\" class=\"data row4 col4\" >grep -E '^t.*t$' sample.txt</td>\n",
       "      <td id=\"T_9286e_row4_col5\" class=\"data row4 col5\" >✔️ [0.2]</td>\n",
       "      <td id=\"T_9286e_row4_col6\" class=\"data row4 col6\" >nan</td>\n",
       "    </tr>\n",
       "    <tr>\n",
       "      <th id=\"T_9286e_level0_row5\" class=\"row_heading level0 row5\" >5</th>\n",
       "      <td id=\"T_9286e_row5_col0\" class=\"data row5 col0\" >Display only the first three matching lines that do *not* contain `he` from the `sample.txt` input file.</td>\n",
       "      <td id=\"T_9286e_row5_col1\" class=\"data row5 col1\" >Hello World\n",
       "\n",
       "How are you\n",
       "</td>\n",
       "      <td id=\"T_9286e_row5_col2\" class=\"data row5 col2\" >grep -m3 -v 'he' sample.txt</td>\n",
       "      <td id=\"T_9286e_row5_col3\" class=\"data row5 col3\" >produce the answer. We need to use the `grep` command with a regular expression to match only the lines that do not contain `he`. The...</td>\n",
       "      <td id=\"T_9286e_row5_col4\" class=\"data row5 col4\" >grep -v \"^he$\" sample.txt</td>\n",
       "      <td id=\"T_9286e_row5_col5\" class=\"data row5 col5\" >✔️ [0.2]</td>\n",
       "      <td id=\"T_9286e_row5_col6\" class=\"data row5 col6\" >nan</td>\n",
       "    </tr>\n",
       "    <tr>\n",
       "      <th id=\"T_9286e_level0_row6\" class=\"row_heading level0 row6\" >6</th>\n",
       "      <td id=\"T_9286e_row6_col0\" class=\"data row6 col0\" >Display lines from `sample.txt` that contain `do` along with line number prefix.</td>\n",
       "      <td id=\"T_9286e_row6_col1\" class=\"data row6 col1\" >6:Just do-it\n",
       "13:Much ado about nothing\n",
       "</td>\n",
       "      <td id=\"T_9286e_row6_col2\" class=\"data row6 col2\" >grep -n 'do' sample.txt</td>\n",
       "      <td id=\"T_9286e_row6_col3\" class=\"data row6 col3\" >produce the answer. We need to use the `grep` command with a regular expression to find lines containing `do` and their corresponding line numbers. ---...</td>\n",
       "      <td id=\"T_9286e_row6_col4\" class=\"data row6 col4\" >grep -E 'do' sample.txt 10</td>\n",
       "      <td id=\"T_9286e_row6_col5\" class=\"data row6 col5\" >0.0</td>\n",
       "      <td id=\"T_9286e_row6_col6\" class=\"data row6 col6\" >nan</td>\n",
       "    </tr>\n",
       "    <tr>\n",
       "      <th id=\"T_9286e_level0_row7\" class=\"row_heading level0 row7\" >7</th>\n",
       "      <td id=\"T_9286e_row7_col0\" class=\"data row7 col0\" >For the input file `sample.txt`, count the number of times the string `he` is present, irrespective of case.</td>\n",
       "      <td id=\"T_9286e_row7_col1\" class=\"data row7 col1\" >5\n",
       "</td>\n",
       "      <td id=\"T_9286e_row7_col2\" class=\"data row7 col2\" >grep -io 'he' sample.txt | wc -l</td>\n",
       "      <td id=\"T_9286e_row7_col3\" class=\"data row7 col3\" >Count the number of times the string \"he\" is present, regardless of case. We can use the following command:\n",
       "\n",
       "```bash\n",
       "grep -c 'he' sample.txt\n",
       "```</td>\n",
       "      <td id=\"T_9286e_row7_col4\" class=\"data row7 col4\" >The grep command will output the count of occurrences of the word \"he\" in the file `sample.txt`.</td>\n",
       "      <td id=\"T_9286e_row7_col5\" class=\"data row7 col5\" >✔️ [0.6]</td>\n",
       "      <td id=\"T_9286e_row7_col6\" class=\"data row7 col6\" >nan</td>\n",
       "    </tr>\n",
       "    <tr>\n",
       "      <th id=\"T_9286e_level0_row8\" class=\"row_heading level0 row8\" >8</th>\n",
       "      <td id=\"T_9286e_row8_col0\" class=\"data row8 col0\" >For the input file `sample.txt`, count the number of empty lines.</td>\n",
       "      <td id=\"T_9286e_row8_col1\" class=\"data row8 col1\" >4\n",
       "</td>\n",
       "      <td id=\"T_9286e_row8_col2\" class=\"data row8 col2\" >grep -cx '' sample.txt</td>\n",
       "      <td id=\"T_9286e_row8_col3\" class=\"data row8 col3\" >Count the number of empty lines in the sample.txt file using the `grep` command. --- Question: grep -n 1 sample.txt Reasoning: Let's think step by...</td>\n",
       "      <td id=\"T_9286e_row8_col4\" class=\"data row8 col4\" >The output of the `grep` command would be:\n",
       "\n",
       "```\n",
       "sample.txt\n",
       "```</td>\n",
       "      <td id=\"T_9286e_row8_col5\" class=\"data row8 col5\" >0.0</td>\n",
       "      <td id=\"T_9286e_row8_col6\" class=\"data row8 col6\" >nan</td>\n",
       "    </tr>\n",
       "    <tr>\n",
       "      <th id=\"T_9286e_level0_row9\" class=\"row_heading level0 row9\" >9</th>\n",
       "      <td id=\"T_9286e_row9_col0\" class=\"data row9 col0\" >For the input files `sample.txt` and `code.txt`, display matching lines based on the search terms (one per line) present in the `terms.txt` file. Results should...</td>\n",
       "      <td id=\"T_9286e_row9_col1\" class=\"data row9 col1\" >sample.txt:How are you\n",
       "sample.txt:mango\n",
       "sample.txt:Much ado about nothing\n",
       "sample.txt:Adios amigo\n",
       "code.txt:fruit[0] = 'apple'\n",
       "</td>\n",
       "      <td id=\"T_9286e_row9_col2\" class=\"data row9 col2\" >grep -Ff terms.txt sample.txt code.txt</td>\n",
       "      <td id=\"T_9286e_row9_col3\" class=\"data row9 col3\" >produce the answer. Question: For the input files `sample.txt` and `code.txt`, display matching lines based on the search terms (one per line) present in the...</td>\n",
       "      <td id=\"T_9286e_row9_col4\" class=\"data row9 col4\" >The output will be the matching lines based on the search terms (one per line) present in the `terms.txt` file. The `-E` option enables extended...</td>\n",
       "      <td id=\"T_9286e_row9_col5\" class=\"data row9 col5\" >✔️ [0.4]</td>\n",
       "      <td id=\"T_9286e_row9_col6\" class=\"data row9 col6\" >nan</td>\n",
       "    </tr>\n",
       "  </tbody>\n",
       "</table>\n"
      ],
      "text/plain": [
       "<pandas.io.formats.style.Styler at 0x2b4a68200a0>"
      ]
     },
     "metadata": {},
     "output_type": "display_data"
    },
    {
     "data": {
      "text/html": [
       "\n",
       "                <div style='\n",
       "                    text-align: center;\n",
       "                    font-size: 16px;\n",
       "                    font-weight: bold;\n",
       "                    color: #555;\n",
       "                    margin: 10px 0;'>\n",
       "                    ... 20 more rows not displayed ...\n",
       "                </div>\n",
       "                "
      ],
      "text/plain": [
       "<IPython.core.display.HTML object>"
      ]
     },
     "metadata": {},
     "output_type": "display_data"
    },
    {
     "data": {
      "text/plain": [
       "18.0"
      ]
     },
     "execution_count": 29,
     "metadata": {},
     "output_type": "execute_result"
    }
   ],
   "source": [
    "evaluator(generate_answer_cot, metric=grep_metric)"
   ]
  },
  {
   "cell_type": "code",
   "execution_count": 30,
   "id": "c97b1d6a-be4a-4e24-8b5b-2187bddc55fd",
   "metadata": {},
   "outputs": [
    {
     "data": {
      "text/plain": [
       "Example({'question': \"List all files in the 'lib' directory that contain the string '#include', case insensitive, using extended regular expressions and recursively searching subdirectories.\", 'answer': 'grep -E -r -i -l \"#include\" lib*'}) (input_keys={'question'})"
      ]
     },
     "execution_count": 30,
     "metadata": {},
     "output_type": "execute_result"
    }
   ],
   "source": [
    "grep_trainset_small[0]"
   ]
  },
  {
   "cell_type": "markdown",
   "id": "1873b561-813c-42bc-9211-2f75d920b84c",
   "metadata": {},
   "source": [
    "### Optimize with CoT BootstrapFewShotWithRandomSearch"
   ]
  },
  {
   "cell_type": "markdown",
   "id": "37f6df2f-88e1-4214-b47e-d89a3eef2210",
   "metadata": {},
   "source": [
    "Uses teacher LM to generate examples and some from train set to create optimal few shot"
   ]
  },
  {
   "cell_type": "code",
   "execution_count": 31,
   "id": "49f1ca84-b9bc-4b52-9831-5b276641579c",
   "metadata": {},
   "outputs": [],
   "source": [
    "pred = GrepBOI()(question=grep_trainset_small[1].question)"
   ]
  },
  {
   "cell_type": "code",
   "execution_count": 32,
   "id": "397feba2-baa7-4314-85a5-edd4d6c6f8a5",
   "metadata": {},
   "outputs": [
    {
     "name": "stdout",
     "output_type": "stream",
     "text": [
      "Prediction(\n",
      "    answer=\"```bash\\ngrep -E 'Education' /home/user/documents\\n```\"\n",
      ")\n"
     ]
    }
   ],
   "source": [
    "print(pred)"
   ]
  },
  {
   "cell_type": "code",
   "execution_count": 33,
   "id": "02994d15-6142-41ec-bc40-32364af73412",
   "metadata": {},
   "outputs": [],
   "source": [
    "from dspy.teleprompt import BootstrapFewShotWithRandomSearch\n",
    "\n",
    "import os\n",
    "\n",
    "save_path = './qwen5BRandomSearch.json'\n",
    "\n",
    "qwen_bootstrap = None\n",
    "\n",
    "# Check if the file exists\n",
    "if os.path.exists(save_path):\n",
    "    qwen_bootstrap = GrepBOIcot()\n",
    "    qwen_bootstrap.load(path=save_path)\n",
    "else:\n",
    "    config_few = dict(max_bootstrapped_demos=3, max_labeled_demos=3, num_candidate_programs=3, num_threads=1, teacher_settings=dict({'lm': gpt4o}))\n",
    "    # config_few = dict(max_bootstrapped_demos=2, max_labeled_demos=2)\n",
    "    \n",
    "    tp_qwen_boot = BootstrapFewShotWithRandomSearch(metric=grep_metric, **config_few)\n",
    "    \n",
    "    qwen_bootstrap = tp_qwen_boot.compile(GrepBOIcot(), trainset=grep_trainset_small, )\n",
    "    qwen_bootstrap.save(save_path)\n"
   ]
  },
  {
   "cell_type": "code",
   "execution_count": 34,
   "id": "62bc81c7-395e-4b6d-96db-c36d2fcebb00",
   "metadata": {},
   "outputs": [
    {
     "name": "stdout",
     "output_type": "stream",
     "text": [
      "Average Metric: 3.600000000000001 / 30  (12.0): 100%|██████████████████| 30/30 [02:11<00:00,  4.38s/it]\n"
     ]
    },
    {
     "data": {
      "text/html": [
       "<style type=\"text/css\">\n",
       "#T_8834d th {\n",
       "  text-align: left;\n",
       "}\n",
       "#T_8834d td {\n",
       "  text-align: left;\n",
       "}\n",
       "#T_8834d_row0_col0, #T_8834d_row0_col1, #T_8834d_row0_col2, #T_8834d_row0_col3, #T_8834d_row0_col4, #T_8834d_row0_col5, #T_8834d_row1_col0, #T_8834d_row1_col1, #T_8834d_row1_col2, #T_8834d_row1_col3, #T_8834d_row1_col4, #T_8834d_row1_col5, #T_8834d_row2_col0, #T_8834d_row2_col1, #T_8834d_row2_col2, #T_8834d_row2_col3, #T_8834d_row2_col4, #T_8834d_row2_col5, #T_8834d_row3_col0, #T_8834d_row3_col1, #T_8834d_row3_col2, #T_8834d_row3_col3, #T_8834d_row3_col4, #T_8834d_row3_col5, #T_8834d_row4_col0, #T_8834d_row4_col1, #T_8834d_row4_col2, #T_8834d_row4_col3, #T_8834d_row4_col4, #T_8834d_row4_col5, #T_8834d_row5_col0, #T_8834d_row5_col1, #T_8834d_row5_col2, #T_8834d_row5_col3, #T_8834d_row5_col4, #T_8834d_row5_col5, #T_8834d_row6_col0, #T_8834d_row6_col1, #T_8834d_row6_col2, #T_8834d_row6_col3, #T_8834d_row6_col4, #T_8834d_row6_col5, #T_8834d_row7_col0, #T_8834d_row7_col1, #T_8834d_row7_col2, #T_8834d_row7_col3, #T_8834d_row7_col4, #T_8834d_row7_col5, #T_8834d_row8_col0, #T_8834d_row8_col1, #T_8834d_row8_col2, #T_8834d_row8_col3, #T_8834d_row8_col4, #T_8834d_row8_col5, #T_8834d_row9_col0, #T_8834d_row9_col1, #T_8834d_row9_col2, #T_8834d_row9_col3, #T_8834d_row9_col4, #T_8834d_row9_col5 {\n",
       "  text-align: left;\n",
       "  white-space: pre-wrap;\n",
       "  word-wrap: break-word;\n",
       "  max-width: 400px;\n",
       "}\n",
       "</style>\n",
       "<table id=\"T_8834d\">\n",
       "  <thead>\n",
       "    <tr>\n",
       "      <th class=\"blank level0\" >&nbsp;</th>\n",
       "      <th id=\"T_8834d_level0_col0\" class=\"col_heading level0 col0\" >question</th>\n",
       "      <th id=\"T_8834d_level0_col1\" class=\"col_heading level0 col1\" >op_file</th>\n",
       "      <th id=\"T_8834d_level0_col2\" class=\"col_heading level0 col2\" >example_answer</th>\n",
       "      <th id=\"T_8834d_level0_col3\" class=\"col_heading level0 col3\" >rationale</th>\n",
       "      <th id=\"T_8834d_level0_col4\" class=\"col_heading level0 col4\" >pred_answer</th>\n",
       "      <th id=\"T_8834d_level0_col5\" class=\"col_heading level0 col5\" >grep_metric</th>\n",
       "    </tr>\n",
       "  </thead>\n",
       "  <tbody>\n",
       "    <tr>\n",
       "      <th id=\"T_8834d_level0_row0\" class=\"row_heading level0 row0\" >0</th>\n",
       "      <td id=\"T_8834d_row0_col0\" class=\"data row0 col0\" >Display lines containing `an` from the `sample.txt` input file.</td>\n",
       "      <td id=\"T_8834d_row0_col1\" class=\"data row0 col1\" >banana\n",
       "mango\n",
       "</td>\n",
       "      <td id=\"T_8834d_row0_col2\" class=\"data row0 col2\" >grep 'an' sample.txt</td>\n",
       "      <td id=\"T_8834d_row0_col3\" class=\"data row0 col3\" >find the line that contains `an` and display it along with the context before and after each match. The `-v` option is used to show...</td>\n",
       "      <td id=\"T_8834d_row0_col4\" class=\"data row0 col4\" >find /home/user/sample.txt -v 1 -e 'an'</td>\n",
       "      <td id=\"T_8834d_row0_col5\" class=\"data row0 col5\" >0.0</td>\n",
       "    </tr>\n",
       "    <tr>\n",
       "      <th id=\"T_8834d_level0_row1\" class=\"row_heading level0 row1\" >1</th>\n",
       "      <td id=\"T_8834d_row1_col0\" class=\"data row1 col0\" >Display lines containing `do` as a whole word from the `sample.txt` input file.</td>\n",
       "      <td id=\"T_8834d_row1_col1\" class=\"data row1 col1\" >Just do-it\n",
       "</td>\n",
       "      <td id=\"T_8834d_row1_col2\" class=\"data row1 col2\" >grep -w 'do' sample.txt</td>\n",
       "      <td id=\"T_8834d_row1_col3\" class=\"data row1 col3\" >find the line that contains `do` as a whole word. The `-o` option is used to display only the matching words, and the `-w` option...</td>\n",
       "      <td id=\"T_8834d_row1_col4\" class=\"data row1 col4\" >find /mnt/sample.txt -o -w \"do\"</td>\n",
       "      <td id=\"T_8834d_row1_col5\" class=\"data row1 col5\" >0.0</td>\n",
       "    </tr>\n",
       "    <tr>\n",
       "      <th id=\"T_8834d_level0_row2\" class=\"row_heading level0 row2\" >2</th>\n",
       "      <td id=\"T_8834d_row2_col0\" class=\"data row2 col0\" >Display lines from `sample.txt` that satisfy both of these conditions:\n",
       "\n",
       "* `he` matched irrespective of case\n",
       "* either `World` or `Hi` matched case sensitively</td>\n",
       "      <td id=\"T_8834d_row2_col1\" class=\"data row2 col1\" >Hello World\n",
       "Hi there\n",
       "</td>\n",
       "      <td id=\"T_8834d_row2_col2\" class=\"data row2 col2\" >grep -i 'he' sample.txt | grep -e 'World' -e 'Hi'</td>\n",
       "      <td id=\"T_8834d_row2_col3\" class=\"data row2 col3\" >find the lines from `sample.txt` that satisfy both conditions. We need to use the grep command with options `-v` (case-insensitive search) and `-E` (extended regex)....</td>\n",
       "      <td id=\"T_8834d_row2_col4\" class=\"data row2 col4\" >grep -vE \"he\" /home/user/sample.txt</td>\n",
       "      <td id=\"T_8834d_row2_col5\" class=\"data row2 col5\" >0.0</td>\n",
       "    </tr>\n",
       "    <tr>\n",
       "      <th id=\"T_8834d_level0_row3\" class=\"row_heading level0 row3\" >3</th>\n",
       "      <td id=\"T_8834d_row3_col0\" class=\"data row3 col0\" >Display lines from `code.txt` containing `fruit[0]` literally.</td>\n",
       "      <td id=\"T_8834d_row3_col1\" class=\"data row3 col1\" >fruit[0] = 'apple'\n",
       "</td>\n",
       "      <td id=\"T_8834d_row3_col2\" class=\"data row3 col2\" >grep -F 'fruit[0]' code.txt</td>\n",
       "      <td id=\"T_8834d_row3_col3\" class=\"data row3 col3\" >find and display lines from `code.txt` that contain the string `fruit[0]`. We need to use the grep command with options `-v` (to ignore case) and...</td>\n",
       "      <td id=\"T_8834d_row3_col4\" class=\"data row3 col4\" >grep -v 'fruit[0]' code.txt</td>\n",
       "      <td id=\"T_8834d_row3_col5\" class=\"data row3 col5\" >0.0</td>\n",
       "    </tr>\n",
       "    <tr>\n",
       "      <th id=\"T_8834d_level0_row4\" class=\"row_heading level0 row4\" >4</th>\n",
       "      <td id=\"T_8834d_row4_col0\" class=\"data row4 col0\" >Display only the first two matching lines containing `t` from the `sample.txt` input file.</td>\n",
       "      <td id=\"T_8834d_row4_col1\" class=\"data row4 col1\" >Hi there\n",
       "Just do-it\n",
       "</td>\n",
       "      <td id=\"T_8834d_row4_col2\" class=\"data row4 col2\" >grep -m2 't' sample.txt</td>\n",
       "      <td id=\"T_8834d_row4_col3\" class=\"data row4 col3\" >find the first two matching lines containing `t` from the `sample.txt` input file. We need to use the grep command with options that will display...</td>\n",
       "      <td id=\"T_8834d_row4_col4\" class=\"data row4 col4\" >grep -e \"t\" sample.txt</td>\n",
       "      <td id=\"T_8834d_row4_col5\" class=\"data row4 col5\" >✔️ [0.4]</td>\n",
       "    </tr>\n",
       "    <tr>\n",
       "      <th id=\"T_8834d_level0_row5\" class=\"row_heading level0 row5\" >5</th>\n",
       "      <td id=\"T_8834d_row5_col0\" class=\"data row5 col0\" >Display only the first three matching lines that do *not* contain `he` from the `sample.txt` input file.</td>\n",
       "      <td id=\"T_8834d_row5_col1\" class=\"data row5 col1\" >Hello World\n",
       "\n",
       "How are you\n",
       "</td>\n",
       "      <td id=\"T_8834d_row5_col2\" class=\"data row5 col2\" >grep -m3 -v 'he' sample.txt</td>\n",
       "      <td id=\"T_8834d_row5_col3\" class=\"data row5 col3\" >find the first line of text containing `he`, then display the first three lines. The `-n 3` option is used to limit the number of...</td>\n",
       "      <td id=\"T_8834d_row5_col4\" class=\"data row5 col4\" >grep -e \"he\" sample.txt</td>\n",
       "      <td id=\"T_8834d_row5_col5\" class=\"data row5 col5\" >0.0</td>\n",
       "    </tr>\n",
       "    <tr>\n",
       "      <th id=\"T_8834d_level0_row6\" class=\"row_heading level0 row6\" >6</th>\n",
       "      <td id=\"T_8834d_row6_col0\" class=\"data row6 col0\" >Display lines from `sample.txt` that contain `do` along with line number prefix.</td>\n",
       "      <td id=\"T_8834d_row6_col1\" class=\"data row6 col1\" >6:Just do-it\n",
       "13:Much ado about nothing\n",
       "</td>\n",
       "      <td id=\"T_8834d_row6_col2\" class=\"data row6 col2\" >grep -n 'do' sample.txt</td>\n",
       "      <td id=\"T_8834d_row6_col3\" class=\"data row6 col3\" >find lines containing `do` and display the line number prefix. The `-v` option is used for verbose mode, which allows us to see more details...</td>\n",
       "      <td id=\"T_8834d_row6_col4\" class=\"data row6 col4\" >grep -v 'php' sample.txt</td>\n",
       "      <td id=\"T_8834d_row6_col5\" class=\"data row6 col5\" >0.0</td>\n",
       "    </tr>\n",
       "    <tr>\n",
       "      <th id=\"T_8834d_level0_row7\" class=\"row_heading level0 row7\" >7</th>\n",
       "      <td id=\"T_8834d_row7_col0\" class=\"data row7 col0\" >For the input file `sample.txt`, count the number of times the string `he` is present, irrespective of case.</td>\n",
       "      <td id=\"T_8834d_row7_col1\" class=\"data row7 col1\" >5\n",
       "</td>\n",
       "      <td id=\"T_8834d_row7_col2\" class=\"data row7 col2\" >grep -io 'he' sample.txt | wc -l</td>\n",
       "      <td id=\"T_8834d_row7_col3\" class=\"data row7 col3\" >count the number of times the string `he` is present, regardless of case. We need to use the grep command with options that will display...</td>\n",
       "      <td id=\"T_8834d_row7_col4\" class=\"data row7 col4\" >grep -c \"he\" sample.txt</td>\n",
       "      <td id=\"T_8834d_row7_col5\" class=\"data row7 col5\" >✔️ [0.4]</td>\n",
       "    </tr>\n",
       "    <tr>\n",
       "      <th id=\"T_8834d_level0_row8\" class=\"row_heading level0 row8\" >8</th>\n",
       "      <td id=\"T_8834d_row8_col0\" class=\"data row8 col0\" >For the input file `sample.txt`, count the number of empty lines.</td>\n",
       "      <td id=\"T_8834d_row8_col1\" class=\"data row8 col1\" >4\n",
       "</td>\n",
       "      <td id=\"T_8834d_row8_col2\" class=\"data row8 col2\" >grep -cx '' sample.txt</td>\n",
       "      <td id=\"T_8834d_row8_col3\" class=\"data row8 col3\" >count the number of empty lines in the given text file. We need to use the `grep` command with options `-v` (to ignore empty lines)...</td>\n",
       "      <td id=\"T_8834d_row8_col4\" class=\"data row8 col4\" >grep -v -c 1 sample.txt</td>\n",
       "      <td id=\"T_8834d_row8_col5\" class=\"data row8 col5\" >0.0</td>\n",
       "    </tr>\n",
       "    <tr>\n",
       "      <th id=\"T_8834d_level0_row9\" class=\"row_heading level0 row9\" >9</th>\n",
       "      <td id=\"T_8834d_row9_col0\" class=\"data row9 col0\" >For the input files `sample.txt` and `code.txt`, display matching lines based on the search terms (one per line) present in the `terms.txt` file. Results should...</td>\n",
       "      <td id=\"T_8834d_row9_col1\" class=\"data row9 col1\" >sample.txt:How are you\n",
       "sample.txt:mango\n",
       "sample.txt:Much ado about nothing\n",
       "sample.txt:Adios amigo\n",
       "code.txt:fruit[0] = 'apple'\n",
       "</td>\n",
       "      <td id=\"T_8834d_row9_col2\" class=\"data row9 col2\" >grep -Ff terms.txt sample.txt code.txt</td>\n",
       "      <td id=\"T_8834d_row9_col3\" class=\"data row9 col3\" >find the lines containing \"ext4\" in the files `sample.txt` and `code.txt`. We need to use the grep command with options that will display the byte...</td>\n",
       "      <td id=\"T_8834d_row9_col4\" class=\"data row9 col4\" >grep -e \"ext4\" /mnt/filesystem</td>\n",
       "      <td id=\"T_8834d_row9_col5\" class=\"data row9 col5\" >0.0</td>\n",
       "    </tr>\n",
       "  </tbody>\n",
       "</table>\n"
      ],
      "text/plain": [
       "<pandas.io.formats.style.Styler at 0x2b4a67bd780>"
      ]
     },
     "metadata": {},
     "output_type": "display_data"
    },
    {
     "data": {
      "text/html": [
       "\n",
       "                <div style='\n",
       "                    text-align: center;\n",
       "                    font-size: 16px;\n",
       "                    font-weight: bold;\n",
       "                    color: #555;\n",
       "                    margin: 10px 0;'>\n",
       "                    ... 20 more rows not displayed ...\n",
       "                </div>\n",
       "                "
      ],
      "text/plain": [
       "<IPython.core.display.HTML object>"
      ]
     },
     "metadata": {},
     "output_type": "display_data"
    },
    {
     "data": {
      "text/plain": [
       "12.0"
      ]
     },
     "execution_count": 34,
     "metadata": {},
     "output_type": "execute_result"
    }
   ],
   "source": [
    "evaluator(qwen_bootstrap, metric=grep_metric)"
   ]
  }
 ],
 "metadata": {
  "colab": {
   "provenance": []
  },
  "kernelspec": {
   "display_name": "Python (synth-env)",
   "language": "python",
   "name": "synth-env"
  },
  "language_info": {
   "codemirror_mode": {
    "name": "ipython",
    "version": 3
   },
   "file_extension": ".py",
   "mimetype": "text/x-python",
   "name": "python",
   "nbconvert_exporter": "python",
   "pygments_lexer": "ipython3",
   "version": "3.10.1"
  }
 },
 "nbformat": 4,
 "nbformat_minor": 5
}
